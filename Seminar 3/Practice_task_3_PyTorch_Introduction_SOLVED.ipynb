{
 "cells": [
  {
   "cell_type": "markdown",
   "metadata": {},
   "source": [
    "## Семинар 3 \"Определение ключевых точек лица\""
   ]
  },
  {
   "cell_type": "markdown",
   "metadata": {},
   "source": [
    "ФИО:"
   ]
  },
  {
   "cell_type": "markdown",
   "metadata": {},
   "source": [
    "## Задание"
   ]
  },
  {
   "cell_type": "markdown",
   "metadata": {},
   "source": [
    "Используя датасет из архива решите задачу регрессии для поиска 68-ми ключевых точек лица. \n",
    "\n",
    "Для обучения и валидации используйте изображения и разметку из папок train и test соответственно.\n",
    "\n",
    "Попробуйте сети глубины 1 и 2 и разные активации (ELU, RELU и sigmoid).\n",
    "Для каждой архитектуры постройте графики для функции потерь на train/test"
   ]
  },
  {
   "cell_type": "code",
   "execution_count": 2,
   "metadata": {},
   "outputs": [
    {
     "name": "stdout",
     "output_type": "stream",
     "text": [
      "Image name: 109.jpeg\n",
      "Landmarks shape: (68, 2)\n",
      "First 4 Landmarks: [[ 7. 41.]\n",
      " [ 8. 51.]\n",
      " [10. 60.]\n",
      " [13. 70.]]\n",
      "(96, 96)\n"
     ]
    },
    {
     "data": {
      "image/png": "[encoded data removed]",
      "text/plain": [
       "<Figure size 432x288 with 1 Axes>"
      ]
     },
     "metadata": {
      "needs_background": "light"
     },
     "output_type": "display_data"
    }
   ],
   "source": [
    "%matplotlib inline\n",
    "import os\n",
    "import torch\n",
    "import sys\n",
    "import pandas as pd\n",
    "from skimage import io, transform\n",
    "import numpy as np\n",
    "import matplotlib.pyplot as plt\n",
    "from torch.utils.data import Dataset, DataLoader\n",
    "from torchvision import transforms, utils\n",
    "from torch.nn import MSELoss, Sequential, Linear, Sigmoid, Tanh\n",
    "from torch.autograd import Variable\n",
    "# Ignore warnings\n",
    "import warnings\n",
    "warnings.filterwarnings(\"ignore\")\n",
    "from torch import nn\n",
    "landmarks_frame = pd.read_csv('dataset/train/face_landmarks.csv')\n",
    "\n",
    "n = 100\n",
    "img_name = landmarks_frame.ix[n, 0]\n",
    "landmarks = landmarks_frame.ix[n, 1:].as_matrix().astype('float')\n",
    "landmarks = landmarks.reshape(-1, 2)\n",
    "\n",
    "print('Image name: {}'.format(img_name))\n",
    "print('Landmarks shape: {}'.format(landmarks.shape))\n",
    "print('First 4 Landmarks: {}'.format(landmarks[:4]))\n",
    "\n",
    "def show_landmarks(image, landmarks):\n",
    "    \"\"\"Show image with landmarks\"\"\"\n",
    "    print(image.shape)\n",
    "    plt.imshow(image, cmap='gray')\n",
    "    plt.scatter(landmarks[:, 0], landmarks[:, 1], s=10, marker='.', c='red', cmap='rgb')\n",
    "    plt.pause(0.001)  \n",
    "\n",
    "plt.figure()\n",
    "show_landmarks(io.imread(os.path.join('dataset/train/', img_name)),\n",
    "               landmarks)\n",
    "plt.show()"
   ]
  },
  {
   "cell_type": "code",
   "execution_count": 3,
   "metadata": {},
   "outputs": [],
   "source": [
    "def show_landmarks_batch(sample_batch, y_pred=None):\n",
    "    \"\"\"Show image with landmarks for a batch of samples.\"\"\"\n",
    "    images_batch, landmarks_batch = \\\n",
    "            sample_batch['image'], sample_batch['landmarks']\n",
    "    batch_size = len(images_batch)\n",
    "    im_size = images_batch.size(2)\n",
    "\n",
    "    grid = utils.make_grid(images_batch)\n",
    "    print(images_batch.numpy().shape)\n",
    "    plt.imshow(grid.numpy().transpose(1,0,2).reshape(im_size, -1), cmap=\"gray\")\n",
    "\n",
    "    for i in range(batch_size):\n",
    "        plt.scatter(landmarks_batch[i, :, 0].numpy() + i * im_size,\n",
    "                    landmarks_batch[i, :, 1].numpy(),\n",
    "                    s=10, marker='.', c='r', label='Real')\n",
    "\n",
    "    if type(y_pred) != type(None):\n",
    "        for i in range(batch_size):\n",
    "            plt.scatter(y_pred[i, :, 0] + i * im_size,\n",
    "                        y_pred[i, :, 1],\n",
    "                        s=10, marker='.', c='b',  label='Prediction')\n",
    "        plt.title('Batch from dataloader')\n",
    "    plt.legend()"
   ]
  },
  {
   "cell_type": "code",
   "execution_count": 4,
   "metadata": {},
   "outputs": [],
   "source": [
    "class FaceLandmarksDataset(Dataset):\n",
    "    \"\"\"Face Landmarks dataset.\"\"\"\n",
    "\n",
    "    def __init__(self, csv_file, root_dir, transform=None):\n",
    "        \"\"\"\n",
    "        Args:\n",
    "            csv_file (string): Path to the csv file with annotations.\n",
    "            root_dir (string): Directory with all the images.\n",
    "            transform (callable, optional): Optional transform to be applied\n",
    "                on a sample.\n",
    "        \"\"\"\n",
    "        self.landmarks_frame = pd.read_csv(csv_file)\n",
    "        self.root_dir = root_dir\n",
    "        self.transform = transform\n",
    "\n",
    "    def __len__(self):\n",
    "        return len(self.landmarks_frame)\n",
    "\n",
    "    def __getitem__(self, idx):\n",
    "        img_name = os.path.join(self.root_dir, self.landmarks_frame.iloc[idx, 0])\n",
    "        image = io.imread(img_name)\n",
    "        landmarks = self.landmarks_frame.iloc[idx, 1:].as_matrix().astype('float')\n",
    "        landmarks = landmarks.reshape(-1, 2)\n",
    "        sample = {'image': image, 'landmarks': landmarks}\n",
    "\n",
    "        if self.transform:\n",
    "            sample = self.transform(sample)\n",
    "\n",
    "        return sample"
   ]
  },
  {
   "cell_type": "code",
   "execution_count": 5,
   "metadata": {},
   "outputs": [],
   "source": [
    "class ToTensor(object):\n",
    "    \"\"\"Convert ndarrays in sample to Tensors.\"\"\"\n",
    "\n",
    "    def __call__(self, sample):\n",
    "        image, landmarks = sample['image'], sample['landmarks']\n",
    "\n",
    "        return {'image':  torch.from_numpy(image),\n",
    "                'landmarks': torch.from_numpy(landmarks)}"
   ]
  },
  {
   "cell_type": "code",
   "execution_count": 6,
   "metadata": {},
   "outputs": [],
   "source": [
    "class ToTensor2(object):\n",
    "    \"\"\"Convert ndarrays in sample to Tensors.\"\"\"\n",
    "\n",
    "    def __call__(self, sample):\n",
    "        image, landmarks = sample['image'], sample['landmarks']\n",
    "\n",
    "        return {'image':  torch.from_numpy(image+np.random.randn(96*96).reshape(96, 96)*0.32),\n",
    "                'landmarks': torch.from_numpy(landmarks)}"
   ]
  },
  {
   "cell_type": "code",
   "execution_count": 7,
   "metadata": {},
   "outputs": [],
   "source": [
    "train_dataset = FaceLandmarksDataset(csv_file='dataset/train/face_landmarks.csv',\n",
    "                                     root_dir='dataset/train',\n",
    "                                     transform=ToTensor2()\n",
    "                                     )\n",
    "\n",
    "test_dataset = FaceLandmarksDataset(csv_file='dataset/test/face_landmarks.csv',\n",
    "                                     root_dir='dataset/test',\n",
    "                                     transform=ToTensor()\n",
    "                                     )"
   ]
  },
  {
   "cell_type": "code",
   "execution_count": 8,
   "metadata": {},
   "outputs": [],
   "source": [
    "train_dataloader = DataLoader(train_dataset, batch_size=64,\n",
    "                        shuffle=True, )\n",
    "\n",
    "test_dataloader = DataLoader(test_dataset, batch_size=64,\n",
    "                        shuffle=True)"
   ]
  },
  {
   "cell_type": "code",
   "execution_count": 20,
   "metadata": {},
   "outputs": [],
   "source": [
    "dtype=torch.FloatTensor\n",
    "\n",
    "def train(network, epochs, learning_rate, loss=MSELoss(), optim=torch.optim.Adam):\n",
    "    train_loss_epochs = []\n",
    "    test_loss_epochs = []\n",
    "    optimizer = optim(network.parameters(), lr=learning_rate)\n",
    "    try:\n",
    "        for epoch in range(epochs):\n",
    "            losses = []\n",
    "            accuracies = []\n",
    "            for sample in train_dataloader:\n",
    "                X = sample['image']\n",
    "                print(X.shape,sample['landmarks'].shape)\n",
    "                X = X.view(X.shape[0],1,96,96).type(dtype)\n",
    "                y = sample['landmarks']\n",
    "                y = y.view(y.shape[0], -1).type(dtype)\n",
    "                print(X.shape,y.shape)\n",
    "                prediction = network(X).type(dtype)\n",
    "                print(prediction.shape)\n",
    "                loss_batch = loss(prediction, y)\n",
    "                losses.append(loss_batch.item())\n",
    "                optimizer.zero_grad()\n",
    "                loss_batch.backward()\n",
    "                optimizer.step()\n",
    "  \n",
    "            train_loss_epochs.append(np.mean(losses))\n",
    "            losses = []    \n",
    "            for sample in test_dataloader:\n",
    "                X = sample['image']\n",
    "                X = X.view(X.shape[0],1,96,96).type(dtype)\n",
    "                #X = X.view(X.shape[0], -1).type(dtype)\n",
    "                y = sample['landmarks']\n",
    "                y = y.view(y.shape[0], -1).type(dtype)\n",
    "                \n",
    "                prediction = network(X)\n",
    "                loss_batch = loss(prediction, y)\n",
    "                losses.append(loss_batch.item())\n",
    "                \n",
    "            test_loss_epochs.append(np.mean(losses))\n",
    "            sys.stdout.write('\\rEpoch {0}... (Train/Test) MSE: {1:.3f}/{2:.3f}'.format(\n",
    "                        epoch, train_loss_epochs[-1], test_loss_epochs[-1]))\n",
    "    except KeyboardInterrupt:\n",
    "        pass\n",
    "    plt.figure(figsize=(12, 5))\n",
    "    plt.plot(train_loss_epochs[1:], label='Train')\n",
    "    plt.plot(test_loss_epochs[1:], label='Test')\n",
    "    plt.xlabel('Epochs', fontsize=16)\n",
    "    plt.ylabel('Loss', fontsize=16)\n",
    "    plt.legend(loc=0, fontsize=16)\n",
    "    plt.grid('on')\n",
    "    plt.show()"
   ]
  },
  {
   "cell_type": "code",
   "execution_count": 21,
   "metadata": {},
   "outputs": [],
   "source": [
    "image_size = 96\n",
    "def init_weights(layer):\n",
    "    if type(layer) == nn.Linear:\n",
    "        nn.init.xavier_normal(layer.weight)\n",
    "channels = 1\n",
    "class ConvClassifier(nn.Module):\n",
    "    def __init__(self, image_size):\n",
    "        super().__init__()\n",
    "        self.conv_layers = nn.Sequential(nn.Conv2d(channels, 8, (4,4), padding=(2,2)), nn.ReLU(),\n",
    "                                        nn.MaxPool2d(2),\n",
    "                                         nn.Conv2d(8, 16, (4,4), padding=(2,2)), nn.ReLU(),\n",
    "                                         nn.MaxPool2d(2),\n",
    "                                        nn.Conv2d(16, 32, (4,4), padding=(2,2)),nn.ReLU(),\n",
    "                                        nn.MaxPool2d(2),\n",
    "                                        nn.Conv2d(32, 64, (4,4), padding=1),nn.ReLU(),\n",
    "                                        nn.MaxPool2d(2))\n",
    "        self.linear_layers = nn.Sequential(nn.Linear(40*40, 400),\n",
    "                                           nn.BatchNorm1d(400),\n",
    "                                           nn.ReLU(),nn.Linear(400, 200),nn.ReLU(),\n",
    "                                           nn.BatchNorm1d(200),\n",
    "                                          nn.Linear(200, 2*68))\n",
    "        self.linear_layers.apply(init_weights)\n",
    "        \n",
    "\n",
    "    def forward(self, x):\n",
    "        #print(x.shape)\n",
    "        x = self.conv_layers(x)\n",
    "        x = x.view(x.size(0), -1)\n",
    "        x = self.linear_layers(x)\n",
    "        #print(x.shape)\n",
    "        return x"
   ]
  },
  {
   "cell_type": "code",
   "execution_count": 22,
   "metadata": {},
   "outputs": [],
   "source": [
    "network = ConvClassifier(image_size=96)"
   ]
  },
  {
   "cell_type": "code",
   "execution_count": 27,
   "metadata": {},
   "outputs": [
    {
     "name": "stdout",
     "output_type": "stream",
     "text": [
      "torch.Size([64, 96, 96]) torch.Size([64, 68, 2])\n",
      "torch.Size([64, 1, 96, 96]) torch.Size([64, 136])\n",
      "torch.Size([64, 136])\n",
      "torch.Size([64, 96, 96]) torch.Size([64, 68, 2])\n",
      "torch.Size([64, 1, 96, 96]) torch.Size([64, 136])\n",
      "torch.Size([64, 136])\n",
      "torch.Size([64, 96, 96]) torch.Size([64, 68, 2])\n",
      "torch.Size([64, 1, 96, 96]) torch.Size([64, 136])\n",
      "torch.Size([64, 136])\n",
      "torch.Size([64, 96, 96]) torch.Size([64, 68, 2])\n",
      "torch.Size([64, 1, 96, 96]) torch.Size([64, 136])\n",
      "torch.Size([64, 136])\n",
      "torch.Size([64, 96, 96]) torch.Size([64, 68, 2])\n",
      "torch.Size([64, 1, 96, 96]) torch.Size([64, 136])\n",
      "torch.Size([64, 136])\n",
      "torch.Size([64, 96, 96]) torch.Size([64, 68, 2])\n",
      "torch.Size([64, 1, 96, 96]) torch.Size([64, 136])\n",
      "torch.Size([64, 136])\n",
      "torch.Size([64, 96, 96]) torch.Size([64, 68, 2])\n",
      "torch.Size([64, 1, 96, 96]) torch.Size([64, 136])\n",
      "torch.Size([64, 136])\n",
      "torch.Size([64, 96, 96]) torch.Size([64, 68, 2])\n",
      "torch.Size([64, 1, 96, 96]) torch.Size([64, 136])\n",
      "torch.Size([64, 136])\n",
      "torch.Size([64, 96, 96]) torch.Size([64, 68, 2])\n",
      "torch.Size([64, 1, 96, 96]) torch.Size([64, 136])\n",
      "torch.Size([64, 136])\n",
      "torch.Size([64, 96, 96]) torch.Size([64, 68, 2])\n",
      "torch.Size([64, 1, 96, 96]) torch.Size([64, 136])\n",
      "torch.Size([64, 136])\n",
      "torch.Size([64, 96, 96]) torch.Size([64, 68, 2])\n",
      "torch.Size([64, 1, 96, 96]) torch.Size([64, 136])\n",
      "torch.Size([64, 136])\n",
      "torch.Size([64, 96, 96]) torch.Size([64, 68, 2])\n",
      "torch.Size([64, 1, 96, 96]) torch.Size([64, 136])\n",
      "torch.Size([64, 136])\n",
      "torch.Size([64, 96, 96]) torch.Size([64, 68, 2])\n",
      "torch.Size([64, 1, 96, 96]) torch.Size([64, 136])\n",
      "torch.Size([64, 136])\n",
      "torch.Size([64, 96, 96]) torch.Size([64, 68, 2])\n",
      "torch.Size([64, 1, 96, 96]) torch.Size([64, 136])\n",
      "torch.Size([64, 136])\n",
      "torch.Size([64, 96, 96]) torch.Size([64, 68, 2])\n",
      "torch.Size([64, 1, 96, 96]) torch.Size([64, 136])\n",
      "torch.Size([64, 136])\n",
      "torch.Size([64, 96, 96]) torch.Size([64, 68, 2])\n",
      "torch.Size([64, 1, 96, 96]) torch.Size([64, 136])\n",
      "torch.Size([64, 136])\n",
      "torch.Size([64, 96, 96]) torch.Size([64, 68, 2])\n",
      "torch.Size([64, 1, 96, 96]) torch.Size([64, 136])\n",
      "torch.Size([64, 136])\n",
      "torch.Size([64, 96, 96]) torch.Size([64, 68, 2])\n",
      "torch.Size([64, 1, 96, 96]) torch.Size([64, 136])\n",
      "torch.Size([64, 136])\n",
      "torch.Size([64, 96, 96]) torch.Size([64, 68, 2])\n",
      "torch.Size([64, 1, 96, 96]) torch.Size([64, 136])\n",
      "torch.Size([64, 136])\n",
      "torch.Size([64, 96, 96]) torch.Size([64, 68, 2])\n",
      "torch.Size([64, 1, 96, 96]) torch.Size([64, 136])\n",
      "torch.Size([64, 136])\n",
      "torch.Size([64, 96, 96]) torch.Size([64, 68, 2])\n",
      "torch.Size([64, 1, 96, 96]) torch.Size([64, 136])\n",
      "torch.Size([64, 136])\n",
      "torch.Size([64, 96, 96]) torch.Size([64, 68, 2])\n",
      "torch.Size([64, 1, 96, 96]) torch.Size([64, 136])\n",
      "torch.Size([64, 136])\n",
      "torch.Size([64, 96, 96]) torch.Size([64, 68, 2])\n",
      "torch.Size([64, 1, 96, 96]) torch.Size([64, 136])\n",
      "torch.Size([64, 136])\n",
      "torch.Size([64, 96, 96]) torch.Size([64, 68, 2])\n",
      "torch.Size([64, 1, 96, 96]) torch.Size([64, 136])\n",
      "torch.Size([64, 136])\n",
      "torch.Size([64, 96, 96]) torch.Size([64, 68, 2])\n",
      "torch.Size([64, 1, 96, 96]) torch.Size([64, 136])\n",
      "torch.Size([64, 136])\n",
      "torch.Size([64, 96, 96]) torch.Size([64, 68, 2])\n",
      "torch.Size([64, 1, 96, 96]) torch.Size([64, 136])\n",
      "torch.Size([64, 136])\n",
      "torch.Size([64, 96, 96]) torch.Size([64, 68, 2])\n",
      "torch.Size([64, 1, 96, 96]) torch.Size([64, 136])\n",
      "torch.Size([64, 136])\n",
      "torch.Size([64, 96, 96]) torch.Size([64, 68, 2])\n",
      "torch.Size([64, 1, 96, 96]) torch.Size([64, 136])\n",
      "torch.Size([64, 136])\n",
      "torch.Size([64, 96, 96]) torch.Size([64, 68, 2])\n",
      "torch.Size([64, 1, 96, 96]) torch.Size([64, 136])\n",
      "torch.Size([64, 136])\n",
      "torch.Size([64, 96, 96]) torch.Size([64, 68, 2])\n",
      "torch.Size([64, 1, 96, 96]) torch.Size([64, 136])\n",
      "torch.Size([64, 136])\n",
      "torch.Size([64, 96, 96]) torch.Size([64, 68, 2])\n",
      "torch.Size([64, 1, 96, 96]) torch.Size([64, 136])\n",
      "torch.Size([64, 136])\n",
      "torch.Size([64, 96, 96]) torch.Size([64, 68, 2])\n",
      "torch.Size([64, 1, 96, 96]) torch.Size([64, 136])\n",
      "torch.Size([64, 136])\n",
      "torch.Size([64, 96, 96]) torch.Size([64, 68, 2])\n",
      "torch.Size([64, 1, 96, 96]) torch.Size([64, 136])\n",
      "torch.Size([64, 136])\n",
      "torch.Size([64, 96, 96]) torch.Size([64, 68, 2])\n",
      "torch.Size([64, 1, 96, 96]) torch.Size([64, 136])\n",
      "torch.Size([64, 136])\n",
      "torch.Size([64, 96, 96]) torch.Size([64, 68, 2])\n",
      "torch.Size([64, 1, 96, 96]) torch.Size([64, 136])\n",
      "torch.Size([64, 136])\n",
      "torch.Size([64, 96, 96]) torch.Size([64, 68, 2])\n",
      "torch.Size([64, 1, 96, 96]) torch.Size([64, 136])\n",
      "torch.Size([64, 136])\n",
      "torch.Size([64, 96, 96]) torch.Size([64, 68, 2])\n",
      "torch.Size([64, 1, 96, 96]) torch.Size([64, 136])\n",
      "torch.Size([64, 136])\n",
      "torch.Size([64, 96, 96]) torch.Size([64, 68, 2])\n",
      "torch.Size([64, 1, 96, 96]) torch.Size([64, 136])\n",
      "torch.Size([64, 136])\n",
      "torch.Size([64, 96, 96]) torch.Size([64, 68, 2])\n",
      "torch.Size([64, 1, 96, 96]) torch.Size([64, 136])\n",
      "torch.Size([64, 136])\n",
      "torch.Size([64, 96, 96]) torch.Size([64, 68, 2])\n",
      "torch.Size([64, 1, 96, 96]) torch.Size([64, 136])\n",
      "torch.Size([64, 136])\n",
      "torch.Size([64, 96, 96]) torch.Size([64, 68, 2])\n",
      "torch.Size([64, 1, 96, 96]) torch.Size([64, 136])\n",
      "torch.Size([64, 136])\n",
      "torch.Size([64, 96, 96]) torch.Size([64, 68, 2])\n",
      "torch.Size([64, 1, 96, 96]) torch.Size([64, 136])\n",
      "torch.Size([64, 136])\n",
      "torch.Size([64, 96, 96]) torch.Size([64, 68, 2])\n",
      "torch.Size([64, 1, 96, 96]) torch.Size([64, 136])\n",
      "torch.Size([64, 136])\n",
      "torch.Size([64, 96, 96]) torch.Size([64, 68, 2])\n",
      "torch.Size([64, 1, 96, 96]) torch.Size([64, 136])\n",
      "torch.Size([64, 136])\n",
      "torch.Size([64, 96, 96]) torch.Size([64, 68, 2])\n",
      "torch.Size([64, 1, 96, 96]) torch.Size([64, 136])\n",
      "torch.Size([64, 136])\n",
      "torch.Size([64, 96, 96]) torch.Size([64, 68, 2])\n",
      "torch.Size([64, 1, 96, 96]) torch.Size([64, 136])\n",
      "torch.Size([64, 136])\n",
      "torch.Size([64, 96, 96]) torch.Size([64, 68, 2])\n",
      "torch.Size([64, 1, 96, 96]) torch.Size([64, 136])\n",
      "torch.Size([64, 136])\n",
      "torch.Size([64, 96, 96]) torch.Size([64, 68, 2])\n",
      "torch.Size([64, 1, 96, 96]) torch.Size([64, 136])\n",
      "torch.Size([64, 136])\n",
      "torch.Size([64, 96, 96]) torch.Size([64, 68, 2])\n",
      "torch.Size([64, 1, 96, 96]) torch.Size([64, 136])\n",
      "torch.Size([64, 136])\n",
      "torch.Size([64, 96, 96]) torch.Size([64, 68, 2])\n",
      "torch.Size([64, 1, 96, 96]) torch.Size([64, 136])\n",
      "torch.Size([64, 136])\n",
      "torch.Size([64, 96, 96]) torch.Size([64, 68, 2])\n",
      "torch.Size([64, 1, 96, 96]) torch.Size([64, 136])\n",
      "torch.Size([64, 136])\n",
      "torch.Size([64, 96, 96]) torch.Size([64, 68, 2])\n",
      "torch.Size([64, 1, 96, 96]) torch.Size([64, 136])\n",
      "torch.Size([64, 136])\n",
      "torch.Size([64, 96, 96]) torch.Size([64, 68, 2])\n",
      "torch.Size([64, 1, 96, 96]) torch.Size([64, 136])\n",
      "torch.Size([64, 136])\n",
      "torch.Size([64, 96, 96]) torch.Size([64, 68, 2])\n",
      "torch.Size([64, 1, 96, 96]) torch.Size([64, 136])\n",
      "torch.Size([64, 136])\n",
      "torch.Size([64, 96, 96]) torch.Size([64, 68, 2])\n",
      "torch.Size([64, 1, 96, 96]) torch.Size([64, 136])\n",
      "torch.Size([64, 136])\n",
      "torch.Size([64, 96, 96]) torch.Size([64, 68, 2])\n",
      "torch.Size([64, 1, 96, 96]) torch.Size([64, 136])\n",
      "torch.Size([64, 136])\n",
      "torch.Size([64, 96, 96]) torch.Size([64, 68, 2])\n",
      "torch.Size([64, 1, 96, 96]) torch.Size([64, 136])\n",
      "torch.Size([64, 136])\n"
     ]
    },
    {
     "data": {
      "image/png": "[encoded data removed]",
      "text/plain": [
       "<Figure size 864x360 with 1 Axes>"
      ]
     },
     "metadata": {
      "needs_background": "light"
     },
     "output_type": "display_data"
    }
   ],
   "source": [
    "train(network, 4,1)"
   ]
  },
  {
   "cell_type": "code",
   "execution_count": 28,
   "metadata": {},
   "outputs": [
    {
     "name": "stdout",
     "output_type": "stream",
     "text": [
      "(2, 96, 96)\n"
     ]
    },
    {
     "data": {
      "image/png": "[encoded data removed]",
      "text/plain": [
       "<Figure size 432x288 with 1 Axes>"
      ]
     },
     "metadata": {
      "needs_background": "light"
     },
     "output_type": "display_data"
    }
   ],
   "source": [
    "test_dataloader = DataLoader(test_dataset, batch_size=2, shuffle=True)\n",
    "batch = next(iter(test_dataloader))\n",
    "images_batch = batch['image']\n",
    "x = Variable(images_batch.view(2,1,96,96).type(dtype))\n",
    "y_pred = network(x)\n",
    "y = Variable(batch['landmarks'].view(-1, 68*2).type(dtype))\n",
    "y_pred = y_pred.view(-1, 68, 2)\n",
    "y_pred = y_pred.data.numpy()\n",
    "show_landmarks_batch(batch, y_pred)"
   ]
  },
  {
   "cell_type": "code",
   "execution_count": null,
   "metadata": {
    "collapsed": true
   },
   "outputs": [],
   "source": []
  }
 ],
 "metadata": {
  "kernelspec": {
   "display_name": "Python 3",
   "language": "python",
   "name": "python3"
  },
  "language_info": {
   "codemirror_mode": {
    "name": "ipython",
    "version": 3
   },
   "file_extension": ".py",
   "mimetype": "text/x-python",
   "name": "python",
   "nbconvert_exporter": "python",
   "pygments_lexer": "ipython3",
   "version": "3.6.9"
  }
 },
 "nbformat": 4,
 "nbformat_minor": 1
}
