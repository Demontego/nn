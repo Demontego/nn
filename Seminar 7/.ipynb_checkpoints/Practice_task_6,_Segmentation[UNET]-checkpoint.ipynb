{
 "cells": [
  {
   "cell_type": "code",
   "execution_count": 7,
   "metadata": {
    "colab": {
     "base_uri": "https://localhost:8080/",
     "height": 80
    },
    "colab_type": "code",
    "id": "9F9RAZfKpxvN",
    "outputId": "b13c2de6-cf9c-45ee-fc5c-84367c448669"
   },
   "outputs": [],
   "source": [
    "import os\n",
    "import numpy as np\n",
    "import pandas as pd\n",
    "import matplotlib.pyplot as plt\n",
    "from tqdm import tqdm\n",
    "from torchvision.models import resnet50\n",
    "import torch as t\n",
    "from torch.utils import data\n",
    "from torchvision import transforms as tsf\n",
    "import scipy.misc\n",
    "import torch.nn as nn\n",
    "from pathlib import Path\n",
    "from keras.layers import GaussianNoise\n",
    "from PIL import Image\n",
    "import skimage\n",
    "from skimage import io\n",
    "from torchvision import models\n",
    "import torch\n",
    "from sklearn.model_selection import train_test_split\n",
    "from torchvision.models import resnet50\n",
    "from torch.autograd import Variable\n",
    "from torch.utils.data import Dataset, DataLoader\n",
    "from torchvision import transforms, utils, datasets\n",
    "from torch.nn import CrossEntropyLoss, Sequential, Linear, Sigmoid, Tanh, BCELoss, Softmax, BatchNorm1d\n",
    "from torch.utils.data.sampler import Sampler, SubsetRandomSampler, WeightedRandomSampler\n",
    "from PIL import Image # Replace by accimage when ready\n",
    "from PIL.Image import FLIP_LEFT_RIGHT, FLIP_TOP_BOTTOM, ROTATE_90, ROTATE_180, ROTATE_270\n",
    "from PIL.ImageEnhance import Color, Contrast, Brightness, Sharpness\n",
    "from sklearn.preprocessing import MultiLabelBinarizer\n",
    "from tqdm import tqdm\n",
    "from sklearn.metrics import f1_score\n",
    "import matplotlib.pyplot as plt\n",
    "import scipy\n",
    "import imageio\n",
    "import os \n",
    "from torch import nn\n",
    "import torch.nn.functional as F\n",
    "import tensorflow as tf \n",
    "os.environ['TF_CPP_MIN_LOG_LEVEL'] = '3'\n",
    "from skimage import img_as_ubyte\n",
    "img_size=1024\n",
    "TRAIN_PATH = './train.pth'\n",
    "TEST_PATH = './test.tph'\n",
    "%matplotlib inline"
   ]
  },
  {
   "cell_type": "code",
   "execution_count": 2,
   "metadata": {
    "colab": {
     "base_uri": "https://localhost:8080/",
     "height": 323
    },
    "colab_type": "code",
    "id": "3vDGsu7PpxvP",
    "outputId": "3f90326a-6ec6-4365-fdf5-56148674e9ea"
   },
   "outputs": [
    {
     "name": "stderr",
     "output_type": "stream",
     "text": [
      "C:\\Users\\vkrin\\Anaconda3\\lib\\site-packages\\imageio\\plugins\\_tifffile.py:8388: UserWarning: unexpected end of LZW stream (code 0)\n",
      "  warnings.warn('unexpected end of LZW stream (code %i)' % code)\n"
     ]
    }
   ],
   "source": [
    "def process(dataset_path, mask_path=None):\n",
    "    data = []\n",
    "    if mask_path:\n",
    "        mask_path = Path(mask_path)\n",
    "\n",
    "    for image in sorted(Path(dataset_path).iterdir()):\n",
    "        item = {}\n",
    "        img = io.imread(image)\n",
    "        \n",
    "        if img.shape[2]>3:\n",
    "            assert(img[:,:,3]!=255).sum()==0\n",
    "        \n",
    "        img = img[:,:,:3]\n",
    "        item['name'] = image.name.split(\"_\")[0]\n",
    "        item['img'] = t.from_numpy(img)\n",
    "        if mask_path:\n",
    "            mask = io.imread(mask_path/(item['name'] + \"_manual1.gif\"))\n",
    "            item['mask'] = t.from_numpy(mask)\n",
    "        data.append(item)\n",
    "    \n",
    "    return data\n",
    "test = process('test/images/')\n",
    "t.save(test, TEST_PATH)\n",
    "train_data = process('train/images', \"train/1st_manual/\")\n",
    "control_data = process('train/control/images', \"train/control/1st_manual/\")"
   ]
  },
  {
   "cell_type": "code",
   "execution_count": 3,
   "metadata": {
    "colab": {},
    "colab_type": "code",
    "id": "Oogc9ONppxvR"
   },
   "outputs": [],
   "source": [
    "import PIL\n",
    "class Dataset():\n",
    "    def __init__(self,data,source_transform,target_transform):\n",
    "        self.datas = data\n",
    "        self.s_transform = source_transform\n",
    "        self.t_transform = target_transform\n",
    "    def __getitem__(self, index):\n",
    "        data = self.datas[index]\n",
    "        img = data['img'].numpy()\n",
    "        mask = data['mask'][:,:,None].byte().numpy()\n",
    "        img = self.s_transform(img)\n",
    "        mask = self.t_transform(mask)\n",
    "        return img, mask\n",
    "    def __len__(self):\n",
    "        return len(self.datas)\n",
    "s_trans = tsf.Compose([\n",
    "    tsf.ToPILImage(),\n",
    "                tsf.Resize((img_size,img_size)),\n",
    "                 tsf.ToTensor(),\n",
    "                 tsf.Normalize(mean = [0.485, 0.456, 0.406], \n",
    "                             std = [0.229, 0.224, 0.225])\n",
    "])\n",
    "t_trans = tsf.Compose([\n",
    "    tsf.ToPILImage(),\n",
    "    tsf.Resize((img_size,img_size),interpolation=PIL.Image.NEAREST),\n",
    "    tsf.ToTensor(),]\n",
    ")\n",
    "dataset = Dataset(train_data,s_trans,t_trans)\n",
    "train_dataloader = t.utils.data.DataLoader(dataset,batch_size=4, num_workers=48)\n",
    "control_dataloader = t.utils.data.DataLoader(Dataset(control_data,s_trans,t_trans), batch_size=3,shuffle=True)"
   ]
  },
  {
   "cell_type": "code",
   "execution_count": null,
   "metadata": {
    "colab": {},
    "colab_type": "code",
    "id": "-eWXZtFipxvX"
   },
   "outputs": [],
   "source": [
    "# sub-parts of the U-Net mode\n",
    "\n",
    "\n",
    "class double_conv(nn.Module):\n",
    "    def __init__(self, in_ch, out_ch):\n",
    "        super(double_conv, self).__init__()\n",
    "        self.conv = nn.Sequential(\n",
    "            nn.Conv2d(in_ch, out_ch, 3, padding=1),\n",
    "            nn.BatchNorm2d(out_ch),\n",
    "            nn.ReLU(inplace=True),\n",
    "            nn.Conv2d(out_ch, out_ch, 3, padding=1),\n",
    "            nn.BatchNorm2d(out_ch),\n",
    "            nn.ReLU(inplace=True)\n",
    "        )\n",
    "\n",
    "    def forward(self, x):\n",
    "        x = self.conv(x)\n",
    "        return x\n",
    "\n",
    "\n",
    "class inconv(nn.Module):\n",
    "    def __init__(self, in_ch, out_ch):\n",
    "        super(inconv, self).__init__()\n",
    "        self.conv = double_conv(in_ch, out_ch)\n",
    "\n",
    "    def forward(self, x):\n",
    "        x = self.conv(x)\n",
    "        return x\n",
    "\n",
    "\n",
    "class down(nn.Module):\n",
    "    def __init__(self, in_ch, out_ch):\n",
    "        super(down, self).__init__()\n",
    "        self.mpconv = nn.Sequential(\n",
    "            nn.MaxPool2d(2),\n",
    "            double_conv(in_ch, out_ch)\n",
    "        )\n",
    "\n",
    "    def forward(self, x):\n",
    "        x = self.mpconv(x)\n",
    "        return x\n",
    "\n",
    "\n",
    "class up(nn.Module):\n",
    "    def __init__(self, in_ch, out_ch, bilinear=False):\n",
    "        super(up, self).__init__()\n",
    "\n",
    "        #  would be a nice idea if the upsampling could be learned too,\n",
    "        #  but my machine do not have enough memory to handle all those weights\n",
    "        if bilinear:\n",
    "            self.up = nn.Upsample(scale_factor=2, mode='bilinear', align_corners=True)\n",
    "        else:\n",
    "            self.up = nn.ConvTranspose2d(in_ch, in_ch//2, 2, stride=2)\n",
    "\n",
    "        self.conv = double_conv(in_ch, out_ch)\n",
    "\n",
    "    def forward(self, x1, x2):\n",
    "        x1 = self.up(x1)\n",
    "        \n",
    "        # input is CHW\n",
    "        diffY = x2.size()[2] - x1.size()[2]\n",
    "        diffX = x2.size()[3] - x1.size()[3]\n",
    "\n",
    "        x1 = F.pad(x1, (diffX // 2, diffX - diffX//2,\n",
    "                        diffY // 2, diffY - diffY//2))\n",
    "\n",
    "        x = t.cat([x2, x1], dim=1)\n",
    "        x = self.conv(x)\n",
    "        return x\n",
    "\n",
    "\n",
    "class outconv(nn.Module):\n",
    "    def __init__(self, in_ch, out_ch):\n",
    "        super(outconv, self).__init__()\n",
    "        self.conv = nn.Conv2d(in_ch, out_ch, 1)\n",
    "\n",
    "    def forward(self, x):\n",
    "        x = self.conv(x)\n",
    "        return x\n",
    "\n",
    "\n",
    "class UNet(nn.Module):\n",
    "    def __init__(self, n_channels, n_classes):\n",
    "        super(UNet, self).__init__()\n",
    "        self.inc = inconv(n_channels, 64)\n",
    "        self.down1 = down(64, 128)\n",
    "        self.down2 = down(128, 256)\n",
    "        self.down3 = down(256, 512)\n",
    "        self.down4 = down(512, 1024)\n",
    "        self.up1 = up(1024, 512)\n",
    "        self.up2 = up(512, 256)\n",
    "        self.up3 = up(256, 128)\n",
    "        self.up4 = up(128, 64)\n",
    "        self.outc = outconv(64, n_classes)\n",
    "\n",
    "    def forward(self, x):\n",
    "        x1 = self.inc(x)\n",
    "        x2 = self.down1(x1)\n",
    "        x3 = self.down2(x2)\n",
    "        x4 = self.down3(x3)\n",
    "        x5 = self.down4(x4)\n",
    "        x = self.up1(x5, x4)\n",
    "        x = self.up2(x, x3)\n",
    "        x = self.up3(x, x2)\n",
    "        x = self.up4(x, x1)\n",
    "        x = self.outc(x)\n",
    "        x = t.nn.functional.sigmoid(x)\n",
    "        return x"
   ]
  },
  {
   "cell_type": "code",
   "execution_count": null,
   "metadata": {
    "colab": {},
    "colab_type": "code",
    "id": "pep2VjxQpxvZ"
   },
   "outputs": [],
   "source": [
    "# Попробуйте использовать различные функции потерь.\n",
    "def soft_dice_loss(inputs, targets):\n",
    "        num = targets.size(0)\n",
    "        m1  = inputs.view(num,-1)\n",
    "        m2  = targets.view(num,-1)\n",
    "        intersection = (m1 * m2)\n",
    "        score = 2. * (intersection.sum(1)+1) / (m1.sum(1) + m2.sum(1)+1)\n",
    "        score = 1 - score.sum()/num\n",
    "        return score"
   ]
  },
  {
   "cell_type": "code",
   "execution_count": null,
   "metadata": {
    "colab": {},
    "colab_type": "code",
    "id": "VAfQ-BOfpxvc"
   },
   "outputs": [],
   "source": [
    "class TestDataset():\n",
    "    def __init__(self,path,source_transform):\n",
    "        self.datas = t.load(path)\n",
    "        self.s_transform = source_transform\n",
    "    def __getitem__(self, index):\n",
    "        data = self.datas[index]\n",
    "        img = data['img'].numpy()\n",
    "        img = self.s_transform(img)\n",
    "        return img\n",
    "    def __len__(self):\n",
    "        return len(self.datas)\n",
    "trans = tsf.Compose([\n",
    "    tsf.ToPILImage(),\n",
    "                tsf.Resize((img_size,img_size)),\n",
    "                 tsf.ToTensor(), \n",
    "                 tsf.Normalize(mean = [0.485, 0.456, 0.406], \n",
    "                             std = [0.229, 0.224, 0.225])])\n",
    "testset = TestDataset(TEST_PATH, trans)\n",
    "testdataloader = t.utils.data.DataLoader(testset,batch_size=1)"
   ]
  },
  {
   "cell_type": "code",
   "execution_count": null,
   "metadata": {
    "colab": {
     "base_uri": "https://localhost:8080/",
     "height": 1000
    },
    "colab_type": "code",
    "id": "yQcrHlnjpxvg",
    "outputId": "20949ab2-7510-4e03-94f4-954714efd5b6"
   },
   "outputs": [],
   "source": [
    "model = UNet(n_channels=3,n_classes=1)\n",
    "optimizer = torch.optim.Adam(model.parameters(), lr=3e-4)\n",
    "criterion = soft_dice_loss\n",
    "model.train()"
   ]
  },
  {
   "cell_type": "code",
   "execution_count": null,
   "metadata": {
    "colab": {
     "base_uri": "https://localhost:8080/",
     "height": 459
    },
    "colab_type": "code",
    "id": "39PCtqxcpxvi",
    "outputId": "c503fcd4-6cbf-4003-ee3c-9667af7de047"
   },
   "outputs": [],
   "source": [
    "device = torch.device(\"cpu\")\n",
    "dtype = torch.FloatTensor\n",
    "model.train()\n",
    "\n",
    "num_epochs = 400\n",
    "\n",
    "for epoch in range(num_epochs):\n",
    "    running_loss = []\n",
    "    control_loss =[]\n",
    "    for i, (X, y) in enumerate(train_dataloader):\n",
    "        X = X.to(device)\n",
    "        y = y.to(device)\n",
    "        X = Variable(X)\n",
    "        y = Variable(y)\n",
    "        \n",
    "        optimizer.zero_grad()\n",
    "        output = model(X)\n",
    "        loss = criterion(output, y)\n",
    "        \n",
    "        loss.backward()\n",
    "        optimizer.step()\n",
    "        running_loss.append(loss.item())\n",
    "\n",
    "    print(\"loss for epoch \" + str(epoch) + \":  \" + str(np.mean(running_loss)))\n"
   ]
  },
  {
   "cell_type": "code",
   "execution_count": null,
   "metadata": {
    "colab": {},
    "colab_type": "code",
    "id": "VCSwTFF-pxvm"
   },
   "outputs": [],
   "source": [
    "os.makedirs(\"result\")"
   ]
  },
  {
   "cell_type": "code",
   "execution_count": null,
   "metadata": {
    "colab": {},
    "colab_type": "code",
    "id": "sULbR3KGpxvo"
   },
   "outputs": [],
   "source": [
    "model = model.eval()\n",
    "with torch.no_grad():\n",
    "    for ex_id, data in enumerate(testdataloader):\n",
    "        data = t.autograd.Variable(data, volatile=True).cuda()\n",
    "        o = model(data).cpu()\n",
    "    \n",
    "        source_image = io.imread(\"test/images/%s_test.tif\" % str(ex_id + 1).zfill(2))\n",
    "        tm = o[0][0].data.cpu().numpy()\n",
    "        tm = skimage.transform.resize(tm, source_image.shape[:-1])\n",
    "        tm = (tm > 0.5).astype(int)\n",
    "        imageio.imwrite(\"result/%s.png\" % (ex_id + 1), tm)"
   ]
  },
  {
   "cell_type": "code",
   "execution_count": null,
   "metadata": {
    "colab": {},
    "colab_type": "code",
    "id": "Q4y_fuJjpxvt"
   },
   "outputs": [],
   "source": [
    "!zip -r result.zip result"
   ]
  },
  {
   "cell_type": "code",
   "execution_count": null,
   "metadata": {
    "colab": {},
    "colab_type": "code",
    "id": "tEyoK790pxvx"
   },
   "outputs": [],
   "source": []
  }
 ],
 "metadata": {
  "accelerator": "GPU",
  "colab": {
   "name": "Practice task 6, Segmentation[UNET].ipynb",
   "provenance": [],
   "toc_visible": true
  },
  "kernelspec": {
   "display_name": "Python 3",
   "language": "python",
   "name": "python3"
  },
  "language_info": {
   "codemirror_mode": {
    "name": "ipython",
    "version": 3
   },
   "file_extension": ".py",
   "mimetype": "text/x-python",
   "name": "python",
   "nbconvert_exporter": "python",
   "pygments_lexer": "ipython3",
   "version": "3.6.9"
  }
 },
 "nbformat": 4,
 "nbformat_minor": 1
}
