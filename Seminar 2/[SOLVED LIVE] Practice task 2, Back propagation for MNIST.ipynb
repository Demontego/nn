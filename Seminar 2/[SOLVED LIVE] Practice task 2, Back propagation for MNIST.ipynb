{
 "cells": [
  {
   "cell_type": "markdown",
   "metadata": {},
   "source": [
    "## Семинар 2 \"Распознавание рукописных цифр\""
   ]
  },
  {
   "cell_type": "markdown",
   "metadata": {},
   "source": [
    "ФИО: Курбанов Ринат Фирдусович"
   ]
  },
  {
   "cell_type": "markdown",
   "metadata": {},
   "source": [
    "В этом задании мы используем нейронную сеть из предыдущего семинара для распознавания рукописных цифр. Также мы исследуем как влияет выбор нелинейности и предобработка данных на качество классификации. \n",
    "\n",
    "Чтобы не тратить время на подготовку данных, мы прилагаем готовый код с примером использования для получения обучающей и тестовой выборок. Для запуска скрипта вам понадобится библиотека PyTorch (инструкции по установке можно найти на сайте <a href=\"http://pytorch.org\">pytorch.org</a>)"
   ]
  },
  {
   "cell_type": "code",
   "execution_count": 1,
   "metadata": {},
   "outputs": [],
   "source": [
    "import matplotlib.pyplot as plt\n",
    "from torch.utils.data import DataLoader\n",
    "from torchvision.datasets import MNIST\n",
    "from torchvision import transforms\n",
    "import numpy as np\n",
    "from layers import Linear, Sigmoid, NLLLoss, NeuralNetwork # Results from Seminar 1\n",
    "%matplotlib inline"
   ]
  },
  {
   "cell_type": "code",
   "execution_count": 2,
   "metadata": {},
   "outputs": [],
   "source": [
    "transform = transforms.Compose([\n",
    "                       transforms.ToTensor(),\n",
    "                       transforms.Normalize((0.1307,), (0.3081,))\n",
    "                    ])\n",
    "train_dataset = MNIST('.', train=True, download=True, transform=transform)\n",
    "test_dataset = MNIST('.', train=False, transform=transform)\n",
    "\n",
    "train_loader = DataLoader(train_dataset, batch_size=32, shuffle=True)\n",
    "test_loader = DataLoader(test_dataset, batch_size=32, shuffle=True)"
   ]
  },
  {
   "cell_type": "code",
   "execution_count": 3,
   "metadata": {},
   "outputs": [
    {
     "name": "stdout",
     "output_type": "stream",
     "text": [
      "(32, 784)\n",
      "[5 8 3 6 9 2 2 6 6 6 5 5 1 4 4 3 1 1 4 5 5 0 0 7 4 4 1 2 6 3 7 7]\n"
     ]
    }
   ],
   "source": [
    "## Usage example:\n",
    "for X, y in train_loader:\n",
    "    X = X.view(X.shape[0], -1)\n",
    "    X = X.numpy() ### Converts torch.Tensor to numpy array\n",
    "    y = y.numpy()\n",
    "    \n",
    "    print(X.shape)\n",
    "    print(y)\n",
    "    break"
   ]
  },
  {
   "cell_type": "code",
   "execution_count": 4,
   "metadata": {},
   "outputs": [
    {
     "data": {
      "image/png": "[encoded data removed]",
      "text/plain": [
       "<Figure size 432x504 with 25 Axes>"
      ]
     },
     "metadata": {
      "needs_background": "light"
     },
     "output_type": "display_data"
    }
   ],
   "source": [
    "plt.figure(figsize=(6, 7))\n",
    "for i in range(25):\n",
    "    plt.subplot(5, 5, i+1)\n",
    "    plt.imshow(X[i].reshape(28, 28), cmap=plt.cm.Greys_r)\n",
    "    plt.title(y[i])\n",
    "    plt.axis('off')"
   ]
  },
  {
   "cell_type": "markdown",
   "metadata": {},
   "source": [
    "### Часть 1: MNIST\n",
    "Обучите полносвязную нейронную сеть с архитектурой 784-100-100-10 и сигмоидой в качестве нелинейности. Какую точность классификации удалось получить? Нарисуйте график сходимости на обучающей и тестовой выборках. В качестве темпа обучения (learning rate) возьмите 0.01"
   ]
  },
  {
   "cell_type": "code",
   "execution_count": 5,
   "metadata": {},
   "outputs": [],
   "source": [
    "#activation = ReLU()\n",
    "activation = Sigmoid()\n",
    "\n",
    "inner_dim = 64\n",
    "\n",
    "layers = [Linear(784, inner_dim), activation]\n",
    "for i in range(10000):\n",
    "    layers.extend([Linear(inner_dim, inner_dim), activation])\n",
    "\n",
    "layers.append(Linear(inner_dim, 10))\n",
    "\n",
    "net = NeuralNetwork(layers)\n",
    "loss = NLLLoss()"
   ]
  },
  {
   "cell_type": "code",
   "execution_count": 6,
   "metadata": {},
   "outputs": [
    {
     "data": {
      "text/plain": [
       "<matplotlib.image.AxesImage at 0x288f46a70b8>"
      ]
     },
     "execution_count": 6,
     "metadata": {},
     "output_type": "execute_result"
    },
    {
     "data": {
      "image/png": "[encoded data removed]",
      "text/plain": [
       "<Figure size 432x288 with 1 Axes>"
      ]
     },
     "metadata": {
      "needs_background": "light"
     },
     "output_type": "display_data"
    }
   ],
   "source": [
    "for X, y in train_loader:\n",
    "    X = X.numpy()\n",
    "    break\n",
    "plt.imshow(X[0].reshape(28, 28), cmap=plt.cm.Greys_r)"
   ]
  },
  {
   "cell_type": "code",
   "execution_count": 7,
   "metadata": {},
   "outputs": [
    {
     "name": "stdout",
     "output_type": "stream",
     "text": [
      "[7 0 1 5 9 2 3 4 6 8] [ 0.02854817  0.0273539   0.00627727  0.0044873  -0.01090325 -0.01185707\n",
      " -0.02606502 -0.02676333 -0.03476216 -0.06912188]\n"
     ]
    }
   ],
   "source": [
    "x = net.forward(X[0].reshape(1, -1))[0]\n",
    "order = np.argsort(x)[::-1]\n",
    "print(order, x[order])"
   ]
  },
  {
   "cell_type": "code",
   "execution_count": null,
   "metadata": {},
   "outputs": [],
   "source": [
    "losses = []\n",
    "\n",
    "## Usage example:\n",
    "for X, y in train_loader:\n",
    "    X = X.view(X.shape[0], -1)\n",
    "    X = X.numpy() ### Converts torch.Tensor to numpy array\n",
    "    y = y.numpy()\n",
    "    \n",
    "    res = net.forward(X)\n",
    "    l = loss.forward(res, y)\n",
    "    \n",
    "    losses.append(l)\n",
    "    \n",
    "    dLdy = loss.backward()\n",
    "    \n",
    "    net.backward(dLdy)\n",
    "    net.step(0.1)"
   ]
  },
  {
   "cell_type": "code",
   "execution_count": null,
   "metadata": {},
   "outputs": [],
   "source": [
    "plt.plot(losses)\n",
    "plt.plot(sigm_losses)\n",
    "plt.plot(good_relu_losses)\n",
    "plt.show()"
   ]
  },
  {
   "cell_type": "code",
   "execution_count": 23,
   "metadata": {},
   "outputs": [],
   "source": [
    "good_relu_losses = losses"
   ]
  },
  {
   "cell_type": "code",
   "execution_count": 24,
   "metadata": {},
   "outputs": [
    {
     "name": "stdout",
     "output_type": "stream",
     "text": [
      "1.6288843277651752\n"
     ]
    }
   ],
   "source": [
    "print(l)"
   ]
  },
  {
   "cell_type": "markdown",
   "metadata": {},
   "source": [
    "### Часть 2: Нелинейности"
   ]
  },
  {
   "cell_type": "markdown",
   "metadata": {},
   "source": [
    "Обучите нейронную сеть с другими нелинейностями: ReLU и ELU. Сравните скорости сходимости и качество классификации с различными функциями активации."
   ]
  },
  {
   "cell_type": "code",
   "execution_count": 26,
   "metadata": {},
   "outputs": [],
   "source": [
    "class ReLU:\n",
    "    def __init__(self):\n",
    "        pass\n",
    "    \n",
    "    def forward(self, X):\n",
    "        '''\n",
    "        Passes objects through this layer.\n",
    "        X is np.array of size (N, d)\n",
    "        '''\n",
    "        self.s = (X > 0).astype(float)*X\n",
    "        return self.s\n",
    "    \n",
    "    def backward(self, dLdy):\n",
    "        '''\n",
    "        1. Compute dLdx.\n",
    "        2. Return dLdx\n",
    "        '''\n",
    "        return (self.s > 0).astype(float)*dLdy\n",
    "    \n",
    "    def step(self, learning_rate):\n",
    "        pass"
   ]
  },
  {
   "cell_type": "code",
   "execution_count": 27,
   "metadata": {},
   "outputs": [
    {
     "data": {
      "text/plain": [
       "array([0., 1.])"
      ]
     },
     "execution_count": 27,
     "metadata": {},
     "output_type": "execute_result"
    }
   ],
   "source": [
    "x = np.array([1, 2])\n",
    "(x > 1.5).astype(float)"
   ]
  },
  {
   "cell_type": "markdown",
   "metadata": {},
   "source": [
    "### Часть 3: Анализ ошибок\n",
    "На каких объектах сеть ошибается больше всего?"
   ]
  },
  {
   "cell_type": "code",
   "execution_count": 28,
   "metadata": {},
   "outputs": [],
   "source": [
    "errors = []\n",
    "\n",
    "for X, y in test_loader:\n",
    "    X = X.view(X.shape[0], -1)\n",
    "    X = X.numpy() ### Converts torch.Tensor to numpy array\n",
    "    y = y.numpy()\n",
    "    \n",
    "    res = net.forward(X)\n",
    "    \n",
    "    for x_i, y_i in zip(X, y):\n",
    "        l = loss.forward(x_i.reshape(1, -1), y_i.reshape(1, -1))\n",
    "        errors.append((l, x_i.reshape(28, 28)))\n",
    "    \n",
    "    if len(errors) > 1000:\n",
    "        break"
   ]
  },
  {
   "cell_type": "code",
   "execution_count": 29,
   "metadata": {},
   "outputs": [],
   "source": [
    "errors.sort(key=lambda x: x[0], reverse=True)"
   ]
  },
  {
   "cell_type": "code",
   "execution_count": 30,
   "metadata": {},
   "outputs": [
    {
     "name": "stdout",
     "output_type": "stream",
     "text": [
      "[[-0.42421296 -0.42421296 -0.42421296 -0.42421296 -0.42421296 -0.42421296\n",
      "  -0.42421296 -0.42421296 -0.42421296 -0.42421296 -0.42421296 -0.42421296\n",
      "  -0.42421296 -0.42421296 -0.42421296 -0.42421296 -0.42421296 -0.42421296\n",
      "  -0.42421296 -0.42421296 -0.42421296 -0.42421296 -0.42421296 -0.42421296\n",
      "  -0.42421296 -0.42421296 -0.42421296 -0.42421296]\n",
      " [-0.42421296 -0.42421296 -0.42421296 -0.42421296 -0.42421296 -0.42421296\n",
      "  -0.42421296 -0.42421296 -0.42421296 -0.42421296 -0.42421296 -0.42421296\n",
      "  -0.42421296 -0.42421296 -0.42421296 -0.42421296 -0.42421296 -0.42421296\n",
      "  -0.42421296 -0.42421296 -0.42421296 -0.42421296 -0.42421296 -0.42421296\n",
      "  -0.42421296 -0.42421296 -0.42421296 -0.42421296]\n",
      " [-0.42421296 -0.42421296 -0.42421296 -0.42421296 -0.42421296 -0.42421296\n",
      "  -0.42421296 -0.42421296 -0.42421296 -0.42421296 -0.42421296 -0.42421296\n",
      "  -0.42421296 -0.42421296 -0.42421296 -0.42421296 -0.42421296 -0.42421296\n",
      "  -0.42421296 -0.42421296 -0.42421296 -0.42421296 -0.42421296 -0.42421296\n",
      "  -0.42421296 -0.42421296 -0.42421296 -0.42421296]\n",
      " [-0.42421296 -0.42421296 -0.42421296 -0.42421296 -0.42421296 -0.42421296\n",
      "  -0.42421296 -0.42421296 -0.42421296 -0.42421296 -0.42421296 -0.42421296\n",
      "  -0.42421296 -0.42421296  0.7976975   2.350542    2.8214867   2.8087585\n",
      "   2.8087585   0.55586106 -0.42421296 -0.42421296 -0.42421296 -0.42421296\n",
      "  -0.42421296 -0.42421296 -0.42421296 -0.42421296]\n",
      " [-0.42421296 -0.42421296 -0.42421296 -0.42421296 -0.42421296 -0.42421296\n",
      "  -0.42421296 -0.42421296 -0.42421296 -0.42421296 -0.42421296 -0.42421296\n",
      "  -0.42421296  0.63223046  2.7578456   2.7960303   2.7960303   2.7960303\n",
      "   2.7960303   2.6942043  -0.02963771 -0.42421296 -0.42421296 -0.42421296\n",
      "  -0.42421296 -0.42421296 -0.42421296 -0.42421296]\n",
      " [-0.42421296 -0.42421296 -0.42421296 -0.42421296 -0.42421296 -0.42421296\n",
      "  -0.42421296 -0.42421296 -0.42421296 -0.42421296 -0.42421296 -0.42421296\n",
      "  -0.00418122  2.286901    2.7960303   2.7960303   2.7960303   2.7960303\n",
      "   2.7960303   2.7960303   0.00854701 -0.42421296 -0.42421296 -0.42421296\n",
      "  -0.42421296 -0.42421296 -0.42421296 -0.42421296]\n",
      " [-0.42421296 -0.42421296 -0.42421296 -0.42421296 -0.42421296 -0.42421296\n",
      "  -0.42421296 -0.42421296 -0.42421296 -0.42421296 -0.42421296 -0.05509418\n",
      "   2.3250856   2.7960303   2.7960303   2.7960303   2.7960303   2.7960303\n",
      "   2.7960303   1.4086528  -0.3223871  -0.42421296 -0.42421296 -0.42421296\n",
      "  -0.42421296 -0.42421296 -0.42421296 -0.42421296]\n",
      " [-0.42421296 -0.42421296 -0.42421296 -0.42421296 -0.42421296 -0.42421296\n",
      "  -0.42421296 -0.42421296 -0.42421296 -0.42421296 -0.29693064  2.2996292\n",
      "   2.7960303   2.7960303   2.7960303   2.1468904   0.61950225  0.61950225\n",
      "   0.61950225 -0.37330002 -0.42421296 -0.42421296 -0.42421296 -0.42421296\n",
      "  -0.42421296 -0.42421296 -0.42421296 -0.42421296]\n",
      " [-0.42421296 -0.42421296 -0.42421296 -0.42421296 -0.42421296 -0.42421296\n",
      "  -0.42421296 -0.42421296 -0.42421296 -0.3987565   0.8740668   2.7960303\n",
      "   2.7960303   2.7960303   2.2741728  -0.06782241 -0.42421296 -0.42421296\n",
      "  -0.42421296 -0.42421296 -0.42421296 -0.42421296 -0.42421296 -0.42421296\n",
      "  -0.42421296 -0.42421296 -0.42421296 -0.42421296]\n",
      " [-0.42421296 -0.42421296 -0.42421296 -0.42421296 -0.42421296 -0.42421296\n",
      "  -0.42421296 -0.42421296 -0.42421296  0.02127524  2.7960303   2.7960303\n",
      "   2.7960303   2.7960303   1.0268056  -0.42421296 -0.42421296 -0.42421296\n",
      "  -0.42421296 -0.42421296 -0.42421296 -0.42421296 -0.42421296 -0.42421296\n",
      "  -0.42421296 -0.42421296 -0.42421296 -0.42421296]\n",
      " [-0.42421296 -0.42421296 -0.42421296 -0.42421296 -0.42421296 -0.42421296\n",
      "  -0.42421296 -0.42421296 -0.11873534  2.1723468   2.7960303   2.7960303\n",
      "   2.7960303   1.6759458  -0.3987565  -0.42421296 -0.42421296 -0.42421296\n",
      "  -0.42421296 -0.42421296 -0.42421296 -0.42421296 -0.42421296 -0.42421296\n",
      "  -0.42421296 -0.42421296 -0.42421296 -0.42421296]\n",
      " [-0.42421296 -0.42421296 -0.42421296 -0.42421296 -0.42421296 -0.42421296\n",
      "  -0.42421296 -0.42421296  0.28856814  2.7960303   2.7960303   2.7960303\n",
      "   2.7960303   0.09764464 -0.42421296 -0.42421296 -0.42421296 -0.42421296\n",
      "  -0.42421296  0.67041516  0.7213281   0.44130698 -0.42421296 -0.42421296\n",
      "  -0.42421296 -0.42421296 -0.42421296 -0.42421296]\n",
      " [-0.42421296 -0.42421296 -0.42421296 -0.42421296 -0.42421296 -0.42421296\n",
      "  -0.42421296 -0.42421296  0.7595128   2.7960303   2.7960303   2.7960303\n",
      "   1.1922727  -0.3605718  -0.42421296 -0.42421296 -0.3223871   0.45403522\n",
      "   1.306827    2.7705739   2.7960303   2.6560197   1.9177822  -0.09327888\n",
      "  -0.42421296 -0.42421296 -0.42421296 -0.42421296]\n",
      " [-0.42421296 -0.42421296 -0.42421296 -0.42421296 -0.42421296 -0.42421296\n",
      "  -0.42421296 -0.23328947  2.1723468   2.7960303   2.7960303   2.7960303\n",
      "  -0.34784356 -0.42421296  0.08491641  1.472294    2.0323362   2.7960303\n",
      "   2.7960303   2.7960303   2.7960303   2.7960303   2.7960303   2.0705209\n",
      "  -0.42421296 -0.42421296 -0.42421296 -0.42421296]\n",
      " [-0.42421296 -0.42421296 -0.42421296 -0.42421296 -0.42421296 -0.42421296\n",
      "  -0.42421296  0.73405635  2.7960303   2.7960303   2.7960303   2.7960303\n",
      "  -0.19510475  1.4977505   2.5923786   2.7960303   2.7960303   2.7960303\n",
      "   2.7960303   2.7960303   2.6051068   2.7960303   2.7960303   2.3378139\n",
      "  -0.42421296 -0.42421296 -0.42421296 -0.42421296]\n",
      " [-0.42421296 -0.42421296 -0.42421296 -0.42421296 -0.42421296 -0.42421296\n",
      "  -0.42421296  2.286901    2.7960303   2.7960303   2.7960303   2.7960303\n",
      "   2.0450644   2.7960303   2.7960303   2.7960303   2.7960303   2.7960303\n",
      "   1.854141    0.9631645   1.803228    2.7960303   2.7960303   0.7976975\n",
      "  -0.42421296 -0.42421296 -0.42421296 -0.42421296]\n",
      " [-0.42421296 -0.42421296 -0.42421296 -0.42421296 -0.42421296 -0.42421296\n",
      "  -0.42421296  2.286901    2.7960303   2.7960303   2.7960303   2.7960303\n",
      "   2.7960303   2.7960303   2.7960303   2.7960303   1.7650434   1.1922727\n",
      "  -0.42421296  0.22492696  2.5796502   2.7960303   2.7960303   0.7976975\n",
      "  -0.42421296 -0.42421296 -0.42421296 -0.42421296]\n",
      " [-0.42421296 -0.42421296 -0.42421296 -0.42421296 -0.42421296 -0.42421296\n",
      "  -0.42421296  2.286901    2.7960303   2.7960303   2.7960303   2.7960303\n",
      "   2.7960303   2.7960303   1.7268586   0.21219873 -0.3605718  -0.42421296\n",
      "   0.22492696  2.617835    2.7960303   2.7960303   2.2996292  -0.3605718\n",
      "  -0.42421296 -0.42421296 -0.42421296 -0.42421296]\n",
      " [-0.42421296 -0.42421296 -0.42421296 -0.42421296 -0.42421296 -0.42421296\n",
      "  -0.42421296  2.286901    2.7960303   2.7960303   2.7960303   2.7960303\n",
      "   2.7960303   1.2304575  -0.33511534 -0.2205612   0.8231539   2.3759985\n",
      "   2.5796502   2.7960303   2.7960303   2.5414655   0.45403522 -0.42421296\n",
      "  -0.42421296 -0.42421296 -0.42421296 -0.42421296]\n",
      " [-0.42421296 -0.42421296 -0.42421296 -0.42421296 -0.42421296 -0.42421296\n",
      "   0.55586106  2.6942043   2.7960303   2.7960303   2.7960303   2.7960303\n",
      "   2.7960303   2.185075    2.1087058   2.248716    2.7960303   2.7960303\n",
      "   2.7960303   2.7960303   2.1087058   0.46676344 -0.42421296 -0.42421296\n",
      "  -0.42421296 -0.42421296 -0.42421296 -0.42421296]\n",
      " [-0.42421296 -0.42421296 -0.42421296 -0.42421296 -0.42421296 -0.42421296\n",
      "   2.0323362   2.7960303   2.7960303   2.7960303   2.7960303   2.7960303\n",
      "   2.7960303   2.7960303   2.7960303   2.7960303   2.7960303   2.7960303\n",
      "   2.7960303   1.5868481  -0.29693064 -0.42421296 -0.42421296 -0.42421296\n",
      "  -0.42421296 -0.42421296 -0.42421296 -0.42421296]\n",
      " [-0.42421296 -0.42421296 -0.42421296 -0.42421296 -0.42421296 -0.42421296\n",
      "   2.4141831   2.7960303   2.7960303   2.7960303   2.7960303   2.7960303\n",
      "   2.7960303   2.7960303   2.7960303   2.7960303   2.7705739   2.5287373\n",
      "   1.6759458  -0.3605718  -0.42421296 -0.42421296 -0.42421296 -0.42421296\n",
      "  -0.42421296 -0.42421296 -0.42421296 -0.42421296]\n",
      " [-0.42421296 -0.42421296 -0.42421296 -0.42421296 -0.42421296 -0.42421296\n",
      "   0.81042576  2.7960303   2.7960303   2.7960303   2.7960303   2.7960303\n",
      "   2.7960303   2.7960303   2.7960303   1.5104787   0.8995233  -0.42421296\n",
      "  -0.42421296 -0.42421296 -0.42421296 -0.42421296 -0.42421296 -0.42421296\n",
      "  -0.42421296 -0.42421296 -0.42421296 -0.42421296]\n",
      " [-0.42421296 -0.42421296 -0.42421296 -0.42421296 -0.42421296 -0.42421296\n",
      "  -0.42421296 -0.42421296 -0.42421296 -0.42421296 -0.42421296 -0.42421296\n",
      "  -0.42421296 -0.42421296 -0.42421296 -0.42421296 -0.42421296 -0.42421296\n",
      "  -0.42421296 -0.42421296 -0.42421296 -0.42421296 -0.42421296 -0.42421296\n",
      "  -0.42421296 -0.42421296 -0.42421296 -0.42421296]\n",
      " [-0.42421296 -0.42421296 -0.42421296 -0.42421296 -0.42421296 -0.42421296\n",
      "  -0.42421296 -0.42421296 -0.42421296 -0.42421296 -0.42421296 -0.42421296\n",
      "  -0.42421296 -0.42421296 -0.42421296 -0.42421296 -0.42421296 -0.42421296\n",
      "  -0.42421296 -0.42421296 -0.42421296 -0.42421296 -0.42421296 -0.42421296\n",
      "  -0.42421296 -0.42421296 -0.42421296 -0.42421296]\n",
      " [-0.42421296 -0.42421296 -0.42421296 -0.42421296 -0.42421296 -0.42421296\n",
      "  -0.42421296 -0.42421296 -0.42421296 -0.42421296 -0.42421296 -0.42421296\n",
      "  -0.42421296 -0.42421296 -0.42421296 -0.42421296 -0.42421296 -0.42421296\n",
      "  -0.42421296 -0.42421296 -0.42421296 -0.42421296 -0.42421296 -0.42421296\n",
      "  -0.42421296 -0.42421296 -0.42421296 -0.42421296]\n",
      " [-0.42421296 -0.42421296 -0.42421296 -0.42421296 -0.42421296 -0.42421296\n",
      "  -0.42421296 -0.42421296 -0.42421296 -0.42421296 -0.42421296 -0.42421296\n",
      "  -0.42421296 -0.42421296 -0.42421296 -0.42421296 -0.42421296 -0.42421296\n",
      "  -0.42421296 -0.42421296 -0.42421296 -0.42421296 -0.42421296 -0.42421296\n",
      "  -0.42421296 -0.42421296 -0.42421296 -0.42421296]\n",
      " [-0.42421296 -0.42421296 -0.42421296 -0.42421296 -0.42421296 -0.42421296\n",
      "  -0.42421296 -0.42421296 -0.42421296 -0.42421296 -0.42421296 -0.42421296\n",
      "  -0.42421296 -0.42421296 -0.42421296 -0.42421296 -0.42421296 -0.42421296\n",
      "  -0.42421296 -0.42421296 -0.42421296 -0.42421296 -0.42421296 -0.42421296\n"
     ]
    },
    {
     "name": "stdout",
     "output_type": "stream",
     "text": [
      "  -0.42421296 -0.42421296 -0.42421296 -0.42421296]]\n"
     ]
    }
   ],
   "source": [
    "print(errors[18][1])"
   ]
  },
  {
   "cell_type": "code",
   "execution_count": 34,
   "metadata": {},
   "outputs": [
    {
     "data": {
      "text/plain": [
       "<matplotlib.image.AxesImage at 0x1e1ea2e0c88>"
      ]
     },
     "execution_count": 34,
     "metadata": {},
     "output_type": "execute_result"
    },
    {
     "data": {
      "image/png": "[encoded data removed]",
      "text/plain": [
       "<Figure size 432x288 with 1 Axes>"
      ]
     },
     "metadata": {
      "needs_background": "light"
     },
     "output_type": "display_data"
    }
   ],
   "source": [
    "img = np.copy(errors[10][1])\n",
    "img += np.random.randn(28*28).reshape(28, 28)*0.32\n",
    "plt.imshow(img, cmap=plt.cm.Greys_r)\n",
    "#print(errors[1000][0])"
   ]
  },
  {
   "cell_type": "code",
   "execution_count": 3,
   "metadata": {},
   "outputs": [
    {
     "data": {
      "text/plain": [
       "array([[ 3.99806990e-01, -1.97164985e-01, -2.97972735e-01,\n",
       "        -5.99012918e-01,  1.37054778e-01, -3.31275623e-01,\n",
       "         3.05343858e-01, -2.70517270e-01, -3.84420540e-01,\n",
       "         3.07777682e-01,  7.27364381e-01,  3.81345668e-01,\n",
       "         5.44370418e-02,  7.73363919e-02, -6.13136105e-02,\n",
       "        -9.34596867e-01, -1.78384723e-01,  1.41598970e-03,\n",
       "        -1.85907451e-01, -8.94521225e-02, -8.50541008e-03,\n",
       "        -3.51049490e-01,  2.17239745e-01,  4.46790233e-01,\n",
       "         2.66354735e-01,  2.92161478e-02, -9.25500299e-02,\n",
       "        -1.19264653e-01],\n",
       "       [ 1.36025821e-02, -2.93371962e-01, -1.05131399e-01,\n",
       "         2.41426350e-01, -3.57884947e-01, -8.87167512e-02,\n",
       "        -8.33353636e-02, -2.08778212e-01,  1.15174805e-01,\n",
       "        -2.17197841e-01, -1.06485054e-01,  6.94322084e-02,\n",
       "        -2.30878600e-01, -2.08114929e-01,  1.42576409e-01,\n",
       "         1.28513813e-02,  2.13779916e-01, -3.95090724e-01,\n",
       "         3.13210542e-02,  1.16301053e-01,  2.95332766e-01,\n",
       "        -1.17910866e-02, -2.08443352e-01,  2.85364083e-01,\n",
       "         1.41187094e-01, -7.19473152e-02,  6.89576845e-02,\n",
       "        -5.97965328e-02],\n",
       "       [ 3.32944904e-01,  6.86015650e-01,  5.33042103e-01,\n",
       "        -1.03451467e-01, -2.49929071e-01,  5.01786747e-01,\n",
       "        -7.78014138e-01,  2.90435783e-01,  3.16610249e-01,\n",
       "         2.59622982e-01, -5.56151850e-02, -4.85049830e-01,\n",
       "         4.21729372e-01,  6.91460018e-02,  6.04022816e-02,\n",
       "        -3.44363007e-01,  5.25383278e-01,  3.84921933e-01,\n",
       "         2.84779715e-01, -4.17369204e-02, -1.06055743e-01,\n",
       "         3.42293077e-01, -1.41632790e-01, -1.38985472e-01,\n",
       "        -3.82198623e-02, -2.65694022e-01, -4.50257876e-01,\n",
       "         1.95714974e-01],\n",
       "       [-8.12592502e-02, -5.50346554e-01, -1.88921536e-02,\n",
       "         2.21509999e-01,  3.57841043e-01, -3.05644678e-02,\n",
       "         4.34950931e-02,  4.07996122e-01,  2.13857642e-03,\n",
       "         4.80569063e-01, -3.63357800e-02,  2.75685481e-01,\n",
       "        -2.36870280e-01,  6.15779182e-01,  1.88443614e-01,\n",
       "        -2.62935888e-01, -8.44709698e-02,  2.09494829e-01,\n",
       "         7.93809594e-02,  3.53419953e-01, -2.18788020e-01,\n",
       "        -2.84939115e-02,  3.98612198e-02,  7.45670037e-02,\n",
       "        -4.53579709e-01,  5.99232913e-05,  7.67089387e-02,\n",
       "         6.27262644e-02],\n",
       "       [-4.77582636e-01, -1.78790240e-01,  1.04156926e-01,\n",
       "         2.50237210e-01, -4.44477104e-02,  2.56694265e-02,\n",
       "        -1.38847920e-01, -7.01935370e-02, -4.66360402e-02,\n",
       "        -2.20758431e-01, -9.30078983e-03,  3.23506645e-01,\n",
       "        -5.19123871e-02,  2.24291769e-01,  3.55317344e-01,\n",
       "         6.75974643e-01,  2.34138053e-01, -9.61547007e-01,\n",
       "         1.04161697e-01,  9.06308593e-02,  7.13471994e-01,\n",
       "        -3.62031407e-01, -4.00455419e-02,  2.22189279e-01,\n",
       "         7.63339859e-02,  2.83305843e-01,  9.32496531e-02,\n",
       "         7.20641205e-02],\n",
       "       [ 1.63727127e-01, -4.27921263e-01,  7.99240924e-02,\n",
       "         1.13025139e-01,  3.32947939e-01, -4.68362874e-02,\n",
       "         2.37015870e-01,  2.55882876e-01, -5.06030137e-02,\n",
       "        -3.77501990e-01, -2.66445206e-02, -1.32462742e-01,\n",
       "        -4.68083150e-01, -3.81866850e-01,  2.07506114e-01,\n",
       "         3.34028259e-01,  1.25188141e-01,  1.47355717e-02,\n",
       "         8.40363875e-01,  2.38687469e-01,  4.05305469e-02,\n",
       "        -2.02438053e-01, -2.52728256e-01, -1.55952504e-02,\n",
       "         7.07278181e-01, -1.45323671e-01, -2.55695864e-01,\n",
       "        -9.64786228e-02],\n",
       "       [ 2.11991729e-01,  8.08991190e-02,  3.96837715e-02,\n",
       "        -1.87740906e-01,  5.85423226e-01,  1.46538514e-01,\n",
       "         3.93845393e-04,  1.91445304e-01,  4.66977156e-02,\n",
       "        -2.07094195e-01,  1.53408958e-01,  2.51892691e-01,\n",
       "        -5.42847993e-01, -3.96270274e-01,  1.24494208e-01,\n",
       "         9.74651768e-02, -3.31891248e-01, -9.53429309e-02,\n",
       "        -8.24897484e-02, -1.62166532e-01,  2.07823651e-01,\n",
       "         6.90218046e-01, -7.03178369e-01,  7.29090041e-01,\n",
       "        -3.11110335e-01,  1.48449924e-01,  4.88784679e-01,\n",
       "        -7.02652042e-02],\n",
       "       [ 4.29140088e-01,  6.32322483e-01,  4.65297074e-01,\n",
       "        -2.34109200e-01, -2.59469726e-01,  1.06883372e-01,\n",
       "         1.08526868e-01, -1.85791928e-01,  2.93342429e-01,\n",
       "        -4.24904114e-01, -1.32542976e-01,  2.04734459e-01,\n",
       "         1.57433855e-01, -1.62097024e-01,  2.56661208e-01,\n",
       "        -5.17419916e-01,  5.55127766e-01, -3.03423494e-01,\n",
       "        -2.40777300e-01,  4.42044403e-01,  3.84075462e-03,\n",
       "         3.53855039e-01, -3.65312181e-01, -2.59189625e-02,\n",
       "        -7.99440949e-03,  1.17978147e-01,  2.19319898e-01,\n",
       "         2.93479286e-02],\n",
       "       [-3.03676214e-01, -1.10813248e-01,  3.87318840e-01,\n",
       "        -4.76611823e-01,  4.36878333e-01,  2.31266630e-01,\n",
       "         3.54641605e-01, -3.89052735e-01,  2.72389092e-01,\n",
       "        -4.78065237e-01,  5.27352991e-02,  2.51315955e-01,\n",
       "         7.85244106e-03,  3.38404110e-01, -1.72871792e-01,\n",
       "        -3.08426102e-01, -1.09457351e-01,  5.28454493e-01,\n",
       "        -7.14509783e-01, -5.04568165e-01, -3.23326421e-01,\n",
       "        -6.62550692e-01,  4.42104058e-02, -7.84842992e-01,\n",
       "         1.63226969e-01, -1.48483909e-01,  1.99962123e-01,\n",
       "         4.02034878e-01],\n",
       "       [-2.61864432e-01,  5.02505712e-01,  4.49759379e-01,\n",
       "         5.64450866e-01,  1.15360228e-03, -2.42051843e-01,\n",
       "         3.38145265e-01,  1.95091806e-02, -4.39572356e-01,\n",
       "        -2.14328184e-01,  6.18259143e-01,  3.52224343e-01,\n",
       "        -7.02188272e-01, -1.84532790e-01,  1.40479661e-03,\n",
       "         4.31059471e-03, -5.08431770e-01,  8.40287186e-02,\n",
       "        -1.11363625e-01,  3.16073120e-01,  5.87126670e-01,\n",
       "        -2.13798704e-03,  4.58761608e-01, -1.54511080e-02,\n",
       "         1.34250192e-01, -1.22275759e-01, -9.80407684e-02,\n",
       "         5.46677246e-01],\n",
       "       [ 5.63683203e-02,  1.09936200e-01, -4.99676376e-01,\n",
       "        -2.83010534e-01, -1.32226690e-01,  2.22963818e-01,\n",
       "         5.43779626e-02,  1.27617249e-01, -8.32705607e-01,\n",
       "         7.75482310e-02,  2.27956884e-01,  6.41014354e-02,\n",
       "         4.57757215e-01, -4.82271551e-02,  1.54879960e-01,\n",
       "         4.17648359e-02, -2.34948286e-02,  2.69686667e-01,\n",
       "         3.48332149e-01, -6.44962132e-01,  4.11312231e-01,\n",
       "         3.95397402e-01,  2.89941643e-01,  3.30212804e-01,\n",
       "        -5.52121538e-01,  1.26016220e-01, -8.42618548e-02,\n",
       "         2.23934287e-01],\n",
       "       [ 5.27295723e-02, -1.16138040e-01,  4.65160325e-01,\n",
       "        -7.13669099e-01, -1.05921087e-01,  2.99336068e-01,\n",
       "        -2.83485228e-01,  1.91922009e-01, -2.67680988e-01,\n",
       "        -3.42839755e-01,  2.17161267e-01,  1.98672478e-01,\n",
       "        -3.71926072e-01, -1.10231573e-01,  6.69652367e-01,\n",
       "         8.02711787e-02, -2.88963086e-02, -5.08600417e-01,\n",
       "        -2.74599533e-01,  7.29191109e-02, -4.84830180e-02,\n",
       "         3.49300603e-01,  3.47959034e-01,  8.19204933e-02,\n",
       "         5.19071061e-01, -4.32375086e-01,  1.54632474e-01,\n",
       "        -2.85602209e-01],\n",
       "       [ 1.39239196e-01, -3.28693070e-01, -1.79040699e-01,\n",
       "        -1.86571862e-01, -5.23401003e-01,  1.45895177e-01,\n",
       "         1.03836061e-01,  1.79221135e-01,  3.32911789e-01,\n",
       "         5.45022154e-01, -7.18911817e-01, -4.94089403e-01,\n",
       "        -4.15328894e-01, -1.71373543e-01, -8.66366162e-02,\n",
       "        -3.76706558e-01,  1.06949392e-01, -6.45134006e-02,\n",
       "        -3.58304054e-01,  8.73384663e-02, -1.34413577e-01,\n",
       "         4.15809442e-01,  2.95199627e-01, -2.80386408e-01,\n",
       "         2.18894392e-01,  3.92182456e-01, -4.19398937e-01,\n",
       "        -2.74471517e-01],\n",
       "       [-4.40929264e-01,  5.44966734e-02, -2.03264946e-01,\n",
       "        -4.76824666e-02, -5.92500282e-02, -3.70998601e-01,\n",
       "         5.03886398e-02,  7.31184299e-02,  2.39520525e-02,\n",
       "        -5.61577239e-03,  8.78939041e-02,  4.46470312e-01,\n",
       "        -3.28331251e-01, -4.79147028e-01, -3.15930754e-01,\n",
       "        -1.66324384e-01, -2.11438567e-01, -6.36531807e-01,\n",
       "        -5.88936186e-01, -6.24283516e-02,  2.70687128e-01,\n",
       "        -6.08438056e-01,  6.79544481e-01, -1.02868647e-03,\n",
       "         3.51693473e-01, -1.98919131e-01, -2.28788975e-01,\n",
       "        -9.17576697e-01],\n",
       "       [ 2.83887589e-01,  5.78523683e-02, -1.44602850e-01,\n",
       "        -1.61920098e-01, -4.54683958e-02,  3.09156222e-01,\n",
       "         2.38209197e-01,  6.23307755e-01, -4.69053564e-02,\n",
       "         2.19574311e-01,  2.26482702e-01,  1.59363331e-01,\n",
       "        -2.02201162e-01,  9.51420575e-02, -1.79977323e-01,\n",
       "        -2.07727298e-02, -3.70114826e-01,  4.99536577e-01,\n",
       "        -1.53545908e-01,  1.33099897e-01,  4.74298262e-02,\n",
       "        -1.82933916e-01,  6.21013318e-01, -2.76848271e-01,\n",
       "         3.45099569e-01, -2.97887668e-01,  6.04330139e-01,\n",
       "        -2.36042991e-01],\n",
       "       [ 4.36918374e-01, -3.14136231e-01,  2.00971180e-01,\n",
       "         2.37390503e-02, -4.00200657e-01, -1.63278659e-02,\n",
       "         1.42006342e-01, -2.05627637e-01, -4.44147093e-01,\n",
       "         2.66225253e-01, -2.06389532e-01,  1.37219065e-01,\n",
       "         3.65466516e-01,  7.38461363e-01, -4.69866104e-01,\n",
       "         3.61468418e-01, -2.72063204e-01,  1.67747229e-01,\n",
       "        -7.62982006e-01, -1.03097642e-02, -3.81322197e-01,\n",
       "        -2.64441995e-01, -2.12875712e-01, -6.84753414e-01,\n",
       "        -1.30803163e-01, -1.87318177e-01, -3.36462362e-02,\n",
       "        -3.27461491e-01],\n",
       "       [ 4.25818938e-01, -6.71187058e-01,  1.06336685e-01,\n",
       "         3.57470061e-01, -7.18039696e-01,  1.17066828e-02,\n",
       "         1.35645013e-01,  2.42374035e-01, -3.22694894e-01,\n",
       "        -7.34250490e-01, -4.33118287e-02,  1.43355528e-01,\n",
       "        -1.95970069e-01, -1.42251401e-01, -2.52949973e-01,\n",
       "         8.57295675e-02,  1.94637399e-02, -2.71829261e-01,\n",
       "        -2.95903916e-01,  1.35022036e-01,  1.77479916e-01,\n",
       "        -7.48102658e-01,  1.91544017e-01, -3.40811716e-01,\n",
       "        -4.23124589e-01,  1.94198325e-02,  4.48803603e-01,\n",
       "        -1.16131103e-01],\n",
       "       [-4.33807084e-02, -1.30932479e-01,  5.56877472e-02,\n",
       "         4.73128670e-01,  4.33598736e-01, -4.65018075e-01,\n",
       "        -1.62536250e-01,  6.86231193e-03,  1.35031180e-01,\n",
       "        -1.26748668e-01,  7.38728530e-02, -2.94840387e-01,\n",
       "         2.41974267e-02,  9.91606855e-02,  1.26313250e-01,\n",
       "         1.03420229e-01,  1.44793495e-01,  9.37314713e-02,\n",
       "         1.20942678e-01,  8.45227483e-02, -6.95206112e-01,\n",
       "        -2.28780262e-01,  4.17892645e-02, -1.48421471e-02,\n",
       "         5.42610961e-02, -5.15934788e-01, -5.98409475e-01,\n",
       "         2.17817359e-01],\n",
       "       [ 3.17828825e-03,  5.01268870e-01, -3.05033582e-01,\n",
       "         3.23850293e-01, -4.63327427e-01,  5.57442651e-01,\n",
       "        -4.91804508e-02, -1.24792165e-01,  3.67318439e-01,\n",
       "        -2.80421309e-01,  1.31012898e-01, -5.76666320e-02,\n",
       "         1.19314383e-01, -5.52950798e-02,  1.28474064e-01,\n",
       "         1.72392482e-01, -5.90639671e-01,  3.29013876e-01,\n",
       "         5.03910759e-01,  5.34172192e-01,  3.28614114e-01,\n",
       "        -6.96884875e-02,  7.39062578e-01,  2.34236988e-01,\n",
       "        -1.07391361e-01,  7.00613102e-02, -5.74787251e-01,\n",
       "         5.18787796e-01],\n",
       "       [-1.09371366e-01, -8.84521648e-02,  2.53230207e-01,\n",
       "        -9.86508965e-01, -1.31023513e-02,  1.69204970e-02,\n",
       "        -1.30423645e-01, -4.09275716e-01,  5.37890401e-02,\n",
       "         2.86616303e-01,  3.21702294e-01, -4.49107480e-01,\n",
       "        -3.14161169e-01, -2.26637440e-01,  7.96024134e-02,\n",
       "        -2.84550282e-01,  1.33771822e-01,  1.38401316e-01,\n",
       "         1.38360695e-01,  2.14253212e-01, -8.87173225e-02,\n",
       "         1.93885382e-01,  2.10924403e-01, -2.17417763e-01,\n",
       "        -8.95761348e-03, -7.08377944e-02,  7.90936142e-02,\n",
       "         3.44209770e-01],\n",
       "       [ 1.93496106e-01,  3.63409753e-01, -5.78489759e-02,\n",
       "         3.96008281e-01, -1.81956292e-01, -1.77538111e-01,\n",
       "         1.57500518e-01,  5.22503720e-01,  2.34455281e-01,\n",
       "        -5.53216658e-01,  1.67909955e-01, -7.74853768e-02,\n",
       "        -6.95229541e-01,  3.14686200e-03,  1.82948287e-01,\n",
       "        -3.00230990e-01, -7.21097784e-02,  2.35245961e-01,\n",
       "        -4.08508589e-01,  2.09602332e-01,  2.95247266e-01,\n",
       "         1.51269238e-01, -2.98256735e-01,  1.37703732e-01,\n",
       "         1.65699296e-01,  1.48975205e-01, -4.95954724e-01,\n",
       "        -4.35698904e-01],\n",
       "       [ 3.52854549e-01, -7.55979610e-02,  1.48917117e-01,\n",
       "         6.27576239e-01, -3.36164376e-02,  1.45283891e-01,\n",
       "        -2.74371153e-01, -1.36340213e-01,  6.40082073e-01,\n",
       "         4.05891302e-01,  2.96351496e-01,  2.79886110e-01,\n",
       "        -3.87696570e-01, -7.56164279e-02, -2.56856851e-01,\n",
       "        -5.04171800e-01, -3.57758595e-01,  1.74528416e-01,\n",
       "        -1.35528134e-01,  5.04192883e-01,  2.55158868e-01,\n",
       "        -1.82133327e-01, -4.06012587e-01, -4.82644170e-01,\n",
       "         1.06915533e-01,  5.42390944e-01,  5.24913241e-01,\n",
       "        -2.47045285e-01],\n",
       "       [-1.43677650e-01, -2.46034373e-02,  2.12731502e-01,\n",
       "        -1.88407644e-01,  2.32086361e-01, -4.44434457e-01,\n",
       "        -1.34995106e-01, -4.84108739e-01,  4.38150428e-02,\n",
       "         4.23545605e-01, -2.04893569e-01,  1.60705504e-01,\n",
       "         1.12479975e-01,  6.53802001e-02,  4.83188966e-01,\n",
       "         4.47762400e-01,  3.51159048e-02, -6.80432343e-02,\n",
       "        -2.05026973e-01, -4.33968104e-01,  2.14896029e-01,\n",
       "         8.37349811e-02, -3.37491416e-01,  3.99107977e-02,\n",
       "         6.42570396e-02, -4.12396466e-01,  4.59539689e-01,\n",
       "        -9.88963099e-02],\n",
       "       [ 7.66332560e-01,  1.44686092e-01, -7.67604368e-01,\n",
       "         6.81829109e-01,  5.07836332e-01, -4.03997473e-01,\n",
       "         3.54523898e-01, -3.40550473e-01, -9.13275074e-01,\n",
       "        -1.10589263e-01, -2.26690849e-02, -4.11952968e-01,\n",
       "         2.48030735e-01,  2.02031572e-01,  1.52215251e-01,\n",
       "        -3.15474128e-01,  5.25494226e-01, -1.73670376e-01,\n",
       "         2.19308721e-01, -3.90664493e-01,  5.19618229e-01,\n",
       "        -5.97102736e-01, -6.99737731e-02,  1.42912950e-01,\n",
       "         1.19162889e-01,  3.82159511e-01, -5.93278140e-02,\n",
       "         3.84692534e-01],\n",
       "       [ 6.01569938e-02,  2.74163937e-01, -3.16781701e-02,\n",
       "        -1.25278099e-01, -9.28757757e-02, -2.81986944e-01,\n",
       "        -4.53368485e-01,  2.31387818e-02, -6.21976335e-02,\n",
       "         4.98271320e-01, -2.22418013e-01, -2.44297175e-01,\n",
       "        -2.20238061e-02, -3.55577277e-01,  6.07685864e-02,\n",
       "         5.75521362e-01, -3.28277590e-01,  1.98083442e-01,\n",
       "         7.91417676e-02,  2.46191861e-01, -1.57210515e-02,\n",
       "         7.36478167e-02,  4.73742940e-01, -1.81715165e-02,\n",
       "         3.58990000e-02,  1.86414497e-01,  2.60683428e-01,\n",
       "        -4.96711206e-01],\n",
       "       [ 2.36706013e-01,  4.32865302e-01, -4.77742944e-02,\n",
       "         1.79400897e-01, -1.94218693e-02, -2.19110261e-01,\n",
       "        -2.82480555e-01, -3.48208418e-01,  1.07603839e+00,\n",
       "         2.71674411e-01,  3.26201619e-01,  2.45946128e-01,\n",
       "         1.61868910e-01,  6.78023834e-02, -1.40891679e-01,\n",
       "         1.04021953e-01,  6.43801166e-01,  1.74488763e-01,\n",
       "        -1.93543696e-01, -5.79755692e-02,  1.31731662e-01,\n",
       "        -2.15117278e-01, -1.35237008e-01,  1.23171278e-01,\n",
       "        -1.67452945e-01, -3.70870124e-02,  6.75611864e-02,\n",
       "        -2.07622713e-01],\n",
       "       [ 8.20844226e-02, -1.37517865e-01, -1.61553395e-01,\n",
       "        -5.07361644e-01, -2.55174162e-01,  6.37792063e-02,\n",
       "         1.74410494e-01,  2.37148683e-01, -9.43464521e-02,\n",
       "        -3.10038675e-01, -6.08681238e-02,  3.15439726e-01,\n",
       "         7.25670711e-03, -3.09648060e-01,  1.15398878e-02,\n",
       "         1.53026064e-01,  6.11435396e-02,  6.27093076e-01,\n",
       "        -3.79478002e-01, -1.03259792e+00,  1.82227411e-01,\n",
       "        -1.90036363e-01,  6.17645156e-02, -4.09072311e-01,\n",
       "        -8.63700904e-02, -2.22709428e-01,  2.82045971e-01,\n",
       "        -2.68965019e-01],\n",
       "       [-1.91383150e-01, -1.05275307e-01,  1.21653566e-01,\n",
       "        -2.55230979e-01, -2.35546751e-02, -3.71120353e-01,\n",
       "        -3.44750889e-02,  1.31898645e-01,  5.76504086e-01,\n",
       "         2.77106330e-01, -2.59530220e-01,  2.18590533e-01,\n",
       "         8.68363750e-02,  3.02961699e-02, -1.85275023e-01,\n",
       "        -1.94079177e-01,  3.65427541e-01,  5.39101121e-02,\n",
       "        -5.27295000e-01, -1.21795930e-01, -5.97621699e-02,\n",
       "         3.82639067e-01,  3.22161019e-01,  7.29962311e-01,\n",
       "        -4.20312766e-01, -1.10840505e-01, -2.53789990e-01,\n",
       "         1.44329492e-02]])"
      ]
     },
     "execution_count": 3,
     "metadata": {},
     "output_type": "execute_result"
    }
   ],
   "source": [
    "np.random.randn(28*28).reshape(28, 28)*0.32"
   ]
  },
  {
   "cell_type": "markdown",
   "metadata": {},
   "source": [
    "### HW1 (1 балл): Реализовать Tanh"
   ]
  },
  {
   "cell_type": "code",
   "execution_count": 32,
   "metadata": {},
   "outputs": [],
   "source": [
    "class Tanh:\n",
    "    \n",
    "    def __init__(self):\n",
    "        pass\n",
    "\n",
    "    def forward(self, X):\n",
    "        self.X = X\n",
    "        return np.tanh(X)\n",
    "    \n",
    "    def backward(self, dLdy):\n",
    "         return dLdy*(1 / (np.cosh(self.X) ** 2))\n",
    "\n",
    "    def step(self, learning_rate):\n",
    "        pass"
   ]
  },
  {
   "cell_type": "markdown",
   "metadata": {},
   "source": [
    "### Часть 4: Аугментация (HW, 2 балла)\n",
    "* Небольшие вращения (-15, 15)\n",
    "* Случайные сдвиги\n",
    "* Шум\n",
    "\n",
    "Какой прирост дают эти аугментации вместе и по отдельности"
   ]
  },
  {
   "cell_type": "code",
   "execution_count": null,
   "metadata": {},
   "outputs": [],
   "source": []
  },
  {
   "cell_type": "markdown",
   "metadata": {},
   "source": [
    "Обучите нейронную сеть с другими нелинейностями: ReLU и ELU. Сравните скорости сходимости и качество классификации с различными функциями активации."
   ]
  },
  {
   "cell_type": "code",
   "execution_count": null,
   "metadata": {
    "collapsed": true
   },
   "outputs": [],
   "source": []
  },
  {
   "cell_type": "markdown",
   "metadata": {},
   "source": [
    "### Часть 5: Выводы\n",
    "Опишите полученные результаты: как влияют выбор нелинейности и предобработка данных на скорость сходимости и итоговое качество?"
   ]
  },
  {
   "cell_type": "code",
   "execution_count": null,
   "metadata": {
    "collapsed": true
   },
   "outputs": [],
   "source": []
  }
 ],
 "metadata": {
  "kernelspec": {
   "display_name": "Python 3",
   "language": "python",
   "name": "python3"
  },
  "language_info": {
   "codemirror_mode": {
    "name": "ipython",
    "version": 3
   },
   "file_extension": ".py",
   "mimetype": "text/x-python",
   "name": "python",
   "nbconvert_exporter": "python",
   "pygments_lexer": "ipython3",
   "version": "3.6.9"
  }
 },
 "nbformat": 4,
 "nbformat_minor": 2
}
