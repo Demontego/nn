{
 "cells": [
  {
   "cell_type": "markdown",
   "metadata": {},
   "source": [
    "## Семинар 15: \"Обучение с подкреплением 2\""
   ]
  },
  {
   "cell_type": "markdown",
   "metadata": {},
   "source": [
    "ФИО: "
   ]
  },
  {
   "cell_type": "markdown",
   "metadata": {},
   "source": [
    "###  FrozenLake\n",
    "\n",
    "\n",
    "<img src=\"http://vignette2.wikia.nocookie.net/riseoftheguardians/images/4/4c/Jack's_little_sister_on_the_ice.jpg/revision/latest?cb=20141218030206\" alt=\"a random image to attract attention\" style=\"width: 400px;\"/>\n",
    "\n"
   ]
  },
  {
   "cell_type": "code",
   "execution_count": 15,
   "metadata": {},
   "outputs": [],
   "source": [
    "import gym\n",
    "import numpy as np \n",
    "import random\n",
    "import matplotlib.pyplot as plt\n",
    "import numpy as np\n",
    "from IPython.display import clear_output\n",
    "#create a single game instance\n",
    "env = gym.make(\"FrozenLake-v0\")\n",
    "\n",
    "#start new game\n",
    "env.reset();"
   ]
  },
  {
   "cell_type": "code",
   "execution_count": 11,
   "metadata": {},
   "outputs": [
    {
     "name": "stdout",
     "output_type": "stream",
     "text": [
      "\n",
      "\u001b[41mS\u001b[0mFFF\n",
      "FHFH\n",
      "FFFH\n",
      "HFFG\n"
     ]
    }
   ],
   "source": [
    "# display the game state\n",
    "env.render()"
   ]
  },
  {
   "cell_type": "markdown",
   "metadata": {},
   "source": [
    "### legend\n",
    "\n",
    "![img](https://cdn-images-1.medium.com/max/800/1*MCjDzR-wfMMkS0rPqXSmKw.png)"
   ]
  },
  {
   "cell_type": "markdown",
   "metadata": {},
   "source": [
    "## Задание 1.\n",
    "Подберите значения alpha и epsilon и найдите приближение оптимальной Q-функции для Frozen Lake."
   ]
  },
  {
   "cell_type": "code",
   "execution_count": 8,
   "metadata": {},
   "outputs": [],
   "source": [
    "class QLearn:\n",
    "    def __init__(self, actions, epsilon=0.1, alpha=0.2, gamma=0.9):\n",
    "        self.q = {}\n",
    "        self.epsilon = epsilon\n",
    "        self.alpha = alpha\n",
    "        self.gamma = gamma\n",
    "        self.actions = actions\n",
    "\n",
    "    def getQ(self, state, action):\n",
    "        return self.q.get((state, action), 0.0)\n",
    "\n",
    "    def learnQ(self, state, action, reward, value):\n",
    "        oldv = self.q.get((state, action), None)\n",
    "\n",
    "        if oldv is None:\n",
    "            self.q[(state, action)] = reward\n",
    "        else:\n",
    "            self.q[(state, action)] = oldv + self.alpha * (value - oldv)\n",
    "\n",
    "    def chooseAction(self, state):\n",
    "        if random.random() < self.epsilon:\n",
    "            action = random.choice(self.actions)\n",
    "        else:\n",
    "            q = [self.getQ(state, a) for a in self.actions]\n",
    "            maxQ = max(q)\n",
    "            count = q.count(maxQ)\n",
    "            if count > 1:\n",
    "                best = [i for i in range(len(self.actions)) if q[i] == maxQ]\n",
    "                i = random.choice(best)\n",
    "            else:\n",
    "                i = q.index(maxQ)\n",
    "\n",
    "            action = self.actions[i]\n",
    "        return action\n",
    "\n",
    "    def learn(self, state1, action1, reward, state2):\n",
    "        maxqnew = max([self.getQ(state2, a) for a in self.actions])\n",
    "        self.learnQ(state1, action1, reward, reward + self.gamma*maxqnew)"
   ]
  },
  {
   "cell_type": "code",
   "execution_count": null,
   "metadata": {},
   "outputs": [],
   "source": []
  },
  {
   "cell_type": "code",
   "execution_count": 4,
   "metadata": {},
   "outputs": [],
   "source": [
    "qlearn = QLearn(actions=range(env.env.nA), gamma=1, epsilon=0.1, alpha=0.2)"
   ]
  },
  {
   "cell_type": "code",
   "execution_count": 5,
   "metadata": {},
   "outputs": [],
   "source": [
    "def run_episode_qlearn_learn(env, qlearn, gamma = 1.0, render = False):\n",
    "    obs = env.reset()\n",
    "    total_reward = 0\n",
    "    step_idx = 0\n",
    "    while True:\n",
    "        if render:\n",
    "            env.render()\n",
    "        action = qlearn.chooseAction(obs)\n",
    "        obs_new, reward, done, _ = env.step(action)\n",
    "        qlearn.learn(obs, action, reward, obs_new)\n",
    "        obs = obs_new\n",
    "        total_reward += (gamma ** step_idx * reward)\n",
    "        step_idx += 1\n",
    "        if done:\n",
    "            break\n",
    "    return total_reward"
   ]
  },
  {
   "cell_type": "code",
   "execution_count": 6,
   "metadata": {},
   "outputs": [],
   "source": [
    "def run_episode_qlearn(env, qlearn, gamma = 1.0, render = False):\n",
    "    obs = env.reset()\n",
    "    total_reward = 0\n",
    "    step_idx = 0\n",
    "    while True:\n",
    "        if render:\n",
    "            env.render()\n",
    "        action = qlearn.chooseAction(obs)\n",
    "        obs_new, reward, done, _ = env.step(action)\n",
    "        obs = obs_new\n",
    "        total_reward += (gamma ** step_idx * reward)\n",
    "        step_idx += 1\n",
    "        if done:\n",
    "            break\n",
    "    return total_reward"
   ]
  },
  {
   "cell_type": "code",
   "execution_count": 7,
   "metadata": {},
   "outputs": [],
   "source": [
    "def evaluate_qlearn(env, qlearn, gamma = 1.0,  n = 100):\n",
    "    scores = [\n",
    "            run_episode_qlearn(env, qlearn, gamma = gamma, render = False)\n",
    "            for _ in range(n)]\n",
    "    return np.mean(scores)"
   ]
  },
  {
   "cell_type": "code",
   "execution_count": 50,
   "metadata": {},
   "outputs": [],
   "source": [
    "env = gym.make(\"FrozenLake-v0\")"
   ]
  },
  {
   "cell_type": "code",
   "execution_count": 58,
   "metadata": {},
   "outputs": [
    {
     "data": {
      "text/plain": [
       "0.71"
      ]
     },
     "execution_count": 58,
     "metadata": {},
     "output_type": "execute_result"
    }
   ],
   "source": [
    "qlearn = QLearn(actions=range(env.env.nA), gamma=1, epsilon=0.01, alpha=0.25)\n",
    "for i in range(10000):\n",
    "    run_episode_qlearn_learn(env, qlearn, gamma= 1)\n",
    "evaluate_qlearn(env, qlearn, gamma = 1)"
   ]
  },
  {
   "cell_type": "markdown",
   "metadata": {
    "collapsed": true
   },
   "source": [
    "## Задание 2.\n",
    "Обучите сеть DQN для среды http://gym.openai.com/envs/Pong-v0/ "
   ]
  },
  {
   "cell_type": "code",
   "execution_count": 59,
   "metadata": {},
   "outputs": [],
   "source": [
    "import torch\n",
    "from torch.autograd import Variable\n",
    "import torch.nn as nn\n",
    "import cv2\n",
    "import torch.optim as optim\n",
    "import time"
   ]
  },
  {
   "cell_type": "code",
   "execution_count": 61,
   "metadata": {},
   "outputs": [],
   "source": [
    "class MemoryReplay(object):\n",
    "\n",
    "    def __init__(self,\n",
    "                 max_size=10000,\n",
    "                 bs=64,\n",
    "                 im_size=84,\n",
    "                 stack=4):\n",
    "\n",
    "        self.s = np.zeros((max_size, stack+1, im_size, im_size), dtype=np.float32)\n",
    "        self.r = np.zeros(max_size, dtype=np.float32)\n",
    "        self.a = np.zeros(max_size, dtype=np.int32)\n",
    "        self.done = np.array([True]*max_size)\n",
    "\n",
    "        self.max_size = max_size\n",
    "        self.bs = bs\n",
    "        self._cursor = None\n",
    "        self.total_idx = list(range(self.max_size))\n",
    "\n",
    "\n",
    "    def put(self, sras):\n",
    "\n",
    "        if self._cursor == (self.max_size-1) or self._cursor is None :\n",
    "            self._cursor = 0\n",
    "        else:\n",
    "            self._cursor += 1\n",
    "\n",
    "        self.s[self._cursor] = sras[0]\n",
    "        self.a[self._cursor] = sras[1]\n",
    "        self.r[self._cursor] = sras[2]\n",
    "        self.done[self._cursor] = sras[3]\n",
    "\n",
    "\n",
    "    def batch(self):\n",
    "\n",
    "        sample_idx = random.sample(self.total_idx, self.bs)\n",
    "        s = self.s[sample_idx, :4]\n",
    "        a = self.a[sample_idx]\n",
    "        r = self.r[sample_idx]\n",
    "        ss = self.s[sample_idx, 1:]\n",
    "        done = self.done[sample_idx]\n",
    "\n",
    "        return s, a, r, ss, done"
   ]
  },
  {
   "cell_type": "code",
   "execution_count": 62,
   "metadata": {},
   "outputs": [],
   "source": [
    "class DQN(nn.Module):\n",
    "\n",
    "    def __init__(self):\n",
    "\n",
    "        super(DQN, self).__init__()\n",
    "\n",
    "        self.model = nn.Sequential(\n",
    "            nn.Conv2d(4, 32, 8, 4, 0),\n",
    "            nn.ReLU(inplace=True),\n",
    "            nn.Conv2d(32, 64, 4, 2, 0),\n",
    "            nn.ReLU(inplace=True),\n",
    "            nn.Conv2d(64, 64, 3, 1, 0),\n",
    "            nn.ReLU(inplace=True),\n",
    "            nn.Conv2d(64, 512, 7, 4, 0),\n",
    "            nn.ReLU(inplace=True),\n",
    "            nn.Conv2d(512, 3, 1, 1, 0)\n",
    "        )\n",
    "\n",
    "    def forward(self, x):\n",
    "        x = self.model(x).squeeze()\n",
    "        return x"
   ]
  },
  {
   "cell_type": "code",
   "execution_count": 63,
   "metadata": {},
   "outputs": [],
   "source": [
    "class Pong(object):\n",
    "\n",
    "    def __init__(self):\n",
    "\n",
    "        self.env = gym.make('Pong-v0')\n",
    "        self.current_phi = None\n",
    "        self.reset()\n",
    "\n",
    "    def step(self, action):\n",
    "\n",
    "        obs, r, done, info = self.env.step(action)\n",
    "        obs = self._rbg2gray(obs)\n",
    "        phi_next = self._phi(obs)\n",
    "\n",
    "        phi_phi = np.vstack([self.current_phi, obs[np.newaxis]])\n",
    "        self.current_phi = phi_next\n",
    "\n",
    "        return phi_phi, r, done\n",
    "\n",
    "    def reset(self):\n",
    "        x = self.env.reset()\n",
    "        x = self._rbg2gray(x)\n",
    "        phi = np.stack([x, x, x, x])\n",
    "        self.current_phi = phi\n",
    "\n",
    "        return phi\n",
    "\n",
    "    def _rbg2gray(self, x):\n",
    "        x = x.astype('float32')\n",
    "        x = cv2.cvtColor(x, cv2.COLOR_RGB2GRAY)\n",
    "        x = cv2.resize(x, (84, 84))/127.5 - 1.\n",
    "\n",
    "        return x\n",
    "\n",
    "    def _phi(self, x):\n",
    "\n",
    "        new_phi = np.zeros((4, 84, 84), dtype=np.float32)\n",
    "        new_phi[:3] = self.current_phi[1:]\n",
    "        new_phi[-1] = x\n",
    "\n",
    "        return new_phi\n",
    "\n",
    "    def display(self):\n",
    "        self.env.render()"
   ]
  },
  {
   "cell_type": "code",
   "execution_count": 64,
   "metadata": {},
   "outputs": [],
   "source": [
    "def sample_action(env, agent, var_phi, epsilon):\n",
    "\n",
    "    if random.uniform(0, 1) > epsilon:\n",
    "        phi = env.current_phi\n",
    "        var_phi.data.copy_(torch.from_numpy(phi))\n",
    "\n",
    "        q_values = agent(var_phi)\n",
    "        max_q, act_index = q_values.max(dim=0)\n",
    "        act_index = np.asscalar(act_index.data.cpu().numpy())\n",
    "    else:\n",
    "        act_index = random.randrange(3)\n",
    "\n",
    "    return act_index"
   ]
  },
  {
   "cell_type": "code",
   "execution_count": 65,
   "metadata": {},
   "outputs": [],
   "source": [
    "def run_episode_dqn(pong, dqn, gamma = 1.0, render = False):\n",
    "    VALID_ACTION = [0, 2, 5]\n",
    "    obs = env.reset()\n",
    "    var_phi = Variable(torch.Tensor(1, 4, 84, 84), volatile=True)\n",
    "    total_reward = 0\n",
    "    step_idx = 0\n",
    "    while True:\n",
    "        if render:\n",
    "            env.render()\n",
    "        act_index = sample_action(pong, dqn, var_phi)\n",
    "        obs_new, reward, done = pong.step(VALID_ACTION[act_index])\n",
    "        obs = obs_new\n",
    "        #total_reward += (gamma ** step_idx * reward)\n",
    "        total_reward += reward\n",
    "        step_idx += 1\n",
    "        if done:\n",
    "            break\n",
    "    return total_reward"
   ]
  },
  {
   "cell_type": "code",
   "execution_count": 66,
   "metadata": {},
   "outputs": [],
   "source": [
    "def evaluate_dqn(env, dqn, gamma = 1.0,  n = 100):\n",
    "    scores = [\n",
    "            run_episode_dqn(env, dqn, gamma = gamma, render = False)\n",
    "            for _ in range(n)]\n",
    "    return np.mean(scores)"
   ]
  },
  {
   "cell_type": "code",
   "execution_count": 70,
   "metadata": {},
   "outputs": [
    {
     "name": "stderr",
     "output_type": "stream",
     "text": [
      "C:\\Users\\vkrin\\Anaconda3\\lib\\site-packages\\ipykernel_launcher.py:8: UserWarning: volatile was removed and now has no effect. Use `with torch.no_grad():` instead.\n",
      "  \n"
     ]
    }
   ],
   "source": [
    "VALID_ACTION = [0, 3, 4]\n",
    "GAMMA = 0.99\n",
    "epsilon = 0.5\n",
    "memory_size = 2000\n",
    "max_epoch = 1000000\n",
    "batch_size = 64\n",
    "\n",
    "var_phi = Variable(torch.Tensor(1, 4, 84, 84), volatile=True).cuda()\n",
    "\n",
    "var_batch_phi = Variable(torch.Tensor(batch_size, 4, 84, 84)).cuda()\n",
    "var_batch_a = Variable(torch.LongTensor(batch_size, 1), requires_grad=False).cuda()\n",
    "var_batch_r = Variable(torch.Tensor(batch_size, 1)).cuda()\n",
    "var_batch_phi_next = Variable(torch.Tensor(batch_size, 4, 84, 84)).cuda()\n",
    "var_batch_r_mask = Variable(torch.Tensor(batch_size, 1), requires_grad=False).cuda()\n",
    "\n",
    "pong = Pong()\n",
    "MP = MemoryReplay(memory_size, batch_size)\n",
    "dqn = DQN().cuda()\n",
    "target_dqn = DQN().cuda()\n",
    "optimz = optim.RMSprop(dqn.parameters(), lr=0.0025, alpha=0.9, eps=1e-02, momentum=0.0)"
   ]
  },
  {
   "cell_type": "code",
   "execution_count": 71,
   "metadata": {},
   "outputs": [],
   "source": [
    "for i in range(memory_size):\n",
    "    phi = pong.current_phi\n",
    "    act_index = random.randrange(3)\n",
    "    phi_next, r, done = pong.step(VALID_ACTION[act_index])\n",
    "    #pong.display()\n",
    "    MP.put((phi_next, act_index, r, done))\n",
    "\n",
    "    if done:\n",
    "        pong.reset()"
   ]
  },
  {
   "cell_type": "code",
   "execution_count": 72,
   "metadata": {},
   "outputs": [],
   "source": [
    "score = 0.\n",
    "avg_score = -21.0\n",
    "\n",
    "SCORE = []\n",
    "QVALUE = []\n",
    "QVALUE_MEAN = []\n",
    "QVALUE_STD = []"
   ]
  },
  {
   "cell_type": "code",
   "execution_count": 73,
   "metadata": {},
   "outputs": [
    {
     "name": "stdout",
     "output_type": "stream",
     "text": [
      "Epoch: 3. Avg.Score:-20.673200"
     ]
    },
    {
     "ename": "KeyboardInterrupt",
     "evalue": "",
     "output_type": "error",
     "traceback": [
      "\u001b[1;31m---------------------------------------------------------------------------\u001b[0m",
      "\u001b[1;31mKeyboardInterrupt\u001b[0m                         Traceback (most recent call last)",
      "\u001b[1;32m<ipython-input-73-91f3c7c9e2e4>\u001b[0m in \u001b[0;36m<module>\u001b[1;34m\u001b[0m\n\u001b[0;32m     41\u001b[0m         \u001b[0moptimz\u001b[0m\u001b[1;33m.\u001b[0m\u001b[0mstep\u001b[0m\u001b[1;33m(\u001b[0m\u001b[1;33m)\u001b[0m\u001b[1;33m\u001b[0m\u001b[1;33m\u001b[0m\u001b[0m\n\u001b[0;32m     42\u001b[0m \u001b[1;33m\u001b[0m\u001b[0m\n\u001b[1;32m---> 43\u001b[1;33m         \u001b[0mQVALUE\u001b[0m\u001b[1;33m.\u001b[0m\u001b[0mappend\u001b[0m\u001b[1;33m(\u001b[0m\u001b[0mbatch_q\u001b[0m\u001b[1;33m.\u001b[0m\u001b[0mdata\u001b[0m\u001b[1;33m.\u001b[0m\u001b[0mcpu\u001b[0m\u001b[1;33m(\u001b[0m\u001b[1;33m)\u001b[0m\u001b[1;33m.\u001b[0m\u001b[0mnumpy\u001b[0m\u001b[1;33m(\u001b[0m\u001b[1;33m)\u001b[0m\u001b[1;33m.\u001b[0m\u001b[0mmean\u001b[0m\u001b[1;33m(\u001b[0m\u001b[1;33m)\u001b[0m\u001b[1;33m)\u001b[0m\u001b[1;33m\u001b[0m\u001b[1;33m\u001b[0m\u001b[0m\n\u001b[0m\u001b[0;32m     44\u001b[0m \u001b[1;33m\u001b[0m\u001b[0m\n\u001b[0;32m     45\u001b[0m     \u001b[0mSCORE\u001b[0m\u001b[1;33m.\u001b[0m\u001b[0mappend\u001b[0m\u001b[1;33m(\u001b[0m\u001b[0mscore\u001b[0m\u001b[1;33m)\u001b[0m\u001b[1;33m\u001b[0m\u001b[1;33m\u001b[0m\u001b[0m\n",
      "\u001b[1;31mKeyboardInterrupt\u001b[0m: "
     ]
    }
   ],
   "source": [
    "import sys\n",
    "pong.reset()\n",
    "\n",
    "for epoch in range(max_epoch): \n",
    "\n",
    "    while not done:\n",
    "\n",
    "        optimz.zero_grad()\n",
    "\n",
    "        act_index = sample_action(pong, dqn, var_phi, epsilon)\n",
    "\n",
    "        epsilon = (epsilon - 1e-6) if epsilon > 0.1 else  0.1\n",
    "        phi_next, r, done = pong.step(VALID_ACTION[act_index])\n",
    "        #pong.display()\n",
    "        MP.put((phi_next, act_index, r, done))\n",
    "        r = np.clip(r, -1, 1)\n",
    "        score += r\n",
    "\n",
    "        # batch sample from memory to train\n",
    "        batch_phi, batch_a, batch_r, batch_phi_next, batch_done = MP.batch()\n",
    "        var_batch_phi_next.data.copy_(torch.from_numpy(batch_phi_next))\n",
    "        batch_target_q, _ = target_dqn(var_batch_phi_next).max(dim=1)\n",
    "\n",
    "        mask_index = np.ones((batch_size, 1))\n",
    "        mask_index[batch_done] = 0.0\n",
    "        var_batch_r_mask.data.copy_(torch.from_numpy(mask_index))\n",
    "\n",
    "        var_batch_r.data.copy_(torch.from_numpy(batch_r.reshape((batch_size, 1))))\n",
    "\n",
    "        y = var_batch_r + batch_target_q.mul(GAMMA).mul(var_batch_r_mask)\n",
    "        y = y.detach()\n",
    "\n",
    "        var_batch_phi.data.copy_(torch.from_numpy(batch_phi))\n",
    "        batch_q = dqn(var_batch_phi)\n",
    "\n",
    "        var_batch_a.data.copy_(torch.from_numpy(batch_a).long().view(-1, 1))\n",
    "        batch_q = batch_q.gather(1, var_batch_a)\n",
    "\n",
    "        loss = y.sub(batch_q).pow(2).mean()\n",
    "        loss.backward()\n",
    "        optimz.step()\n",
    "\n",
    "        QVALUE.append(batch_q.data.cpu().numpy().mean())\n",
    "\n",
    "    SCORE.append(score)\n",
    "    QVALUE_MEAN.append(np.mean(QVALUE))\n",
    "    QVALUE_STD.append(np.std(QVALUE))\n",
    "    QVALUE = []\n",
    "\n",
    "    pong.reset()\n",
    "    done = False\n",
    "    avg_score = 0.9 * avg_score + 0.1 * score\n",
    "    score = 0.0\n",
    "    sys.stdout.write('\\rEpoch: {0}. Avg.Score:{1:6f}'.format(epoch, avg_score))"
   ]
  },
  {
   "cell_type": "code",
   "execution_count": null,
   "metadata": {},
   "outputs": [],
   "source": []
  }
 ],
 "metadata": {
  "kernelspec": {
   "display_name": "Python 3",
   "language": "python",
   "name": "python3"
  },
  "language_info": {
   "codemirror_mode": {
    "name": "ipython",
    "version": 3
   },
   "file_extension": ".py",
   "mimetype": "text/x-python",
   "name": "python",
   "nbconvert_exporter": "python",
   "pygments_lexer": "ipython3",
   "version": "3.7.4"
  }
 },
 "nbformat": 4,
 "nbformat_minor": 1
}
