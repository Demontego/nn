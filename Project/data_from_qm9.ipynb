{
 "cells": [
  {
   "cell_type": "code",
   "execution_count": 1,
   "metadata": {},
   "outputs": [],
   "source": [
    "from os import listdir\n",
    "import time\n",
    "import argparse\n",
    "import os\n",
    "import numpy as np"
   ]
  },
  {
   "cell_type": "code",
   "execution_count": 9,
   "metadata": {},
   "outputs": [],
   "source": [
    "parser = argparse.ArgumentParser(description='Neural message passing')\n",
    "\n",
    "parser.add_argument('--dataset', default='our_data')\n",
    "parser.add_argument('--datasetPath', default='./data/qm9/dsgdb9nsd', help='dataset path')\n",
    "parser.add_argument('--logPath', default='./log/our_data/mpnn/', help='log path')\n",
    "parser.add_argument('--plotLr', default=False, help='allow plotting the data')\n",
    "parser.add_argument('--plotPath', default='./plot/our_data/mpnn/', help='plot path')\n",
    "parser.add_argument('--resume', default='./checkpoint/our_data/mpnn/',\n",
    "                    help='path to latest checkpoint')\n",
    "# Optimization Options\n",
    "parser.add_argument('--batch-size', type=int, default=100, metavar='N',\n",
    "                    help='Input batch size for training (default: 20)')\n",
    "parser.add_argument('--no-cuda', action='store_true', default=False,\n",
    "                    help='Enables CUDA training')\n",
    "parser.add_argument('--epochs', type=int, default=360, metavar='N',\n",
    "                    help='Number of epochs to train (default: 360)')\n",
    "parser.add_argument('--lr', type=lambda x: restricted_float(x, [1e-5, 1e-2]), default=1e-3, metavar='LR',\n",
    "                    help='Initial learning rate [1e-5, 5e-4] (default: 1e-4)')\n",
    "parser.add_argument('--lr-decay', type=lambda x: restricted_float(x, [.01, 1]), default=0.6, metavar='LR-DECAY',\n",
    "                    help='Learning rate decay factor [.01, 1] (default: 0.6)')\n",
    "parser.add_argument('--schedule', type=list, default=[0.1, 0.9], metavar='S',\n",
    "                    help='Percentage of epochs to start the learning rate decay [0, 1] (default: [0.1, 0.9])')\n",
    "parser.add_argument('--momentum', type=float, default=0.9, metavar='M',\n",
    "                    help='SGD momentum (default: 0.9)')\n",
    "# i/o\n",
    "parser.add_argument('--log-interval', type=int, default=20, metavar='N',\n",
    "                    help='How many batches to wait before logging training status')\n",
    "# Accelerating\n",
    "parser.add_argument('--prefetch', type=int, default=2, help='Pre-fetching threads.')\n",
    "\n",
    "best_er1 = 0\n",
    "\n",
    "\n",
    "\n",
    "args = parser.parse_args([])"
   ]
  },
  {
   "cell_type": "code",
   "execution_count": 10,
   "metadata": {},
   "outputs": [],
   "source": [
    "subdir = '01_Keypoint'\n",
    "root= args.datasetPath\n",
    "files = [f for f in os.listdir(root) if os.path.isfile(os.path.join(root, f))]"
   ]
  },
  {
   "cell_type": "code",
   "execution_count": 12,
   "metadata": {},
   "outputs": [],
   "source": [
    "out= open(\"Smiles.csv\", 'w', encoding='utf-8')\n",
    "out.writelines('SMILES,H'+'\\n')\n",
    "for i in files:\n",
    "    with open(root+'/'+i,'r') as f:\n",
    "        # Number of atoms\n",
    "        na = int(f.readline())\n",
    "        #tag=f.readline().strip()\n",
    "        # Graph properties\n",
    "        prop = f.readline()\n",
    "        prop = prop.split()\n",
    "        g_tag = prop[0]\n",
    "        g_index = int(prop[1])\n",
    "        g_A = float(prop[2])\n",
    "        g_B = float(prop[3]) \n",
    "        g_C = float(prop[4]) \n",
    "        g_mu = float(prop[5])\n",
    "        g_alpha = float(prop[6]) \n",
    "        g_homo = float(prop[7])\n",
    "        g_lumo = float(prop[8]) \n",
    "        g_gap = float(prop[9])\n",
    "        g_r2 = float(prop[10])\n",
    "        g_zpve = float(prop[11]) \n",
    "        g_U0 = float(prop[12]) \n",
    "        g_U = float(prop[13])\n",
    "        g_H = float(prop[14])\n",
    "        g_G = float(prop[15])\n",
    "        g_Cv = float(prop[16])\n",
    "        #g, l = init_graph(properties)\n",
    "        #g,l=init_graph_our(tag, properties)\n",
    "        #atom_properties = []\n",
    "        # Atoms properties\n",
    "        for i in range(na):\n",
    "            a_properties = f.readline()\n",
    "            #a_properties = a_properties.replace('.*^', 'e')\n",
    "            #a_properties = a_properties.replace('*^', 'e')\n",
    "            #a_properties = a_properties.split()\n",
    "            #atom_properties.append(a_properties)\n",
    "\n",
    "        # Frequencies\n",
    "        f.readline()\n",
    "\n",
    "        # SMILES\n",
    "        smiles = f.readline()\n",
    "        smiles = smiles.split()\n",
    "        smiles = smiles[0]\n",
    "        out.writelines(str(smiles)+','+str(g_H)+'\\n')\n",
    "        #m = Chem.MolFromSmiles(smiles)\n",
    "        #m = Chem.AddHs(m)\n",
    "out.close()"
   ]
  },
  {
   "cell_type": "code",
   "execution_count": null,
   "metadata": {},
   "outputs": [],
   "source": []
  }
 ],
 "metadata": {
  "kernelspec": {
   "display_name": "Python 3",
   "language": "python",
   "name": "python3"
  },
  "language_info": {
   "codemirror_mode": {
    "name": "ipython",
    "version": 3
   },
   "file_extension": ".py",
   "mimetype": "text/x-python",
   "name": "python",
   "nbconvert_exporter": "python",
   "pygments_lexer": "ipython3",
   "version": "3.7.4"
  }
 },
 "nbformat": 4,
 "nbformat_minor": 2
}
