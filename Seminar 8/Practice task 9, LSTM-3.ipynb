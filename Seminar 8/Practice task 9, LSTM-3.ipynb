{
 "cells": [
  {
   "cell_type": "markdown",
   "metadata": {},
   "source": [
    "## Семинар 9: \"LSTM\""
   ]
  },
  {
   "cell_type": "markdown",
   "metadata": {},
   "source": [
    "ФИО: Курбанов Ринат Фирдусович"
   ]
  },
  {
   "cell_type": "code",
   "execution_count": 2,
   "metadata": {},
   "outputs": [],
   "source": [
    "import numpy as np\n",
    "import time\n",
    "from sklearn.datasets import fetch_olivetti_faces\n",
    "from sklearn.model_selection import train_test_split\n",
    "import matplotlib.pyplot as plt\n",
    "from torch import optim\n",
    "import torch\n",
    "from torch import nn\n",
    "from torch.autograd import Variable\n",
    "from torch.utils.data import Dataset, DataLoader\n",
    "from torch.nn.utils.rnn import pack_sequence\n",
    "from torch.nn.utils.rnn import pad_packed_sequence\n",
    "from torch.optim.lr_scheduler import StepLR\n",
    "import pandas\n",
    "from sklearn.preprocessing import MinMaxScaler\n",
    "%matplotlib inline"
   ]
  },
  {
   "cell_type": "markdown",
   "metadata": {},
   "source": [
    "Этот семинар посвящен реализации RNN в pyTorch"
   ]
  },
  {
   "cell_type": "markdown",
   "metadata": {},
   "source": [
    "## Задание 1"
   ]
  },
  {
   "cell_type": "markdown",
   "metadata": {},
   "source": [
    "Напишите свою реализацию LSTM."
   ]
  },
  {
   "cell_type": "markdown",
   "metadata": {},
   "source": [
    "<img src=\"https://cdn-images-1.medium.com/max/1600/1*hl9UVtgIcQkDIGD8VFykdw.png\" width=\"640\">"
   ]
  },
  {
   "cell_type": "code",
   "execution_count": 3,
   "metadata": {},
   "outputs": [],
   "source": [
    "class LSTM(nn.Module):\n",
    "    def __init__(self, input_size, hidden_size):\n",
    "        super(LSTM, self).__init__()\n",
    "        self.input_size = input_size\n",
    "        self.hidden_size = hidden_size\n",
    "        self.gate_size = 4 * self.hidden_size\n",
    "        \n",
    "        self.W_i = nn.Parameter(torch.Tensor(input_size, self.gate_size).zero_())\n",
    "        \n",
    "        self.W_h = nn.Parameter(torch.Tensor(hidden_size, self.gate_size).zero_())\n",
    "        \n",
    "        self.b = nn.Parameter(torch.Tensor(self.gate_size).zero_())\n",
    "        \n",
    "        \n",
    "    def forward(self, inputs, hidden):\n",
    "        # inputs: (seq_len, batch_size, input_size)\n",
    "        # hidden: (batch_size, hidden_size) x 2. (no layers)\n",
    "        \n",
    "        h_0, c_0 = hidden\n",
    "        bs = h_0.size(0)\n",
    "        \n",
    "        seq_length = inputs.size(0)\n",
    "        out = Variable(torch.Tensor(seq_length, bs, self.hidden_size))\n",
    "        if (next(self.parameters()).is_cuda):\n",
    "            out = out.cuda()\n",
    "            \n",
    "        \n",
    "        for i, inp in enumerate(inputs):\n",
    "            S = (torch.matmul(inp, self.W_i) + torch.matmul(h_0, self.W_h) + self.b)\n",
    "            S = S.view(bs, 4, self.hidden_size)\n",
    "            \n",
    "            i_1 = torch.sigmoid(S[:,0,:])\n",
    "            f_1 = torch.sigmoid(S[:,1,:])\n",
    "            g_1 = torch.tanh(S[:,2,:])\n",
    "            o_1 = torch.sigmoid(S[:,3,:])\n",
    "            \n",
    "            c_0 = f_1 * c_0 + i_1 * g_1\n",
    "            h_0 = o_1 * torch.tanh(c_0)\n",
    "            out[i] = h_0\n",
    "        return out, (h_0, c_0)\n",
    "            \n",
    "        "
   ]
  },
  {
   "cell_type": "markdown",
   "metadata": {
    "collapsed": true
   },
   "source": [
    "## Задание 2"
   ]
  },
  {
   "cell_type": "markdown",
   "metadata": {},
   "source": [
    "Используя свою реализацию LSTM и torch.nn.LSTM сделать решить задачу предсказания временного ряда.\n",
    "Попробуйте разные длины входной и выходной последовательности."
   ]
  },
  {
   "cell_type": "markdown",
   "metadata": {},
   "source": [
    "Данные о количестве пассажиров\n",
    "https://datamarket.com/data/set/22u3/international-airline-passengers-monthly-totals-in-thousands-jan-49-dec-60#!ds=22u3&display=line"
   ]
  },
  {
   "cell_type": "code",
   "execution_count": 4,
   "metadata": {},
   "outputs": [
    {
     "data": {
      "image/png": "[encoded data removed]",
      "text/plain": [
       "<Figure size 432x288 with 1 Axes>"
      ]
     },
     "metadata": {
      "needs_background": "light"
     },
     "output_type": "display_data"
    }
   ],
   "source": [
    "dataset = pandas.read_csv('international-airline-passengers.csv', usecols=[1], delimiter=\";\", engine='python', skipfooter=3)\n",
    "plt.plot(dataset)\n",
    "plt.show()"
   ]
  },
  {
   "cell_type": "code",
   "execution_count": 6,
   "metadata": {},
   "outputs": [],
   "source": [
    "# подготовливаем данные\n",
    "\n",
    "dataset = dataset.values\n",
    "dataset = dataset.astype('float32')\n",
    "scaler = MinMaxScaler(feature_range=(0, 1))\n",
    "dataset = scaler.fit_transform(dataset)"
   ]
  },
  {
   "cell_type": "code",
   "execution_count": 7,
   "metadata": {},
   "outputs": [
    {
     "name": "stdout",
     "output_type": "stream",
     "text": [
      "96 48\n"
     ]
    }
   ],
   "source": [
    "# разбиваем данные на train / test\n",
    "train_size = int(len(dataset) * 0.67)\n",
    "test_size = len(dataset) - train_size\n",
    "train, test = dataset[0:train_size,:], dataset[train_size:len(dataset),:]\n",
    "print(len(train), len(test))"
   ]
  },
  {
   "cell_type": "code",
   "execution_count": 8,
   "metadata": {},
   "outputs": [],
   "source": [
    "# Целевая переменная - сдвинутая последовательность значений входов\n",
    "\n",
    "def create_dataset(dataset, look_back=1):\n",
    "    dataX, dataY = [], []\n",
    "    for i in range(len(dataset)-look_back-1):\n",
    "        a = dataset[i:(i+look_back), 0]\n",
    "        dataX.append(a)\n",
    "        dataY.append(dataset[i + look_back, 0])\n",
    "\n",
    "    return np.array(dataX), np.array(dataY)"
   ]
  },
  {
   "cell_type": "code",
   "execution_count": 9,
   "metadata": {},
   "outputs": [],
   "source": [
    "look_back = 20\n",
    "trainX, trainY = create_dataset(train, look_back)\n",
    "testX, testY = create_dataset(test, look_back)"
   ]
  },
  {
   "cell_type": "code",
   "execution_count": 10,
   "metadata": {},
   "outputs": [],
   "source": [
    "class PassengerDataset(Dataset):\n",
    "    def __init__(self, trainX, trainY):\n",
    "        self.trainX = trainX\n",
    "        self.trainY = trainY\n",
    "\n",
    "    def __len__(self):\n",
    "        return len(self.trainY)\n",
    "\n",
    "    def __getitem__(self, idx):\n",
    "        return self.trainX[idx], self.trainY[idx]\n",
    "    \n",
    "train_dataset = PassengerDataset(trainX, trainY)\n",
    "train_dataloader = DataLoader(train_dataset, shuffle=True, batch_size=64)\n",
    "\n",
    "test_dataset = PassengerDataset(testX, testY)\n",
    "test_dataloader = DataLoader(test_dataset, batch_size=64)"
   ]
  },
  {
   "cell_type": "markdown",
   "metadata": {},
   "source": [
    "# torch.nn.LSTM"
   ]
  },
  {
   "cell_type": "code",
   "execution_count": 45,
   "metadata": {},
   "outputs": [],
   "source": [
    "class LSTMModel(nn.Module):\n",
    "    def __init__(self, hidden_dim, num_layers=1):\n",
    "        super(LSTMModel, self).__init__()\n",
    "        self.hidden_dim = hidden_dim\n",
    "        self.num_layers = num_layers\n",
    "\n",
    "        self.lstm = nn.LSTM(1, hidden_dim, num_layers=num_layers)\n",
    "\n",
    "        self.hidden2out = nn.Sequential(nn.Linear(hidden_dim, 1))\n",
    "\n",
    "    def forward(self, inp):\n",
    "        seq_length = inp.size(1)\n",
    "        batch_size = inp.size(0)\n",
    "        hidden = (Variable(torch.zeros(self.num_layers, batch_size, self.hidden_dim)),\n",
    "                  Variable(torch.zeros(self.num_layers, batch_size, self.hidden_dim)))\n",
    "        inp = pack_sequence(inp)\n",
    "        \n",
    "        lstm_out, self.hidden = self.lstm(inp, hidden)\n",
    "        lstm_out, _ = pad_packed_sequence(lstm_out)\n",
    "        lstm_out = lstm_out[-1]\n",
    "        \n",
    "        out = self.hidden2out(lstm_out.view(batch_size, self.hidden_dim))\n",
    "        return out"
   ]
  },
  {
   "cell_type": "code",
   "execution_count": 46,
   "metadata": {},
   "outputs": [],
   "source": [
    "def generate(model, n, inputs, batch_first=True):\n",
    "    result = np.zeros(n + len(inputs))\n",
    "    result[:len(inputs)] = inputs\n",
    "    inp = 0\n",
    "    for i in range(n):\n",
    "        if batch_first:\n",
    "            inp = Variable(torch.FloatTensor(result[i:i+len(inputs)])).view(1, len(inputs), 1)\n",
    "        else:\n",
    "            inp = Variable(torch.FloatTensor(result[i:i+len(inputs)])).view(len(inputs), 1, 1)\n",
    "        res = lstm(inp)\n",
    "        result[i + len(inputs)] = res[-1].cpu().data.numpy()\n",
    "    return result"
   ]
  },
  {
   "cell_type": "code",
   "execution_count": 51,
   "metadata": {},
   "outputs": [],
   "source": [
    "lstm = LSTMModel(8, 1)"
   ]
  },
  {
   "cell_type": "code",
   "execution_count": 52,
   "metadata": {},
   "outputs": [],
   "source": [
    "optimizer = torch.optim.Adam(lstm.parameters(), lr=1e-1)\n",
    "scheduler = StepLR(optimizer, 1)"
   ]
  },
  {
   "cell_type": "code",
   "execution_count": 53,
   "metadata": {},
   "outputs": [
    {
     "name": "stdout",
     "output_type": "stream",
     "text": [
      "[0]: 0.11126948241144419\n",
      "[200]: 0.0014428129652515054\n",
      "[400]: 0.001749893359374255\n",
      "[600]: 0.0026713793631643057\n",
      "[800]: 0.0018295213812962174\n",
      "[1000]: 0.001840474724303931\n",
      "[1200]: 0.0005701911286450922\n",
      "[1400]: 0.00038899941864656284\n",
      "[0]: 0.0002766510297078639\n",
      "[200]: 6.322877015918493e-05\n",
      "[400]: 5.616480302705895e-05\n",
      "[600]: 2.685132403712487e-05\n",
      "[800]: 1.5239708318404155e-05\n",
      "[1000]: 1.688701968305395e-05\n",
      "[1200]: 2.8257453777769115e-05\n",
      "[1400]: 7.5251198268233566e-06\n",
      "[0]: 6.8976651164120995e-06\n",
      "[200]: 3.0031010282982606e-06\n",
      "[400]: 2.662654082996596e-06\n",
      "[600]: 3.1973987688616035e-06\n",
      "[800]: 2.7732525040846667e-06\n",
      "[1000]: 1.5943344351398991e-06\n",
      "[1200]: 1.7625266082177404e-06\n",
      "[1400]: 1.995692514356051e-06\n"
     ]
    }
   ],
   "source": [
    "n_epochs = 1500\n",
    "loss_f = nn.MSELoss()\n",
    "for reduce in range(3):\n",
    "    for epoch in range(n_epochs):\n",
    "        losses = []\n",
    "        for X, Y in train_dataloader:\n",
    "            lstm.zero_grad()\n",
    "            X = Variable(torch.FloatTensor(X)).view(-1, look_back, 1)\n",
    "            Y = Variable(torch.FloatTensor(Y)).view(-1, 1)\n",
    "            p = lstm(X)\n",
    "            \n",
    "            loss = loss_f(p, Y)\n",
    "            losses.append(loss.data.item())\n",
    "            loss.backward()\n",
    "            optimizer.step()\n",
    "        if epoch % 200 == 0:\n",
    "            print('[{}]: {}'.format(epoch, np.mean(losses)))\n",
    "    scheduler.step()"
   ]
  },
  {
   "cell_type": "code",
   "execution_count": 54,
   "metadata": {},
   "outputs": [
    {
     "data": {
      "text/plain": [
       "<matplotlib.legend.Legend at 0x1f91805cc88>"
      ]
     },
     "execution_count": 54,
     "metadata": {},
     "output_type": "execute_result"
    },
    {
     "data": {
      "image/png": "[encoded data removed]",
      "text/plain": [
       "<Figure size 432x288 with 1 Axes>"
      ]
     },
     "metadata": {
      "needs_background": "light"
     },
     "output_type": "display_data"
    }
   ],
   "source": [
    "seq = train[:,0]\n",
    "start = 0\n",
    "plength = 90\n",
    "blength = 20\n",
    "base =  seq[start:start+blength]\n",
    "predicted = generate(lstm, plength, base)\n",
    "actual = seq[start:start+plength+blength]\n",
    "plt.plot(actual, label='actual')\n",
    "plt.plot(range(95,110),predicted[95:], label='predicted')\n",
    "plt.legend(fontsize=16)"
   ]
  },
  {
   "cell_type": "markdown",
   "metadata": {
    "collapsed": true
   },
   "source": [
    "# custom LSTM"
   ]
  },
  {
   "cell_type": "code",
   "execution_count": 29,
   "metadata": {},
   "outputs": [],
   "source": [
    "class LSTMModel(nn.Module):\n",
    "    def __init__(self, hidden_dim):\n",
    "        super(LSTMModel, self).__init__()\n",
    "        self.hidden_dim = hidden_dim\n",
    "\n",
    "        self.lstm = LSTM(1, hidden_dim)\n",
    "\n",
    "        self.hidden2out = nn.Sequential(nn.Linear(hidden_dim, 1))\n",
    "\n",
    "    def forward(self, inp):\n",
    "        seq_length = inp.size(0)\n",
    "        batch_size = inp.size(1)\n",
    "        hidden = (Variable(torch.zeros(batch_size, self.hidden_dim)),\n",
    "                  Variable(torch.zeros(batch_size, self.hidden_dim)))\n",
    "        \n",
    "        lstm_out, self.hidden = self.lstm(inp, hidden)\n",
    "        lstm_out = lstm_out[-1]\n",
    "        \n",
    "        out = self.hidden2out(lstm_out.view(batch_size, self.hidden_dim))\n",
    "        return out"
   ]
  },
  {
   "cell_type": "code",
   "execution_count": 36,
   "metadata": {},
   "outputs": [],
   "source": [
    "lstm = LSTMModel(8)"
   ]
  },
  {
   "cell_type": "code",
   "execution_count": 37,
   "metadata": {},
   "outputs": [],
   "source": [
    "optimizer = torch.optim.Adam(lstm.parameters(), lr=1e-1)\n",
    "scheduler = StepLR(optimizer, 1)"
   ]
  },
  {
   "cell_type": "code",
   "execution_count": 42,
   "metadata": {},
   "outputs": [
    {
     "name": "stdout",
     "output_type": "stream",
     "text": [
      "[0]: 9.195e-03, elapsed: 0.02 s.\n",
      "[200]: 9.821e-03, elapsed: 3.53 s.\n"
     ]
    },
    {
     "ename": "KeyboardInterrupt",
     "evalue": "",
     "output_type": "error",
     "traceback": [
      "\u001b[1;31m---------------------------------------------------------------------------\u001b[0m",
      "\u001b[1;31mKeyboardInterrupt\u001b[0m                         Traceback (most recent call last)",
      "\u001b[1;32m<ipython-input-42-554095f664b3>\u001b[0m in \u001b[0;36m<module>\u001b[1;34m\u001b[0m\n\u001b[0;32m     13\u001b[0m             \u001b[0mloss\u001b[0m \u001b[1;33m=\u001b[0m \u001b[0mloss_f\u001b[0m\u001b[1;33m(\u001b[0m\u001b[0mp\u001b[0m\u001b[1;33m,\u001b[0m \u001b[0mY\u001b[0m\u001b[1;33m)\u001b[0m\u001b[1;33m\u001b[0m\u001b[1;33m\u001b[0m\u001b[0m\n\u001b[0;32m     14\u001b[0m             \u001b[0mlosses\u001b[0m\u001b[1;33m.\u001b[0m\u001b[0mappend\u001b[0m\u001b[1;33m(\u001b[0m\u001b[0mloss\u001b[0m\u001b[1;33m.\u001b[0m\u001b[0mdata\u001b[0m\u001b[1;33m.\u001b[0m\u001b[0mitem\u001b[0m\u001b[1;33m(\u001b[0m\u001b[1;33m)\u001b[0m\u001b[1;33m)\u001b[0m\u001b[1;33m\u001b[0m\u001b[1;33m\u001b[0m\u001b[0m\n\u001b[1;32m---> 15\u001b[1;33m             \u001b[0mloss\u001b[0m\u001b[1;33m.\u001b[0m\u001b[0mbackward\u001b[0m\u001b[1;33m(\u001b[0m\u001b[1;33m)\u001b[0m\u001b[1;33m\u001b[0m\u001b[1;33m\u001b[0m\u001b[0m\n\u001b[0m\u001b[0;32m     16\u001b[0m             \u001b[0moptimizer\u001b[0m\u001b[1;33m.\u001b[0m\u001b[0mstep\u001b[0m\u001b[1;33m(\u001b[0m\u001b[1;33m)\u001b[0m\u001b[1;33m\u001b[0m\u001b[1;33m\u001b[0m\u001b[0m\n\u001b[0;32m     17\u001b[0m         \u001b[1;32mif\u001b[0m \u001b[0mepoch\u001b[0m \u001b[1;33m%\u001b[0m \u001b[1;36m200\u001b[0m \u001b[1;33m==\u001b[0m \u001b[1;36m0\u001b[0m\u001b[1;33m:\u001b[0m\u001b[1;33m\u001b[0m\u001b[1;33m\u001b[0m\u001b[0m\n",
      "\u001b[1;32m~\\Anaconda3\\lib\\site-packages\\torch\\tensor.py\u001b[0m in \u001b[0;36mbackward\u001b[1;34m(self, gradient, retain_graph, create_graph)\u001b[0m\n\u001b[0;32m    116\u001b[0m                 \u001b[0mproducts\u001b[0m\u001b[1;33m.\u001b[0m \u001b[0mDefaults\u001b[0m \u001b[0mto\u001b[0m\u001b[0;31m \u001b[0m\u001b[0;31m`\u001b[0m\u001b[0;31m`\u001b[0m\u001b[1;32mFalse\u001b[0m\u001b[0;31m`\u001b[0m\u001b[0;31m`\u001b[0m\u001b[1;33m.\u001b[0m\u001b[1;33m\u001b[0m\u001b[1;33m\u001b[0m\u001b[0m\n\u001b[0;32m    117\u001b[0m         \"\"\"\n\u001b[1;32m--> 118\u001b[1;33m         \u001b[0mtorch\u001b[0m\u001b[1;33m.\u001b[0m\u001b[0mautograd\u001b[0m\u001b[1;33m.\u001b[0m\u001b[0mbackward\u001b[0m\u001b[1;33m(\u001b[0m\u001b[0mself\u001b[0m\u001b[1;33m,\u001b[0m \u001b[0mgradient\u001b[0m\u001b[1;33m,\u001b[0m \u001b[0mretain_graph\u001b[0m\u001b[1;33m,\u001b[0m \u001b[0mcreate_graph\u001b[0m\u001b[1;33m)\u001b[0m\u001b[1;33m\u001b[0m\u001b[1;33m\u001b[0m\u001b[0m\n\u001b[0m\u001b[0;32m    119\u001b[0m \u001b[1;33m\u001b[0m\u001b[0m\n\u001b[0;32m    120\u001b[0m     \u001b[1;32mdef\u001b[0m \u001b[0mregister_hook\u001b[0m\u001b[1;33m(\u001b[0m\u001b[0mself\u001b[0m\u001b[1;33m,\u001b[0m \u001b[0mhook\u001b[0m\u001b[1;33m)\u001b[0m\u001b[1;33m:\u001b[0m\u001b[1;33m\u001b[0m\u001b[1;33m\u001b[0m\u001b[0m\n",
      "\u001b[1;32m~\\Anaconda3\\lib\\site-packages\\torch\\autograd\\__init__.py\u001b[0m in \u001b[0;36mbackward\u001b[1;34m(tensors, grad_tensors, retain_graph, create_graph, grad_variables)\u001b[0m\n\u001b[0;32m     91\u001b[0m     Variable._execution_engine.run_backward(\n\u001b[0;32m     92\u001b[0m         \u001b[0mtensors\u001b[0m\u001b[1;33m,\u001b[0m \u001b[0mgrad_tensors\u001b[0m\u001b[1;33m,\u001b[0m \u001b[0mretain_graph\u001b[0m\u001b[1;33m,\u001b[0m \u001b[0mcreate_graph\u001b[0m\u001b[1;33m,\u001b[0m\u001b[1;33m\u001b[0m\u001b[1;33m\u001b[0m\u001b[0m\n\u001b[1;32m---> 93\u001b[1;33m         allow_unreachable=True)  # allow_unreachable flag\n\u001b[0m\u001b[0;32m     94\u001b[0m \u001b[1;33m\u001b[0m\u001b[0m\n\u001b[0;32m     95\u001b[0m \u001b[1;33m\u001b[0m\u001b[0m\n",
      "\u001b[1;31mKeyboardInterrupt\u001b[0m: "
     ]
    }
   ],
   "source": [
    "n_epochs = 1200\n",
    "loss_f = nn.MSELoss()\n",
    "start = time.time()\n",
    "for reduce in range(3):\n",
    "    for epoch in range(n_epochs):\n",
    "        losses = []\n",
    "        for X, Y in train_dataloader:\n",
    "            lstm.zero_grad()\n",
    "            X = Variable(X.permute(1,0).unsqueeze(-1))\n",
    "            Y = Variable(Y)\n",
    "            p = lstm(X).squeeze()\n",
    "            \n",
    "            loss = loss_f(p, Y)\n",
    "            losses.append(loss.data.item())\n",
    "            loss.backward()\n",
    "            optimizer.step()\n",
    "        if epoch % 200 == 0:\n",
    "            elapsed = time.time() - start\n",
    "            print('[{}]: {:.3e}, elapsed: {:.2f} s.'.format(epoch, np.mean(losses), elapsed))\n",
    "            start = time.time()\n",
    "    scheduler.step()"
   ]
  },
  {
   "cell_type": "code",
   "execution_count": 39,
   "metadata": {},
   "outputs": [
    {
     "data": {
      "image/png": "[encoded data removed]",
      "text/plain": [
       "<Figure size 432x288 with 1 Axes>"
      ]
     },
     "metadata": {
      "needs_background": "light"
     },
     "output_type": "display_data"
    }
   ],
   "source": [
    "seq = train.reshape(-1)\n",
    "start = 0\n",
    "plength = 90\n",
    "blength = 20\n",
    "base =  seq[start:start+blength]\n",
    "predicted = generate(lstm, plength, base, batch_first=0)\n",
    "actual = seq[start:start+plength+blength]\n",
    "plt.plot(predicted, label='predicted')\n",
    "plt.plot(actual, label='actual')\n",
    "plt.legend(fontsize=16);"
   ]
  },
  {
   "cell_type": "code",
   "execution_count": null,
   "metadata": {
    "collapsed": true
   },
   "outputs": [],
   "source": []
  },
  {
   "cell_type": "code",
   "execution_count": null,
   "metadata": {
    "collapsed": true
   },
   "outputs": [],
   "source": []
  },
  {
   "cell_type": "markdown",
   "metadata": {},
   "source": [
    "#### Feedback (опционально)"
   ]
  },
  {
   "cell_type": "markdown",
   "metadata": {},
   "source": [
    "Здесь вы можете оставить список опечаток из лекции или семинара:"
   ]
  },
  {
   "cell_type": "raw",
   "metadata": {},
   "source": []
  },
  {
   "cell_type": "markdown",
   "metadata": {},
   "source": [
    "Здесь вы можете оставить комментарии по лекции или семинару:"
   ]
  },
  {
   "cell_type": "raw",
   "metadata": {},
   "source": []
  }
 ],
 "metadata": {
  "kernelspec": {
   "display_name": "Python 3",
   "language": "python",
   "name": "python3"
  },
  "language_info": {
   "codemirror_mode": {
    "name": "ipython",
    "version": 3
   },
   "file_extension": ".py",
   "mimetype": "text/x-python",
   "name": "python",
   "nbconvert_exporter": "python",
   "pygments_lexer": "ipython3",
   "version": "3.7.4"
  },
  "latex_envs": {
   "bibliofile": "biblio.bib",
   "cite_by": "apalike",
   "current_citInitial": 1,
   "eqLabelWithNumbers": true,
   "eqNumInitial": 0
  }
 },
 "nbformat": 4,
 "nbformat_minor": 1
}
