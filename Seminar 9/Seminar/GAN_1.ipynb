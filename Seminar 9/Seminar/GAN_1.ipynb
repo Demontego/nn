{
 "cells": [
  {
   "cell_type": "code",
   "execution_count": 1,
   "metadata": {},
   "outputs": [],
   "source": [
    "import torch\n",
    "import torch.nn as nn\n",
    "import torch.nn.functional as F\n",
    "import torch.optim as optim\n",
    "from torch.utils.data import DataLoader, Dataset\n",
    "\n",
    "import torchvision\n",
    "import matplotlib.pyplot as plt\n",
    "import numpy as np\n",
    "\n",
    "from torch.autograd import Variable"
   ]
  },
  {
   "cell_type": "markdown",
   "metadata": {},
   "source": [
    "### Creating config object (argparse workaround)"
   ]
  },
  {
   "cell_type": "code",
   "execution_count": 2,
   "metadata": {},
   "outputs": [],
   "source": [
    "class Config:\n",
    "    pass\n",
    "\n",
    "config = Config()\n",
    "config.mnist_path = None\n",
    "config.batch_size = 16\n",
    "config.num_workers = 3\n",
    "config.num_epochs = 10\n",
    "config.noise_size = 50\n",
    "config.print_freq = 100\n"
   ]
  },
  {
   "cell_type": "markdown",
   "metadata": {},
   "source": [
    "### Create dataloder"
   ]
  },
  {
   "cell_type": "code",
   "execution_count": 3,
   "metadata": {},
   "outputs": [],
   "source": [
    "train = torchvision.datasets.FashionMNIST(\"fashion_mnist\", train=True, transform=torchvision.transforms.ToTensor(), download=True)"
   ]
  },
  {
   "cell_type": "code",
   "execution_count": 4,
   "metadata": {},
   "outputs": [],
   "source": [
    "dataloader = DataLoader(train, batch_size=16, shuffle=True)"
   ]
  },
  {
   "cell_type": "code",
   "execution_count": 5,
   "metadata": {},
   "outputs": [
    {
     "data": {
      "text/plain": [
       "3750"
      ]
     },
     "execution_count": 5,
     "metadata": {},
     "output_type": "execute_result"
    }
   ],
   "source": [
    "len(dataloader)"
   ]
  },
  {
   "cell_type": "code",
   "execution_count": 6,
   "metadata": {},
   "outputs": [],
   "source": [
    "for image, cat in dataloader:\n",
    "    break"
   ]
  },
  {
   "cell_type": "code",
   "execution_count": 7,
   "metadata": {
    "scrolled": true
   },
   "outputs": [
    {
     "data": {
      "text/plain": [
       "torch.Size([16, 1, 28, 28])"
      ]
     },
     "execution_count": 7,
     "metadata": {},
     "output_type": "execute_result"
    }
   ],
   "source": [
    "image.size()"
   ]
  },
  {
   "cell_type": "code",
   "execution_count": 8,
   "metadata": {},
   "outputs": [
    {
     "data": {
      "text/plain": [
       "784"
      ]
     },
     "execution_count": 8,
     "metadata": {},
     "output_type": "execute_result"
    }
   ],
   "source": [
    "28*28"
   ]
  },
  {
   "cell_type": "markdown",
   "metadata": {},
   "source": [
    "### Create generator and discriminator"
   ]
  },
  {
   "cell_type": "code",
   "execution_count": 9,
   "metadata": {},
   "outputs": [],
   "source": [
    "class Generator(nn.Module):\n",
    "    def __init__(self):\n",
    "        super(Generator, self).__init__()\n",
    "        self.model = nn.Sequential( \n",
    "            nn.Linear(config.noise_size, 200),\n",
    "            nn.ReLU(inplace=True),\n",
    "            nn.Linear(200, 28*28),\n",
    "            nn.Sigmoid())\n",
    "        \n",
    "    def forward(self, x):\n",
    "        return self.model(x)\n",
    "    \n",
    "class Discriminator(nn.Module):\n",
    "    def __init__(self):\n",
    "        super(Discriminator, self).__init__()\n",
    "        self.model = nn.Sequential(\n",
    "            nn.Linear(28*28, 200),\n",
    "            nn.ReLU(inplace=True),\n",
    "            nn.Linear(200, 50),\n",
    "            nn.ReLU(inplace=True),\n",
    "            nn.Linear(50, 1), \n",
    "            nn.Sigmoid())\n",
    "    def forward(self, x):\n",
    "        return self.model(x)"
   ]
  },
  {
   "cell_type": "code",
   "execution_count": 10,
   "metadata": {},
   "outputs": [],
   "source": [
    "generator = Generator()\n",
    "discriminator = Discriminator()"
   ]
  },
  {
   "cell_type": "markdown",
   "metadata": {},
   "source": [
    "### Create optimizers and loss"
   ]
  },
  {
   "cell_type": "code",
   "execution_count": 11,
   "metadata": {},
   "outputs": [],
   "source": [
    "optim_G = optim.Adam(params=generator.parameters(), lr=0.0001)\n",
    "optim_D = optim.Adam(params=discriminator.parameters(), lr=0.0001)\n",
    "\n",
    "criterion = nn.BCELoss()"
   ]
  },
  {
   "cell_type": "markdown",
   "metadata": {},
   "source": [
    "### Create necessary variables"
   ]
  },
  {
   "cell_type": "code",
   "execution_count": 12,
   "metadata": {},
   "outputs": [],
   "source": [
    "input = Variable(torch.FloatTensor(config.batch_size, 28*28))\n",
    "noise = Variable(torch.FloatTensor(config.batch_size, config.noise_size))\n",
    "fixed_noise = Variable(torch.FloatTensor(config.batch_size, config.noise_size).normal_(0, 1))\n",
    "label = Variable(torch.FloatTensor(config.batch_size))\n",
    "real_label = 1\n",
    "fake_label = 0"
   ]
  },
  {
   "cell_type": "markdown",
   "metadata": {},
   "source": [
    "### Задание\n",
    "\n",
    "1) Посмотрите на реализацию GAN. Постройте интерполяцию между какими-нибудь двумя сгенерированными картинками. (Опционально)Добавьте свертки в генератор и дискриминатор, как в статье про DCGAN.\n",
    "\n",
    "2) Поменяйте ее, чтобы получился LSGAN https://arxiv.org/pdf/1611.04076v2.pdf\n",
    "\n",
    "3) Добавьте к обучению GAN условие на метку, продемонстрируйте условную генерацию. https://arxiv.org/pdf/1411.1784.pdf\n",
    "\n",
    "4) Напишите отчет что попробовали, какие результаты получили, как вам кажется надо обучать GAN, чтобы добиться сходимости?\n",
    "\n",
    "В каждом пункте постройте графики функций потерь."
   ]
  },
  {
   "cell_type": "markdown",
   "metadata": {},
   "source": [
    "### GAN"
   ]
  },
  {
   "cell_type": "code",
   "execution_count": 13,
   "metadata": {
    "scrolled": true
   },
   "outputs": [
    {
     "name": "stderr",
     "output_type": "stream",
     "text": [
      "C:\\Users\\vkrin\\Anaconda3\\lib\\site-packages\\torch\\nn\\modules\\loss.py:498: UserWarning: Using a target size (torch.Size([16])) that is different to the input size (torch.Size([16, 1])) is deprecated. Please ensure they have the same size.\n",
      "  return F.binary_cross_entropy(input, target, weight=self.weight, reduction=self.reduction)\n"
     ]
    },
    {
     "name": "stdout",
     "output_type": "stream",
     "text": [
      "Epoch:1 Iter: 100 errD_x: 0.24 errD_z: 0.09 errG: 2.56\n",
      "Epoch:1 Iter: 200 errD_x: 0.11 errD_z: 0.08 errG: 2.82\n",
      "Epoch:1 Iter: 300 errD_x: 0.17 errD_z: 0.08 errG: 2.80\n",
      "Epoch:1 Iter: 400 errD_x: 0.57 errD_z: 0.09 errG: 2.61\n",
      "Epoch:1 Iter: 500 errD_x: 0.18 errD_z: 0.09 errG: 2.63\n",
      "Epoch:1 Iter: 600 errD_x: 0.07 errD_z: 0.04 errG: 3.27\n",
      "Epoch:1 Iter: 700 errD_x: 0.01 errD_z: 0.07 errG: 2.95\n",
      "Epoch:1 Iter: 800 errD_x: 0.06 errD_z: 0.06 errG: 3.12\n",
      "Epoch:1 Iter: 900 errD_x: 0.36 errD_z: 0.09 errG: 2.44\n",
      "Epoch:1 Iter: 1000 errD_x: 0.37 errD_z: 0.22 errG: 1.78\n",
      "Epoch:1 Iter: 1100 errD_x: 0.30 errD_z: 0.14 errG: 2.26\n",
      "Epoch:1 Iter: 1200 errD_x: 0.05 errD_z: 0.19 errG: 2.15\n",
      "Epoch:1 Iter: 1300 errD_x: 0.23 errD_z: 0.28 errG: 1.83\n",
      "Epoch:1 Iter: 1400 errD_x: 0.22 errD_z: 0.28 errG: 1.80\n",
      "Epoch:1 Iter: 1500 errD_x: 0.11 errD_z: 0.22 errG: 2.13\n",
      "Epoch:1 Iter: 1600 errD_x: 0.13 errD_z: 0.12 errG: 2.72\n",
      "Epoch:1 Iter: 1700 errD_x: 0.12 errD_z: 0.23 errG: 2.19\n",
      "Epoch:1 Iter: 1800 errD_x: 0.29 errD_z: 0.11 errG: 2.64\n",
      "Epoch:1 Iter: 1900 errD_x: 0.21 errD_z: 0.09 errG: 3.22\n",
      "Epoch:1 Iter: 2000 errD_x: 0.05 errD_z: 0.10 errG: 3.05\n",
      "Epoch:1 Iter: 2100 errD_x: 0.07 errD_z: 0.10 errG: 3.09\n",
      "Epoch:1 Iter: 2200 errD_x: 0.29 errD_z: 0.12 errG: 2.99\n",
      "Epoch:1 Iter: 2300 errD_x: 0.05 errD_z: 0.11 errG: 3.12\n",
      "Epoch:1 Iter: 2400 errD_x: 0.13 errD_z: 0.06 errG: 3.38\n",
      "Epoch:1 Iter: 2500 errD_x: 0.06 errD_z: 0.05 errG: 3.53\n",
      "Epoch:1 Iter: 2600 errD_x: 0.01 errD_z: 0.05 errG: 3.36\n",
      "Epoch:1 Iter: 2700 errD_x: 0.07 errD_z: 0.04 errG: 3.91\n",
      "Epoch:1 Iter: 2800 errD_x: 0.05 errD_z: 0.02 errG: 4.40\n",
      "Epoch:1 Iter: 2900 errD_x: 0.07 errD_z: 0.02 errG: 4.46\n",
      "Epoch:1 Iter: 3000 errD_x: 0.00 errD_z: 0.01 errG: 4.97\n",
      "Epoch:1 Iter: 3100 errD_x: 0.04 errD_z: 0.03 errG: 3.90\n",
      "Epoch:1 Iter: 3200 errD_x: 0.08 errD_z: 0.03 errG: 3.60\n",
      "Epoch:1 Iter: 3300 errD_x: 0.05 errD_z: 0.03 errG: 3.85\n",
      "Epoch:1 Iter: 3400 errD_x: 0.06 errD_z: 0.04 errG: 3.85\n",
      "Epoch:1 Iter: 3500 errD_x: 0.15 errD_z: 0.08 errG: 2.48\n",
      "Epoch:1 Iter: 3600 errD_x: 0.24 errD_z: 0.07 errG: 2.51\n",
      "Epoch:1 Iter: 3700 errD_x: 0.09 errD_z: 0.09 errG: 3.18\n",
      "Epoch:2 Iter: 100 errD_x: 0.07 errD_z: 0.10 errG: 2.55\n",
      "Epoch:2 Iter: 200 errD_x: 0.01 errD_z: 0.16 errG: 2.59\n",
      "Epoch:2 Iter: 300 errD_x: 0.09 errD_z: 0.11 errG: 2.76\n",
      "Epoch:2 Iter: 400 errD_x: 0.14 errD_z: 0.02 errG: 4.22\n",
      "Epoch:2 Iter: 500 errD_x: 0.15 errD_z: 0.13 errG: 2.71\n",
      "Epoch:2 Iter: 600 errD_x: 0.01 errD_z: 0.06 errG: 3.15\n",
      "Epoch:2 Iter: 700 errD_x: 0.46 errD_z: 0.02 errG: 3.89\n",
      "Epoch:2 Iter: 800 errD_x: 0.01 errD_z: 0.04 errG: 3.61\n",
      "Epoch:2 Iter: 900 errD_x: 0.01 errD_z: 0.11 errG: 3.32\n",
      "Epoch:2 Iter: 1000 errD_x: 0.21 errD_z: 0.08 errG: 2.94\n",
      "Epoch:2 Iter: 1100 errD_x: 0.09 errD_z: 0.07 errG: 2.98\n",
      "Epoch:2 Iter: 1200 errD_x: 0.06 errD_z: 0.03 errG: 3.81\n",
      "Epoch:2 Iter: 1300 errD_x: 0.02 errD_z: 0.06 errG: 3.69\n",
      "Epoch:2 Iter: 1400 errD_x: 0.00 errD_z: 0.05 errG: 3.70\n",
      "Epoch:2 Iter: 1500 errD_x: 0.19 errD_z: 0.05 errG: 3.78\n",
      "Epoch:2 Iter: 1600 errD_x: 0.22 errD_z: 0.13 errG: 2.89\n",
      "Epoch:2 Iter: 1700 errD_x: 0.00 errD_z: 0.13 errG: 3.05\n",
      "Epoch:2 Iter: 1800 errD_x: 0.26 errD_z: 0.12 errG: 2.42\n",
      "Epoch:2 Iter: 1900 errD_x: 0.10 errD_z: 0.06 errG: 3.09\n",
      "Epoch:2 Iter: 2000 errD_x: 0.11 errD_z: 0.06 errG: 3.83\n",
      "Epoch:2 Iter: 2100 errD_x: 0.44 errD_z: 0.07 errG: 2.77\n",
      "Epoch:2 Iter: 2200 errD_x: 0.03 errD_z: 0.50 errG: 1.96\n",
      "Epoch:2 Iter: 2300 errD_x: 0.46 errD_z: 0.06 errG: 4.55\n",
      "Epoch:2 Iter: 2400 errD_x: 0.18 errD_z: 0.14 errG: 2.76\n",
      "Epoch:2 Iter: 2500 errD_x: 0.12 errD_z: 0.12 errG: 3.09\n",
      "Epoch:2 Iter: 2600 errD_x: 0.87 errD_z: 0.10 errG: 2.65\n",
      "Epoch:2 Iter: 2700 errD_x: 0.13 errD_z: 0.21 errG: 2.85\n",
      "Epoch:2 Iter: 2800 errD_x: 0.15 errD_z: 0.21 errG: 2.14\n",
      "Epoch:2 Iter: 2900 errD_x: 0.48 errD_z: 0.06 errG: 3.23\n",
      "Epoch:2 Iter: 3000 errD_x: 0.13 errD_z: 0.05 errG: 3.78\n",
      "Epoch:2 Iter: 3100 errD_x: 0.42 errD_z: 0.05 errG: 3.53\n",
      "Epoch:2 Iter: 3200 errD_x: 0.44 errD_z: 0.15 errG: 1.98\n",
      "Epoch:2 Iter: 3300 errD_x: 0.16 errD_z: 0.08 errG: 3.14\n",
      "Epoch:2 Iter: 3400 errD_x: 0.62 errD_z: 0.07 errG: 2.47\n",
      "Epoch:2 Iter: 3500 errD_x: 0.02 errD_z: 0.16 errG: 2.91\n",
      "Epoch:2 Iter: 3600 errD_x: 0.20 errD_z: 0.07 errG: 2.78\n",
      "Epoch:2 Iter: 3700 errD_x: 0.32 errD_z: 0.07 errG: 2.83\n",
      "Epoch:3 Iter: 100 errD_x: 0.19 errD_z: 0.03 errG: 3.53\n",
      "Epoch:3 Iter: 200 errD_x: 0.25 errD_z: 0.29 errG: 2.15\n",
      "Epoch:3 Iter: 300 errD_x: 0.10 errD_z: 0.11 errG: 2.99\n",
      "Epoch:3 Iter: 400 errD_x: 0.42 errD_z: 0.07 errG: 3.22\n",
      "Epoch:3 Iter: 500 errD_x: 0.47 errD_z: 0.04 errG: 3.80\n",
      "Epoch:3 Iter: 600 errD_x: 0.24 errD_z: 0.06 errG: 3.53\n",
      "Epoch:3 Iter: 700 errD_x: 0.58 errD_z: 0.05 errG: 3.18\n",
      "Epoch:3 Iter: 800 errD_x: 0.25 errD_z: 0.06 errG: 3.65\n",
      "Epoch:3 Iter: 900 errD_x: 0.35 errD_z: 0.25 errG: 2.87\n",
      "Epoch:3 Iter: 1000 errD_x: 0.18 errD_z: 0.07 errG: 4.14\n",
      "Epoch:3 Iter: 1100 errD_x: 0.26 errD_z: 0.04 errG: 3.95\n",
      "Epoch:3 Iter: 1200 errD_x: 1.16 errD_z: 0.12 errG: 2.53\n",
      "Epoch:3 Iter: 1300 errD_x: 0.22 errD_z: 0.02 errG: 4.11\n",
      "Epoch:3 Iter: 1400 errD_x: 0.28 errD_z: 0.13 errG: 2.71\n",
      "Epoch:3 Iter: 1500 errD_x: 0.87 errD_z: 0.04 errG: 4.48\n",
      "Epoch:3 Iter: 1600 errD_x: 0.50 errD_z: 0.05 errG: 2.74\n",
      "Epoch:3 Iter: 1700 errD_x: 0.05 errD_z: 0.12 errG: 2.85\n",
      "Epoch:3 Iter: 1800 errD_x: 0.16 errD_z: 0.33 errG: 1.85\n",
      "Epoch:3 Iter: 1900 errD_x: 0.07 errD_z: 0.13 errG: 3.13\n",
      "Epoch:3 Iter: 2000 errD_x: 0.06 errD_z: 0.11 errG: 3.25\n",
      "Epoch:3 Iter: 2100 errD_x: 0.25 errD_z: 0.29 errG: 2.16\n",
      "Epoch:3 Iter: 2200 errD_x: 0.03 errD_z: 0.15 errG: 3.72\n",
      "Epoch:3 Iter: 2300 errD_x: 0.76 errD_z: 0.05 errG: 2.67\n",
      "Epoch:3 Iter: 2400 errD_x: 0.36 errD_z: 0.20 errG: 2.62\n",
      "Epoch:3 Iter: 2500 errD_x: 0.39 errD_z: 0.03 errG: 3.57\n",
      "Epoch:3 Iter: 2600 errD_x: 0.33 errD_z: 0.16 errG: 1.84\n",
      "Epoch:3 Iter: 2700 errD_x: 0.23 errD_z: 0.26 errG: 2.32\n",
      "Epoch:3 Iter: 2800 errD_x: 0.33 errD_z: 0.09 errG: 2.66\n",
      "Epoch:3 Iter: 2900 errD_x: 0.11 errD_z: 0.17 errG: 2.87\n",
      "Epoch:3 Iter: 3000 errD_x: 0.07 errD_z: 0.45 errG: 1.39\n",
      "Epoch:3 Iter: 3100 errD_x: 0.08 errD_z: 0.21 errG: 2.86\n",
      "Epoch:3 Iter: 3200 errD_x: 0.26 errD_z: 0.34 errG: 0.99\n",
      "Epoch:3 Iter: 3300 errD_x: 0.78 errD_z: 0.07 errG: 3.17\n",
      "Epoch:3 Iter: 3400 errD_x: 0.23 errD_z: 0.12 errG: 2.53\n",
      "Epoch:3 Iter: 3500 errD_x: 0.19 errD_z: 0.30 errG: 1.67\n",
      "Epoch:3 Iter: 3600 errD_x: 0.46 errD_z: 0.16 errG: 1.99\n",
      "Epoch:3 Iter: 3700 errD_x: 0.26 errD_z: 0.12 errG: 2.76\n",
      "Epoch:4 Iter: 100 errD_x: 0.04 errD_z: 0.10 errG: 3.27\n",
      "Epoch:4 Iter: 200 errD_x: 0.84 errD_z: 0.11 errG: 2.78\n",
      "Epoch:4 Iter: 300 errD_x: 0.34 errD_z: 0.18 errG: 2.37\n",
      "Epoch:4 Iter: 400 errD_x: 0.17 errD_z: 0.14 errG: 2.82\n",
      "Epoch:4 Iter: 500 errD_x: 0.67 errD_z: 0.09 errG: 2.41\n",
      "Epoch:4 Iter: 600 errD_x: 0.79 errD_z: 0.06 errG: 2.69\n",
      "Epoch:4 Iter: 700 errD_x: 0.16 errD_z: 0.21 errG: 2.73\n",
      "Epoch:4 Iter: 800 errD_x: 0.39 errD_z: 0.15 errG: 2.69\n",
      "Epoch:4 Iter: 900 errD_x: 0.03 errD_z: 0.10 errG: 3.34\n",
      "Epoch:4 Iter: 1000 errD_x: 0.17 errD_z: 0.09 errG: 3.28\n",
      "Epoch:4 Iter: 1100 errD_x: 0.14 errD_z: 0.14 errG: 2.56\n",
      "Epoch:4 Iter: 1200 errD_x: 0.04 errD_z: 0.44 errG: 1.84\n",
      "Epoch:4 Iter: 1300 errD_x: 0.08 errD_z: 0.10 errG: 2.62\n",
      "Epoch:4 Iter: 1400 errD_x: 0.56 errD_z: 0.09 errG: 2.91\n",
      "Epoch:4 Iter: 1500 errD_x: 0.41 errD_z: 0.14 errG: 2.17\n",
      "Epoch:4 Iter: 1600 errD_x: 0.11 errD_z: 0.16 errG: 2.24\n",
      "Epoch:4 Iter: 1700 errD_x: 0.18 errD_z: 0.26 errG: 2.56\n",
      "Epoch:4 Iter: 1800 errD_x: 0.24 errD_z: 0.13 errG: 2.57\n",
      "Epoch:4 Iter: 1900 errD_x: 0.39 errD_z: 0.23 errG: 2.12\n",
      "Epoch:4 Iter: 2000 errD_x: 0.40 errD_z: 0.11 errG: 2.94\n",
      "Epoch:4 Iter: 2100 errD_x: 0.09 errD_z: 0.24 errG: 2.02\n",
      "Epoch:4 Iter: 2200 errD_x: 0.18 errD_z: 0.05 errG: 3.51\n",
      "Epoch:4 Iter: 2300 errD_x: 0.74 errD_z: 0.19 errG: 3.33\n",
      "Epoch:4 Iter: 2400 errD_x: 0.04 errD_z: 0.34 errG: 1.76\n",
      "Epoch:4 Iter: 2500 errD_x: 0.58 errD_z: 0.08 errG: 2.51\n",
      "Epoch:4 Iter: 2600 errD_x: 0.79 errD_z: 0.16 errG: 2.13\n",
      "Epoch:4 Iter: 2700 errD_x: 0.69 errD_z: 0.26 errG: 2.18\n",
      "Epoch:4 Iter: 2800 errD_x: 0.28 errD_z: 0.22 errG: 2.85\n",
      "Epoch:4 Iter: 2900 errD_x: 0.03 errD_z: 0.15 errG: 2.86\n",
      "Epoch:4 Iter: 3000 errD_x: 0.63 errD_z: 0.20 errG: 2.13\n",
      "Epoch:4 Iter: 3100 errD_x: 0.40 errD_z: 0.08 errG: 3.62\n",
      "Epoch:4 Iter: 3200 errD_x: 0.47 errD_z: 0.37 errG: 2.04\n",
      "Epoch:4 Iter: 3300 errD_x: 0.86 errD_z: 0.17 errG: 2.18\n",
      "Epoch:4 Iter: 3400 errD_x: 0.09 errD_z: 0.46 errG: 1.88\n",
      "Epoch:4 Iter: 3500 errD_x: 0.18 errD_z: 0.38 errG: 1.51\n"
     ]
    },
    {
     "name": "stdout",
     "output_type": "stream",
     "text": [
      "Epoch:4 Iter: 3600 errD_x: 0.31 errD_z: 0.17 errG: 2.50\n",
      "Epoch:4 Iter: 3700 errD_x: 0.21 errD_z: 0.16 errG: 2.14\n",
      "Epoch:5 Iter: 100 errD_x: 0.38 errD_z: 0.11 errG: 3.22\n",
      "Epoch:5 Iter: 200 errD_x: 0.52 errD_z: 0.18 errG: 2.12\n",
      "Epoch:5 Iter: 300 errD_x: 0.43 errD_z: 0.13 errG: 3.13\n",
      "Epoch:5 Iter: 400 errD_x: 0.27 errD_z: 0.59 errG: 1.51\n",
      "Epoch:5 Iter: 500 errD_x: 0.39 errD_z: 0.16 errG: 2.78\n",
      "Epoch:5 Iter: 600 errD_x: 0.52 errD_z: 0.47 errG: 1.62\n",
      "Epoch:5 Iter: 700 errD_x: 0.32 errD_z: 0.15 errG: 1.95\n",
      "Epoch:5 Iter: 800 errD_x: 0.56 errD_z: 0.10 errG: 2.80\n",
      "Epoch:5 Iter: 900 errD_x: 0.15 errD_z: 0.28 errG: 2.64\n",
      "Epoch:5 Iter: 1000 errD_x: 0.16 errD_z: 0.18 errG: 2.28\n",
      "Epoch:5 Iter: 1100 errD_x: 0.63 errD_z: 0.13 errG: 2.58\n",
      "Epoch:5 Iter: 1200 errD_x: 0.11 errD_z: 0.25 errG: 2.11\n",
      "Epoch:5 Iter: 1300 errD_x: 0.39 errD_z: 0.10 errG: 2.73\n",
      "Epoch:5 Iter: 1400 errD_x: 0.40 errD_z: 0.12 errG: 2.40\n",
      "Epoch:5 Iter: 1500 errD_x: 0.49 errD_z: 0.13 errG: 2.95\n",
      "Epoch:5 Iter: 1600 errD_x: 0.05 errD_z: 0.15 errG: 3.40\n",
      "Epoch:5 Iter: 1700 errD_x: 0.06 errD_z: 0.35 errG: 2.46\n",
      "Epoch:5 Iter: 1800 errD_x: 0.10 errD_z: 0.17 errG: 2.46\n",
      "Epoch:5 Iter: 1900 errD_x: 0.33 errD_z: 0.07 errG: 3.86\n",
      "Epoch:5 Iter: 2000 errD_x: 0.12 errD_z: 0.16 errG: 3.38\n",
      "Epoch:5 Iter: 2100 errD_x: 0.34 errD_z: 0.07 errG: 2.49\n",
      "Epoch:5 Iter: 2200 errD_x: 0.18 errD_z: 0.16 errG: 2.88\n",
      "Epoch:5 Iter: 2300 errD_x: 0.72 errD_z: 0.09 errG: 3.64\n",
      "Epoch:5 Iter: 2400 errD_x: 0.42 errD_z: 0.23 errG: 1.92\n",
      "Epoch:5 Iter: 2500 errD_x: 0.30 errD_z: 0.11 errG: 3.05\n",
      "Epoch:5 Iter: 2600 errD_x: 1.07 errD_z: 0.11 errG: 2.75\n",
      "Epoch:5 Iter: 2700 errD_x: 0.55 errD_z: 0.16 errG: 2.34\n",
      "Epoch:5 Iter: 2800 errD_x: 0.26 errD_z: 0.22 errG: 2.33\n",
      "Epoch:5 Iter: 2900 errD_x: 0.12 errD_z: 0.10 errG: 3.93\n",
      "Epoch:5 Iter: 3000 errD_x: 0.17 errD_z: 0.25 errG: 2.24\n",
      "Epoch:5 Iter: 3100 errD_x: 0.19 errD_z: 0.10 errG: 2.78\n",
      "Epoch:5 Iter: 3200 errD_x: 0.01 errD_z: 0.52 errG: 1.93\n",
      "Epoch:5 Iter: 3300 errD_x: 0.52 errD_z: 0.32 errG: 1.92\n",
      "Epoch:5 Iter: 3400 errD_x: 0.36 errD_z: 0.14 errG: 2.72\n",
      "Epoch:5 Iter: 3500 errD_x: 0.36 errD_z: 0.07 errG: 2.98\n",
      "Epoch:5 Iter: 3600 errD_x: 0.17 errD_z: 0.57 errG: 1.76\n",
      "Epoch:5 Iter: 3700 errD_x: 0.16 errD_z: 0.29 errG: 2.83\n",
      "Epoch:6 Iter: 100 errD_x: 0.11 errD_z: 0.28 errG: 2.48\n",
      "Epoch:6 Iter: 200 errD_x: 0.18 errD_z: 0.24 errG: 2.01\n",
      "Epoch:6 Iter: 300 errD_x: 0.99 errD_z: 0.21 errG: 2.36\n",
      "Epoch:6 Iter: 400 errD_x: 0.18 errD_z: 0.19 errG: 2.47\n",
      "Epoch:6 Iter: 500 errD_x: 0.49 errD_z: 0.41 errG: 1.87\n",
      "Epoch:6 Iter: 600 errD_x: 0.13 errD_z: 0.34 errG: 2.87\n",
      "Epoch:6 Iter: 700 errD_x: 0.45 errD_z: 0.29 errG: 2.69\n",
      "Epoch:6 Iter: 800 errD_x: 0.13 errD_z: 0.17 errG: 2.49\n",
      "Epoch:6 Iter: 900 errD_x: 0.10 errD_z: 0.29 errG: 2.59\n",
      "Epoch:6 Iter: 1000 errD_x: 0.24 errD_z: 0.07 errG: 3.48\n",
      "Epoch:6 Iter: 1100 errD_x: 0.70 errD_z: 0.03 errG: 3.63\n",
      "Epoch:6 Iter: 1200 errD_x: 0.75 errD_z: 0.07 errG: 2.89\n",
      "Epoch:6 Iter: 1300 errD_x: 0.53 errD_z: 0.31 errG: 2.46\n",
      "Epoch:6 Iter: 1400 errD_x: 0.33 errD_z: 0.17 errG: 2.37\n",
      "Epoch:6 Iter: 1500 errD_x: 0.20 errD_z: 0.48 errG: 2.23\n",
      "Epoch:6 Iter: 1600 errD_x: 0.09 errD_z: 0.43 errG: 1.59\n",
      "Epoch:6 Iter: 1700 errD_x: 0.16 errD_z: 0.18 errG: 2.42\n",
      "Epoch:6 Iter: 1800 errD_x: 0.07 errD_z: 0.50 errG: 1.35\n",
      "Epoch:6 Iter: 1900 errD_x: 0.86 errD_z: 0.09 errG: 2.81\n",
      "Epoch:6 Iter: 2000 errD_x: 0.51 errD_z: 0.23 errG: 2.54\n",
      "Epoch:6 Iter: 2100 errD_x: 0.36 errD_z: 0.16 errG: 2.30\n",
      "Epoch:6 Iter: 2200 errD_x: 0.25 errD_z: 0.42 errG: 1.89\n",
      "Epoch:6 Iter: 2300 errD_x: 0.71 errD_z: 0.06 errG: 3.03\n",
      "Epoch:6 Iter: 2400 errD_x: 0.61 errD_z: 0.30 errG: 2.10\n",
      "Epoch:6 Iter: 2500 errD_x: 0.31 errD_z: 0.19 errG: 2.58\n",
      "Epoch:6 Iter: 2600 errD_x: 0.16 errD_z: 0.20 errG: 2.32\n",
      "Epoch:6 Iter: 2700 errD_x: 0.22 errD_z: 0.45 errG: 1.56\n",
      "Epoch:6 Iter: 2800 errD_x: 0.48 errD_z: 0.09 errG: 3.05\n",
      "Epoch:6 Iter: 2900 errD_x: 0.41 errD_z: 0.08 errG: 2.71\n",
      "Epoch:6 Iter: 3000 errD_x: 0.38 errD_z: 0.20 errG: 2.19\n",
      "Epoch:6 Iter: 3100 errD_x: 0.27 errD_z: 0.19 errG: 2.43\n",
      "Epoch:6 Iter: 3200 errD_x: 0.21 errD_z: 0.26 errG: 2.19\n",
      "Epoch:6 Iter: 3300 errD_x: 0.34 errD_z: 0.21 errG: 2.53\n",
      "Epoch:6 Iter: 3400 errD_x: 0.07 errD_z: 0.20 errG: 2.91\n",
      "Epoch:6 Iter: 3500 errD_x: 0.38 errD_z: 0.12 errG: 2.79\n",
      "Epoch:6 Iter: 3600 errD_x: 0.16 errD_z: 0.26 errG: 2.00\n",
      "Epoch:6 Iter: 3700 errD_x: 0.05 errD_z: 0.16 errG: 2.64\n",
      "Epoch:7 Iter: 100 errD_x: 1.20 errD_z: 0.04 errG: 3.27\n",
      "Epoch:7 Iter: 200 errD_x: 0.34 errD_z: 0.14 errG: 2.63\n",
      "Epoch:7 Iter: 300 errD_x: 0.27 errD_z: 0.37 errG: 2.15\n",
      "Epoch:7 Iter: 400 errD_x: 0.80 errD_z: 0.09 errG: 3.16\n",
      "Epoch:7 Iter: 500 errD_x: 0.83 errD_z: 0.27 errG: 2.02\n",
      "Epoch:7 Iter: 600 errD_x: 0.12 errD_z: 0.34 errG: 2.12\n",
      "Epoch:7 Iter: 700 errD_x: 0.55 errD_z: 0.08 errG: 3.24\n",
      "Epoch:7 Iter: 800 errD_x: 0.42 errD_z: 0.19 errG: 2.02\n",
      "Epoch:7 Iter: 900 errD_x: 0.10 errD_z: 0.34 errG: 1.90\n",
      "Epoch:7 Iter: 1000 errD_x: 0.37 errD_z: 0.17 errG: 2.15\n",
      "Epoch:7 Iter: 1100 errD_x: 0.21 errD_z: 0.29 errG: 2.06\n",
      "Epoch:7 Iter: 1200 errD_x: 0.43 errD_z: 0.15 errG: 2.45\n",
      "Epoch:7 Iter: 1300 errD_x: 0.17 errD_z: 0.42 errG: 1.37\n",
      "Epoch:7 Iter: 1400 errD_x: 0.21 errD_z: 0.51 errG: 2.20\n",
      "Epoch:7 Iter: 1500 errD_x: 0.35 errD_z: 0.33 errG: 1.88\n",
      "Epoch:7 Iter: 1600 errD_x: 0.33 errD_z: 0.13 errG: 3.21\n",
      "Epoch:7 Iter: 1700 errD_x: 0.26 errD_z: 0.14 errG: 3.14\n",
      "Epoch:7 Iter: 1800 errD_x: 0.54 errD_z: 0.06 errG: 3.35\n",
      "Epoch:7 Iter: 1900 errD_x: 0.49 errD_z: 0.21 errG: 2.11\n",
      "Epoch:7 Iter: 2000 errD_x: 0.19 errD_z: 0.33 errG: 1.74\n",
      "Epoch:7 Iter: 2100 errD_x: 0.50 errD_z: 0.15 errG: 2.20\n",
      "Epoch:7 Iter: 2200 errD_x: 0.68 errD_z: 0.47 errG: 1.39\n",
      "Epoch:7 Iter: 2300 errD_x: 0.10 errD_z: 0.70 errG: 1.61\n",
      "Epoch:7 Iter: 2400 errD_x: 0.58 errD_z: 0.24 errG: 2.35\n",
      "Epoch:7 Iter: 2500 errD_x: 0.37 errD_z: 0.19 errG: 2.94\n",
      "Epoch:7 Iter: 2600 errD_x: 0.18 errD_z: 0.29 errG: 2.02\n",
      "Epoch:7 Iter: 2700 errD_x: 0.40 errD_z: 0.17 errG: 2.57\n",
      "Epoch:7 Iter: 2800 errD_x: 0.37 errD_z: 0.30 errG: 1.65\n",
      "Epoch:7 Iter: 2900 errD_x: 0.50 errD_z: 0.21 errG: 2.43\n",
      "Epoch:7 Iter: 3000 errD_x: 0.76 errD_z: 0.28 errG: 1.33\n",
      "Epoch:7 Iter: 3100 errD_x: 0.35 errD_z: 0.28 errG: 2.31\n",
      "Epoch:7 Iter: 3200 errD_x: 0.19 errD_z: 0.39 errG: 2.12\n",
      "Epoch:7 Iter: 3300 errD_x: 0.45 errD_z: 0.27 errG: 2.26\n",
      "Epoch:7 Iter: 3400 errD_x: 0.30 errD_z: 0.24 errG: 2.02\n",
      "Epoch:7 Iter: 3500 errD_x: 0.69 errD_z: 0.29 errG: 1.62\n",
      "Epoch:7 Iter: 3600 errD_x: 0.76 errD_z: 0.16 errG: 2.72\n",
      "Epoch:7 Iter: 3700 errD_x: 0.08 errD_z: 0.30 errG: 2.08\n",
      "Epoch:8 Iter: 100 errD_x: 0.28 errD_z: 0.22 errG: 1.81\n",
      "Epoch:8 Iter: 200 errD_x: 0.35 errD_z: 0.09 errG: 2.64\n",
      "Epoch:8 Iter: 300 errD_x: 0.24 errD_z: 0.25 errG: 2.02\n",
      "Epoch:8 Iter: 400 errD_x: 0.23 errD_z: 0.11 errG: 2.80\n",
      "Epoch:8 Iter: 500 errD_x: 0.59 errD_z: 0.13 errG: 2.65\n",
      "Epoch:8 Iter: 600 errD_x: 0.60 errD_z: 0.17 errG: 1.88\n",
      "Epoch:8 Iter: 700 errD_x: 0.41 errD_z: 0.42 errG: 1.44\n",
      "Epoch:8 Iter: 800 errD_x: 0.23 errD_z: 0.36 errG: 2.32\n",
      "Epoch:8 Iter: 900 errD_x: 0.37 errD_z: 0.40 errG: 2.00\n",
      "Epoch:8 Iter: 1000 errD_x: 0.37 errD_z: 0.11 errG: 2.84\n",
      "Epoch:8 Iter: 1100 errD_x: 0.26 errD_z: 0.49 errG: 2.12\n",
      "Epoch:8 Iter: 1200 errD_x: 0.76 errD_z: 0.08 errG: 2.88\n",
      "Epoch:8 Iter: 1300 errD_x: 0.35 errD_z: 0.43 errG: 1.73\n",
      "Epoch:8 Iter: 1400 errD_x: 0.39 errD_z: 0.35 errG: 2.66\n",
      "Epoch:8 Iter: 1500 errD_x: 0.37 errD_z: 0.32 errG: 1.99\n",
      "Epoch:8 Iter: 1600 errD_x: 0.65 errD_z: 0.10 errG: 2.83\n",
      "Epoch:8 Iter: 1700 errD_x: 0.33 errD_z: 0.17 errG: 2.34\n",
      "Epoch:8 Iter: 1800 errD_x: 0.61 errD_z: 0.30 errG: 2.05\n",
      "Epoch:8 Iter: 1900 errD_x: 0.13 errD_z: 0.12 errG: 2.74\n",
      "Epoch:8 Iter: 2000 errD_x: 0.25 errD_z: 0.06 errG: 4.49\n",
      "Epoch:8 Iter: 2100 errD_x: 0.29 errD_z: 0.36 errG: 1.68\n",
      "Epoch:8 Iter: 2200 errD_x: 0.48 errD_z: 0.15 errG: 2.45\n",
      "Epoch:8 Iter: 2300 errD_x: 0.22 errD_z: 0.37 errG: 2.46\n",
      "Epoch:8 Iter: 2400 errD_x: 0.26 errD_z: 0.77 errG: 1.76\n",
      "Epoch:8 Iter: 2500 errD_x: 0.22 errD_z: 0.24 errG: 2.61\n",
      "Epoch:8 Iter: 2600 errD_x: 0.10 errD_z: 0.29 errG: 1.75\n",
      "Epoch:8 Iter: 2700 errD_x: 0.32 errD_z: 0.16 errG: 2.18\n",
      "Epoch:8 Iter: 2800 errD_x: 0.15 errD_z: 0.34 errG: 1.84\n",
      "Epoch:8 Iter: 2900 errD_x: 0.27 errD_z: 0.13 errG: 2.40\n",
      "Epoch:8 Iter: 3000 errD_x: 0.15 errD_z: 0.13 errG: 2.61\n",
      "Epoch:8 Iter: 3100 errD_x: 0.48 errD_z: 0.33 errG: 2.13\n",
      "Epoch:8 Iter: 3200 errD_x: 0.70 errD_z: 0.11 errG: 2.24\n",
      "Epoch:8 Iter: 3300 errD_x: 0.28 errD_z: 0.27 errG: 1.96\n"
     ]
    },
    {
     "name": "stdout",
     "output_type": "stream",
     "text": [
      "Epoch:8 Iter: 3400 errD_x: 0.46 errD_z: 0.22 errG: 2.74\n",
      "Epoch:8 Iter: 3500 errD_x: 0.63 errD_z: 0.06 errG: 3.71\n",
      "Epoch:8 Iter: 3600 errD_x: 0.13 errD_z: 0.61 errG: 1.14\n",
      "Epoch:8 Iter: 3700 errD_x: 0.76 errD_z: 0.23 errG: 2.01\n",
      "Epoch:9 Iter: 100 errD_x: 0.25 errD_z: 0.38 errG: 1.73\n",
      "Epoch:9 Iter: 200 errD_x: 0.31 errD_z: 0.11 errG: 2.57\n",
      "Epoch:9 Iter: 300 errD_x: 0.34 errD_z: 0.27 errG: 2.11\n",
      "Epoch:9 Iter: 400 errD_x: 0.57 errD_z: 0.15 errG: 2.56\n",
      "Epoch:9 Iter: 500 errD_x: 0.52 errD_z: 0.11 errG: 2.98\n",
      "Epoch:9 Iter: 600 errD_x: 0.31 errD_z: 0.12 errG: 2.32\n",
      "Epoch:9 Iter: 700 errD_x: 0.17 errD_z: 0.21 errG: 1.94\n",
      "Epoch:9 Iter: 800 errD_x: 0.51 errD_z: 0.29 errG: 2.98\n",
      "Epoch:9 Iter: 900 errD_x: 0.49 errD_z: 0.11 errG: 2.28\n",
      "Epoch:9 Iter: 1000 errD_x: 0.31 errD_z: 0.34 errG: 1.73\n",
      "Epoch:9 Iter: 1100 errD_x: 0.88 errD_z: 0.08 errG: 3.37\n",
      "Epoch:9 Iter: 1200 errD_x: 0.18 errD_z: 0.35 errG: 1.42\n",
      "Epoch:9 Iter: 1300 errD_x: 0.39 errD_z: 0.35 errG: 1.75\n",
      "Epoch:9 Iter: 1400 errD_x: 0.50 errD_z: 0.69 errG: 0.86\n",
      "Epoch:9 Iter: 1500 errD_x: 0.65 errD_z: 0.28 errG: 1.87\n",
      "Epoch:9 Iter: 1600 errD_x: 0.15 errD_z: 0.26 errG: 1.83\n",
      "Epoch:9 Iter: 1700 errD_x: 0.61 errD_z: 0.16 errG: 1.97\n",
      "Epoch:9 Iter: 1800 errD_x: 0.31 errD_z: 0.36 errG: 1.47\n",
      "Epoch:9 Iter: 1900 errD_x: 0.48 errD_z: 0.15 errG: 2.69\n",
      "Epoch:9 Iter: 2000 errD_x: 0.29 errD_z: 0.07 errG: 3.35\n",
      "Epoch:9 Iter: 2100 errD_x: 0.28 errD_z: 0.16 errG: 2.45\n",
      "Epoch:9 Iter: 2200 errD_x: 0.23 errD_z: 0.26 errG: 2.22\n",
      "Epoch:9 Iter: 2300 errD_x: 0.49 errD_z: 0.25 errG: 1.99\n",
      "Epoch:9 Iter: 2400 errD_x: 0.32 errD_z: 0.25 errG: 1.82\n",
      "Epoch:9 Iter: 2500 errD_x: 0.87 errD_z: 0.19 errG: 2.55\n",
      "Epoch:9 Iter: 2600 errD_x: 0.29 errD_z: 0.13 errG: 2.35\n",
      "Epoch:9 Iter: 2700 errD_x: 0.40 errD_z: 0.21 errG: 2.64\n",
      "Epoch:9 Iter: 2800 errD_x: 0.46 errD_z: 0.21 errG: 2.66\n",
      "Epoch:9 Iter: 2900 errD_x: 0.38 errD_z: 0.15 errG: 2.40\n",
      "Epoch:9 Iter: 3000 errD_x: 0.28 errD_z: 0.30 errG: 1.68\n",
      "Epoch:9 Iter: 3100 errD_x: 0.62 errD_z: 0.07 errG: 3.44\n",
      "Epoch:9 Iter: 3200 errD_x: 0.11 errD_z: 0.13 errG: 2.98\n",
      "Epoch:9 Iter: 3300 errD_x: 0.10 errD_z: 0.25 errG: 2.12\n",
      "Epoch:9 Iter: 3400 errD_x: 0.26 errD_z: 0.26 errG: 2.19\n",
      "Epoch:9 Iter: 3500 errD_x: 0.19 errD_z: 0.22 errG: 1.83\n",
      "Epoch:9 Iter: 3600 errD_x: 0.35 errD_z: 0.13 errG: 2.20\n",
      "Epoch:9 Iter: 3700 errD_x: 0.42 errD_z: 0.21 errG: 2.19\n",
      "Epoch:10 Iter: 100 errD_x: 0.41 errD_z: 0.42 errG: 1.63\n",
      "Epoch:10 Iter: 200 errD_x: 0.61 errD_z: 0.15 errG: 2.17\n",
      "Epoch:10 Iter: 300 errD_x: 0.31 errD_z: 0.18 errG: 2.08\n",
      "Epoch:10 Iter: 400 errD_x: 0.41 errD_z: 0.32 errG: 2.36\n",
      "Epoch:10 Iter: 500 errD_x: 0.07 errD_z: 0.34 errG: 2.06\n",
      "Epoch:10 Iter: 600 errD_x: 0.49 errD_z: 0.25 errG: 1.74\n",
      "Epoch:10 Iter: 700 errD_x: 0.90 errD_z: 0.06 errG: 3.31\n",
      "Epoch:10 Iter: 800 errD_x: 0.03 errD_z: 0.73 errG: 1.72\n",
      "Epoch:10 Iter: 900 errD_x: 1.35 errD_z: 0.02 errG: 3.44\n",
      "Epoch:10 Iter: 1000 errD_x: 1.30 errD_z: 0.25 errG: 2.04\n",
      "Epoch:10 Iter: 1100 errD_x: 0.70 errD_z: 0.33 errG: 1.91\n",
      "Epoch:10 Iter: 1200 errD_x: 0.43 errD_z: 0.08 errG: 3.71\n",
      "Epoch:10 Iter: 1300 errD_x: 0.11 errD_z: 0.17 errG: 2.10\n",
      "Epoch:10 Iter: 1400 errD_x: 0.23 errD_z: 0.09 errG: 3.23\n",
      "Epoch:10 Iter: 1500 errD_x: 0.33 errD_z: 0.17 errG: 2.65\n",
      "Epoch:10 Iter: 1600 errD_x: 0.06 errD_z: 0.37 errG: 1.49\n",
      "Epoch:10 Iter: 1700 errD_x: 0.42 errD_z: 0.17 errG: 2.07\n",
      "Epoch:10 Iter: 1800 errD_x: 0.43 errD_z: 0.21 errG: 2.09\n",
      "Epoch:10 Iter: 1900 errD_x: 0.50 errD_z: 0.14 errG: 2.24\n",
      "Epoch:10 Iter: 2000 errD_x: 0.30 errD_z: 0.21 errG: 1.92\n",
      "Epoch:10 Iter: 2100 errD_x: 0.10 errD_z: 0.36 errG: 1.96\n",
      "Epoch:10 Iter: 2200 errD_x: 0.68 errD_z: 0.15 errG: 1.76\n",
      "Epoch:10 Iter: 2300 errD_x: 0.13 errD_z: 0.21 errG: 2.11\n",
      "Epoch:10 Iter: 2400 errD_x: 0.40 errD_z: 0.30 errG: 2.37\n",
      "Epoch:10 Iter: 2500 errD_x: 0.25 errD_z: 0.26 errG: 1.67\n",
      "Epoch:10 Iter: 2600 errD_x: 0.33 errD_z: 0.10 errG: 2.49\n",
      "Epoch:10 Iter: 2700 errD_x: 0.41 errD_z: 0.27 errG: 1.85\n",
      "Epoch:10 Iter: 2800 errD_x: 0.37 errD_z: 0.19 errG: 2.49\n",
      "Epoch:10 Iter: 2900 errD_x: 0.85 errD_z: 0.06 errG: 2.84\n",
      "Epoch:10 Iter: 3000 errD_x: 0.50 errD_z: 0.30 errG: 1.44\n",
      "Epoch:10 Iter: 3100 errD_x: 0.35 errD_z: 0.10 errG: 2.81\n",
      "Epoch:10 Iter: 3200 errD_x: 0.92 errD_z: 0.19 errG: 1.74\n",
      "Epoch:10 Iter: 3300 errD_x: 0.27 errD_z: 0.29 errG: 2.01\n",
      "Epoch:10 Iter: 3400 errD_x: 0.33 errD_z: 0.21 errG: 2.28\n",
      "Epoch:10 Iter: 3500 errD_x: 0.52 errD_z: 0.14 errG: 2.20\n",
      "Epoch:10 Iter: 3600 errD_x: 0.44 errD_z: 0.42 errG: 1.58\n",
      "Epoch:10 Iter: 3700 errD_x: 0.33 errD_z: 0.12 errG: 2.68\n"
     ]
    }
   ],
   "source": [
    "ERRD_x = np.zeros(config.num_epochs)\n",
    "ERRD_z = np.zeros(config.num_epochs)\n",
    "ERRG = np.zeros(config.num_epochs)\n",
    "N = len(dataloader)\n",
    "\n",
    "for epoch in range(config.num_epochs):\n",
    "    for iteration, (images, cat) in enumerate(dataloader):\n",
    "        ####### \n",
    "        # Discriminator stage: maximize log(D(x)) + log(1 - D(G(z))) \n",
    "        #######\n",
    "        discriminator.zero_grad()\n",
    "        \n",
    "        # real\n",
    "        label.data.fill_(real_label)\n",
    "        input_data = images.view(images.shape[0], -1)\n",
    "        output = discriminator(input_data)\n",
    "        errD_x = criterion(output, label)\n",
    "        ERRD_x[epoch] += errD_x.item()\n",
    "        errD_x.backward()\n",
    "        \n",
    "        # fake \n",
    "        noise.data.normal_(0, 1)\n",
    "        fake = generator(noise)\n",
    "        label.data.fill_(fake_label)\n",
    "        output = discriminator(fake.detach())\n",
    "        errD_z = criterion(output, label)\n",
    "        ERRD_z[epoch] += errD_z.item()\n",
    "        errD_z.backward()\n",
    "        \n",
    "        optim_D.step()\n",
    "        \n",
    "        ####### \n",
    "        # Generator stage: maximize log(D(G(x))\n",
    "        #######\n",
    "        generator.zero_grad()\n",
    "        label.data.fill_(real_label)\n",
    "        output = discriminator(fake)\n",
    "        errG = criterion(output, label)\n",
    "        ERRG[epoch] += errG.item()\n",
    "        errG.backward()\n",
    "        \n",
    "        optim_G.step()\n",
    "        \n",
    "        if (iteration+1) % config.print_freq == 0:\n",
    "            print('Epoch:{} Iter: {} errD_x: {:.2f} errD_z: {:.2f} errG: {:.2f}'.format(epoch+1,\n",
    "                                                                                            iteration+1, \n",
    "                                                                                            errD_x.item(),\n",
    "                                                                                            errD_z.item(), \n",
    "                                                                                            errG.item()))"
   ]
  },
  {
   "cell_type": "code",
   "execution_count": 14,
   "metadata": {},
   "outputs": [
    {
     "data": {
      "image/png": "[encoded data removed]",
      "text/plain": [
       "<Figure size 432x504 with 16 Axes>"
      ]
     },
     "metadata": {
      "needs_background": "light"
     },
     "output_type": "display_data"
    }
   ],
   "source": [
    "noise.data.normal_(0, 1)\n",
    "fake = generator(noise)\n",
    "\n",
    "plt.figure(figsize=(6, 7))\n",
    "for i in range(16):\n",
    "    plt.subplot(4, 4, i + 1)\n",
    "    plt.imshow(fake[i].detach().numpy().reshape(28, 28), cmap=plt.cm.Greys_r)\n",
    "    plt.axis('off')"
   ]
  },
  {
   "cell_type": "code",
   "execution_count": null,
   "metadata": {},
   "outputs": [],
   "source": []
  }
 ],
 "metadata": {
  "anaconda-cloud": {},
  "kernelspec": {
   "display_name": "Python 3",
   "language": "python",
   "name": "python3"
  },
  "language_info": {
   "codemirror_mode": {
    "name": "ipython",
    "version": 3
   },
   "file_extension": ".py",
   "mimetype": "text/x-python",
   "name": "python",
   "nbconvert_exporter": "python",
   "pygments_lexer": "ipython3",
   "version": "3.6.9"
  }
 },
 "nbformat": 4,
 "nbformat_minor": 1
}
